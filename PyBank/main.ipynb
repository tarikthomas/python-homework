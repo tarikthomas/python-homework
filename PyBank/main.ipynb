{
 "cells": [
  {
   "cell_type": "code",
   "execution_count": 11,
   "id": "23d31aec-ebbf-45b7-b86d-1adcda25d45a",
   "metadata": {},
   "outputs": [
    {
     "name": "stdout",
     "output_type": "stream",
     "text": [
      "Resources/budget_data.csv\n",
      "Financial Analysis\n",
      "----------------------------\n",
      "Total Months: 86\n",
      "Total: $38382578\n",
      "Average  Change: $446309.05\n",
      "Greatest Increase in Profits: Feb-2012 (1170593)\n",
      "Greatest Decrease in Profits: Sep-2013 (-1196225)\n"
     ]
    }
   ],
   "source": [
    "import csv\n",
    "from pathlib import Path\n",
    "#opens csv file\n",
    "csv_path = Path(\"Resources/budget_data.csv\")\n",
    "print(csv_path)\n",
    "with open(csv_path, 'r') as csv_file:\n",
    "    csv_reader = csv.reader(csv_file)\n",
    "    next(csv_reader)\n",
    "    month_count=[]\n",
    "    net_profit=[]\n",
    "    \n",
    "    \n",
    "    for line in csv_reader:\n",
    "        month_count.append(line[0])\n",
    "        net_profit.append(line[1])\n",
    "    num_month=len(month_count)\n",
    "\n",
    "    \n",
    "#find the total\n",
    "    total = 0\n",
    "    #had to use negative 1 because if i did 0 it would go out of range, there probably is an in built function is python so i wouldn't have to do this but i forgot it\n",
    "    element = -1\n",
    "    for number in net_profit:\n",
    "        element = element + 1\n",
    "        total = total + int(net_profit[element])\n",
    "\n",
    "#find the average   \n",
    "    average = str(round((total/num_month), 2))\n",
    "\n",
    "#find the highestProfit and highest day of profit    \n",
    "    highestProfit = 0\n",
    "    for price in net_profit:\n",
    "        if int(price) > highestProfit:\n",
    "            highestProfit = int(price)\n",
    "    date_highestProfit = month_count[net_profit.index(str(highestProfit))]\n",
    "\n",
    "#find the greatest loss and date of greates loss    \n",
    "    highestLoss = 0\n",
    "    for price in net_profit:\n",
    "        if int(price) < highestLoss:\n",
    "            highestLoss = int(price)\n",
    "    date_highestLoss = month_count[net_profit.index(str(highestLoss))]\n",
    "\n",
    "    \n",
    "print(\"\"\"Financial Analysis\n",
    "----------------------------\"\"\")\n",
    "print(f\"Total Months: {num_month}\")\n",
    "print(f\"Total: ${total}\")\n",
    "print(f\"Average  Change: ${average}\")\n",
    "print(f\"Greatest Increase in Profits: {date_highestProfit} ({highestProfit})\")\n",
    "print(f\"Greatest Decrease in Profits: {date_highestLoss} ({highestLoss})\")"
   ]
  },
  {
   "cell_type": "code",
   "execution_count": null,
   "id": "4a9c7eb3-4d53-4174-8d3a-6712d47128f9",
   "metadata": {},
   "outputs": [],
   "source": []
  }
 ],
 "metadata": {
  "kernelspec": {
   "display_name": "Python 3 (ipykernel)",
   "language": "python",
   "name": "python3"
  },
  "language_info": {
   "codemirror_mode": {
    "name": "ipython",
    "version": 3
   },
   "file_extension": ".py",
   "mimetype": "text/x-python",
   "name": "python",
   "nbconvert_exporter": "python",
   "pygments_lexer": "ipython3",
   "version": "3.7.11"
  }
 },
 "nbformat": 4,
 "nbformat_minor": 5
}
