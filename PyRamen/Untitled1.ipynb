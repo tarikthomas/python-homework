{
 "cells": [
  {
   "cell_type": "code",
   "execution_count": 3,
   "id": "7ca3e249-ace5-4f1e-8ddc-82bd515384e8",
   "metadata": {},
   "outputs": [
    {
     "name": "stdout",
     "output_type": "stream",
     "text": [
      "the current working directory is : /Users/tarikthomas/Desktop/python-homework/PyRamen\n",
      "item,category,description,price,cost\n",
      "edamame,appetizers,\"boiled soybeans, maldon sea salt\",4,1\n",
      "house salad,appetizers,\"mixed greens, cherry tomatoes, cucumber, house ginger dressing\",4,2\n",
      "cucumber sunomono salad,appetizers,\"cucumber, ponzu dressing, pickled ginger sproud, sesame seeds\",5,2\n",
      "hiyashi wakame seaweed salad,appetizers,\"sweet soy-marinated wakame seaweed threads, pickled ginger sprout, sesame seeds\",5,2\n",
      "agedashi tofu,appetizers,\"tempura battered tofu, katsuobushi, tsuyu broth, scallions\",5,2\n",
      "hiyayakko tofu,appetizers,\"chilled soft tofu, house shoyu, katsuobushi, ginger, scallions\",5,2\n",
      "pork floss bao,appetizers,\"two steamed buns, minced lean slow braised niman, ranch pork belly, cucumbers, sriracha mayo\",4,2\n",
      "kakuni bao,appetizers,\"two steamed buns, chopped fatty slow braised niman ranch pork belly, cucumbers, house bao sauce\",6,3\n",
      "edamame fried gyoza (vegan),appetizers,six crispy fried edamame and cabbage pot stickers; ponzu rayu dipping sauce,6,3\n",
      "fried gyoza,appetizers,six cripsy fried pork and vegetable pot stickers; ponzu rayu dipping sauce,6,6\n",
      "takoyaki,appetizers,\"six octopus-filled fried fritters, kewpie mayo, okonomi sauce, aonori, katsuobushi, nori\",6,3\n",
      "rock shrimp tempura,appetizers,\"deep fried tempura battered rock shrimp, sriracha mayo, nisume sauce, aonori, scallions\",6,3\n",
      "soft-shell crab tempura,appetizers,\"single deep fried soft-shell crab, tsuyu dipping broth\",6,3\n",
      "ebi katsu shrimp bao,appetizers,\"two steamed buns, panko-crusted fried shrimp patties, yuzu-kosho mayo, aonori, scallions\",6,3\n",
      "nagomi shoyu,entree,\"shoyu seasoned clear double stock (organic chick broth + house dashi); slow braised niman ranch pork belly, hanjuku tamago, nori, menma, scallions\",11,5\n",
      "shio ramen,entree,\"sea salt seasoned clear double stock (organic chicken broth + house dashi); slow braised niman ranch pork belly, hanjuku tamago, kikurage, nori, scallions\",11,5\n",
      "spicy miso ramen,entree,\"house togarashi miso blend + niman ranch pork bone stock; slow braised niman ranch pork belly, hanjuku tamago, kikurage, nori, scallions\",12,5\n",
      "vegetarian spicy miso,entree,\"house togarashi miso blend + vegan dashi; tempura fried tofu, sweet corn, edamame, kikurage, nori, scallions; organic soy milk upon request\",12,5\n",
      "miso crab ramen,entree,\"house miso crab blend + vegan dashi; slow braised niman ranch pork belly, crab meat, hanjuku tamago, kikurage, nori, scallions\",12,6\n",
      "soft-shell miso crab ramen,entree,\"house miso crab blend + vegan dashi; fried whole soft-shell crab, hanjuku tamago, kikurage, nori, scallions\",14,7\n",
      "tori paitan ramen,entree,\"rich, shoyu seasoned double stock (organic chicken broth + house dashi); slow braised niman ranch pork belly, hanuku tamago, kikurage, nori, scllaions\",13,6\n",
      "tonkotsu ramen,entree,\"rich, shoyi seasoned niman ranch pork bone stock; slow braised niman ranch pork belly, hanjuku tamago, kikurage, nori, spring radish, scallions\",13,6\n",
      "burnt garlic tonkotsu ramen,entree,\"rich, shoyi and burnt garlic seasoned niman ranch pork bone stock; slow braised niman ranch pork belly, hanjuku tamago, kikurage, sweet corn, nori, scallions\",14,6\n",
      "vegetarian curry + king trumpet mushroom ramen,entree,\"house curry blend + vegan dashi; fried king trumpet mushroom, tempura fried tofu, mung bean sprouts, kikurage, nori, scallions\",13,7\n",
      "truffle butter ramen,entree,\"rich, shoyu seasoned niman ranch prok bone stock; truffle compound butter, slow braised niman ranch pork belly, kikurage, sweet corn, nori, scallions\",14,7\n",
      "green tea,drinks,green tea,2.5,1\n",
      "coke,drinks,Coca Cola soda,2,1\n",
      "black sesame ice cream,desserts,\"house-made black sesame ice cream, valrhona chocolate threads, complimentary hojicha\",5,2\n",
      "matcha ice cream,desserts,\"house-made matcha ice cream, white chocolate pearls; complimentary hojicha\",5,2\n",
      "mango mochi ice cream,desserts,two rice-cake bonbons filled with strawberry ice cream; complimentary hojicha,5,2\n",
      "strawberry mochi ice cream,desserts,two rice-cake bonbons filled with strawberry ice cream; complimentary hojicha,5,2\n",
      "black sesame creme brulee,desserts,house made black sesame infused creme brulee; complimentary hojicha,6,3\n",
      "\n"
     ]
    }
   ],
   "source": [
    "from pathlib import Path\n",
    "print(f\"the current working directory is : {Path.cwd()}\")\n",
    "file_path = Path(\"../PyRamen/menu_data.csv\")\n",
    "with open(file_path, 'r') as file:\n",
    "    menu = file.read()\n",
    "    print(menu)"
   ]
  },
  {
   "cell_type": "code",
   "execution_count": null,
   "id": "1e2877dc-fb2e-42b0-a8f1-dba5de6d7902",
   "metadata": {},
   "outputs": [],
   "source": []
  }
 ],
 "metadata": {
  "kernelspec": {
   "display_name": "Python 3 (ipykernel)",
   "language": "python",
   "name": "python3"
  },
  "language_info": {
   "codemirror_mode": {
    "name": "ipython",
    "version": 3
   },
   "file_extension": ".py",
   "mimetype": "text/x-python",
   "name": "python",
   "nbconvert_exporter": "python",
   "pygments_lexer": "ipython3",
   "version": "3.7.11"
  }
 },
 "nbformat": 4,
 "nbformat_minor": 5
}
