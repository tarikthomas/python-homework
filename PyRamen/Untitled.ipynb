{
 "cells": [
  {
   "cell_type": "code",
   "execution_count": 21,
   "id": "791a7a9b-2db3-48f4-b8f4-9216292e97cc",
   "metadata": {},
   "outputs": [
    {
     "name": "stdout",
     "output_type": "stream",
     "text": [
      "6802\n"
     ]
    }
   ],
   "source": [
    "import csv\n",
    "with open ('menu_data.csv', 'r') as menu_file:\n",
    "    menu_reader = csv.reader(menu_file)\n",
    "    next(menu_reader)\n",
    "\n",
    "    items = []\n",
    "    category = []\n",
    "    description = []\n",
    "    price = []\n",
    "    cost = []\n",
    "    for line in menu_reader:\n",
    "        items.append(line[0])\n",
    "        category.append(line[1])\n",
    "        description.append(line[2])\n",
    "        price.append(line[3])\n",
    "        cost.append(line[4])\n",
    "    menu = [items, category, description, price, cost]\n",
    "\n",
    "with open ('sales_data.csv', 'r') as sales_file:\n",
    "    sale_reader = csv.reader(sales_file)\n",
    "    next(sale_reader)\n",
    "    \n",
    "    Line_Item_ID = []\n",
    "    Date = []\n",
    "    Credit_Card_Number = []\n",
    "    Quantity = []\n",
    "    Menu_Item = []\n",
    "    for line in sale_reader:\n",
    "        Line_Item_ID.append(line[0])\n",
    "        Date.append(line[1])\n",
    "        Credit_Card_Number.append(line[2])\n",
    "        Quantity.append(line[3])\n",
    "        Menu_Item.append(line[4])\n",
    "    sales_list = [Line_Item_ID, Date, Credit_Card_Number, Quantity, Menu_Item]\n",
    "    \n",
    "    report = {}\n",
    "    \n",
    "#     for item in Menu_Item:\n",
    "#         for dish in items:\n",
    "#             if item == dish:\n",
    "#                 report[dish] = [Menu_Item.index(item)]\n",
    "\n",
    "    # for dish in items:\n",
    "    #     report[dish] = \"\"\n",
    "    #     for item in Menu_Item:\n",
    "    #         if item == dish:\n",
    "    #             report[dish] = [Menu_Item.index(item)]\n",
    "    edamameC = 0\n",
    "    for item in Menu_Item:\n",
    "        if item == 'spicy miso ramen':\n",
    "            edamameC = edamameC + int(Quantity[Menu_Item.index(item)])\n",
    "    print (edamameC)\n",
    "            \n",
    "def quantity(menu_item):\n",
    "    "
   ]
  },
  {
   "cell_type": "code",
   "execution_count": null,
   "id": "e5931f90-c368-4ed8-972c-9e104ca2e9fb",
   "metadata": {},
   "outputs": [],
   "source": []
  }
 ],
 "metadata": {
  "kernelspec": {
   "display_name": "Python 3 (ipykernel)",
   "language": "python",
   "name": "python3"
  },
  "language_info": {
   "codemirror_mode": {
    "name": "ipython",
    "version": 3
   },
   "file_extension": ".py",
   "mimetype": "text/x-python",
   "name": "python",
   "nbconvert_exporter": "python",
   "pygments_lexer": "ipython3",
   "version": "3.7.11"
  }
 },
 "nbformat": 4,
 "nbformat_minor": 5
}
