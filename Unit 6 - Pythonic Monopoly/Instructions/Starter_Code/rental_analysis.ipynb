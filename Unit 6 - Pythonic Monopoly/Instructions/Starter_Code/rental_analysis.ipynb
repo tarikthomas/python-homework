{
 "cells": [
  {
   "cell_type": "markdown",
   "metadata": {},
   "source": [
    "# Toronto Dwellings Analysis\n",
    "\n",
    "In this assignment, you will perform fundamental analysis for the Toronto dwellings market to allow potential real estate investors to choose rental investment properties."
   ]
  },
  {
   "cell_type": "code",
   "execution_count": 29,
   "metadata": {},
   "outputs": [],
   "source": [
    "# imports\n",
    "import panel as pn\n",
    "pn.extension('plotly')\n",
    "import plotly.express as px\n",
    "import pandas as pd\n",
    "import hvplot.pandas\n",
    "import matplotlib.pyplot as plt\n",
    "import os\n",
    "from pathlib import Path\n",
    "from dotenv import load_dotenv"
   ]
  },
  {
   "cell_type": "code",
   "execution_count": 30,
   "metadata": {},
   "outputs": [],
   "source": [
    "# Read the Mapbox API key\n",
    "load_dotenv()\n",
    "map_box_api = os.getenv(\"mapbox\")"
   ]
  },
  {
   "cell_type": "markdown",
   "metadata": {},
   "source": [
    "## Load Data"
   ]
  },
  {
   "cell_type": "code",
   "execution_count": 31,
   "metadata": {},
   "outputs": [
    {
     "data": {
      "text/html": [
       "<div>\n",
       "<style scoped>\n",
       "    .dataframe tbody tr th:only-of-type {\n",
       "        vertical-align: middle;\n",
       "    }\n",
       "\n",
       "    .dataframe tbody tr th {\n",
       "        vertical-align: top;\n",
       "    }\n",
       "\n",
       "    .dataframe thead th {\n",
       "        text-align: right;\n",
       "    }\n",
       "</style>\n",
       "<table border=\"1\" class=\"dataframe\">\n",
       "  <thead>\n",
       "    <tr style=\"text-align: right;\">\n",
       "      <th></th>\n",
       "      <th>neighbourhood</th>\n",
       "      <th>single_detached_house</th>\n",
       "      <th>apartment_five_storeys_plus</th>\n",
       "      <th>movable_dwelling</th>\n",
       "      <th>semi_detached_house</th>\n",
       "      <th>row_house</th>\n",
       "      <th>duplex</th>\n",
       "      <th>apartment_five_storeys_less</th>\n",
       "      <th>other_house</th>\n",
       "      <th>average_house_value</th>\n",
       "      <th>shelter_costs_owned</th>\n",
       "      <th>shelter_costs_rented</th>\n",
       "    </tr>\n",
       "    <tr>\n",
       "      <th>year</th>\n",
       "      <th></th>\n",
       "      <th></th>\n",
       "      <th></th>\n",
       "      <th></th>\n",
       "      <th></th>\n",
       "      <th></th>\n",
       "      <th></th>\n",
       "      <th></th>\n",
       "      <th></th>\n",
       "      <th></th>\n",
       "      <th></th>\n",
       "      <th></th>\n",
       "    </tr>\n",
       "  </thead>\n",
       "  <tbody>\n",
       "    <tr>\n",
       "      <th>2001</th>\n",
       "      <td>Agincourt North</td>\n",
       "      <td>3715</td>\n",
       "      <td>1480</td>\n",
       "      <td>0</td>\n",
       "      <td>1055</td>\n",
       "      <td>1295</td>\n",
       "      <td>195</td>\n",
       "      <td>185</td>\n",
       "      <td>5</td>\n",
       "      <td>200388</td>\n",
       "      <td>810</td>\n",
       "      <td>870</td>\n",
       "    </tr>\n",
       "    <tr>\n",
       "      <th>2001</th>\n",
       "      <td>Agincourt South-Malvern West</td>\n",
       "      <td>3250</td>\n",
       "      <td>1835</td>\n",
       "      <td>0</td>\n",
       "      <td>545</td>\n",
       "      <td>455</td>\n",
       "      <td>105</td>\n",
       "      <td>425</td>\n",
       "      <td>0</td>\n",
       "      <td>203047</td>\n",
       "      <td>806</td>\n",
       "      <td>892</td>\n",
       "    </tr>\n",
       "    <tr>\n",
       "      <th>2001</th>\n",
       "      <td>Alderwood</td>\n",
       "      <td>3175</td>\n",
       "      <td>315</td>\n",
       "      <td>0</td>\n",
       "      <td>470</td>\n",
       "      <td>50</td>\n",
       "      <td>185</td>\n",
       "      <td>370</td>\n",
       "      <td>0</td>\n",
       "      <td>259998</td>\n",
       "      <td>817</td>\n",
       "      <td>924</td>\n",
       "    </tr>\n",
       "    <tr>\n",
       "      <th>2001</th>\n",
       "      <td>Annex</td>\n",
       "      <td>1060</td>\n",
       "      <td>6090</td>\n",
       "      <td>5</td>\n",
       "      <td>1980</td>\n",
       "      <td>605</td>\n",
       "      <td>275</td>\n",
       "      <td>3710</td>\n",
       "      <td>165</td>\n",
       "      <td>453850</td>\n",
       "      <td>1027</td>\n",
       "      <td>1378</td>\n",
       "    </tr>\n",
       "    <tr>\n",
       "      <th>2001</th>\n",
       "      <td>Banbury-Don Mills</td>\n",
       "      <td>3615</td>\n",
       "      <td>4465</td>\n",
       "      <td>0</td>\n",
       "      <td>240</td>\n",
       "      <td>380</td>\n",
       "      <td>15</td>\n",
       "      <td>1360</td>\n",
       "      <td>0</td>\n",
       "      <td>371864</td>\n",
       "      <td>1007</td>\n",
       "      <td>1163</td>\n",
       "    </tr>\n",
       "  </tbody>\n",
       "</table>\n",
       "</div>"
      ],
      "text/plain": [
       "                     neighbourhood  single_detached_house  \\\n",
       "year                                                        \n",
       "2001               Agincourt North                   3715   \n",
       "2001  Agincourt South-Malvern West                   3250   \n",
       "2001                     Alderwood                   3175   \n",
       "2001                         Annex                   1060   \n",
       "2001             Banbury-Don Mills                   3615   \n",
       "\n",
       "      apartment_five_storeys_plus  movable_dwelling  semi_detached_house  \\\n",
       "year                                                                       \n",
       "2001                         1480                 0                 1055   \n",
       "2001                         1835                 0                  545   \n",
       "2001                          315                 0                  470   \n",
       "2001                         6090                 5                 1980   \n",
       "2001                         4465                 0                  240   \n",
       "\n",
       "      row_house  duplex  apartment_five_storeys_less  other_house  \\\n",
       "year                                                                \n",
       "2001       1295     195                          185            5   \n",
       "2001        455     105                          425            0   \n",
       "2001         50     185                          370            0   \n",
       "2001        605     275                         3710          165   \n",
       "2001        380      15                         1360            0   \n",
       "\n",
       "      average_house_value  shelter_costs_owned  shelter_costs_rented  \n",
       "year                                                                  \n",
       "2001               200388                  810                   870  \n",
       "2001               203047                  806                   892  \n",
       "2001               259998                  817                   924  \n",
       "2001               453850                 1027                  1378  \n",
       "2001               371864                 1007                  1163  "
      ]
     },
     "execution_count": 31,
     "metadata": {},
     "output_type": "execute_result"
    }
   ],
   "source": [
    "# Read the census data into a Pandas DataFrame\n",
    "file_path = Path(\"Data/toronto_neighbourhoods_census_data.csv\")\n",
    "to_data = pd.read_csv(file_path, index_col=\"year\")\n",
    "to_data.head()"
   ]
  },
  {
   "cell_type": "markdown",
   "metadata": {},
   "source": [
    "- - - "
   ]
  },
  {
   "cell_type": "markdown",
   "metadata": {},
   "source": [
    "## Dwelling Types Per Year\n",
    "\n",
    "In this section, you will calculate the number of dwelling types per year. Visualize the results using bar charts and the Pandas plot function. \n",
    "\n",
    "**Hint:** Use the Pandas `groupby` function.\n",
    "\n",
    "**Optional challenge:** Plot each bar chart in a different color."
   ]
  },
  {
   "cell_type": "code",
   "execution_count": 32,
   "metadata": {},
   "outputs": [],
   "source": [
    "# Calculate the sum number of dwelling types units per year (hint: use groupby)\n",
    "grouped_data = to_data.groupby(['year']).sum().copy()"
   ]
  },
  {
   "cell_type": "code",
   "execution_count": 33,
   "metadata": {},
   "outputs": [
    {
     "data": {
      "text/html": [
       "<div>\n",
       "<style scoped>\n",
       "    .dataframe tbody tr th:only-of-type {\n",
       "        vertical-align: middle;\n",
       "    }\n",
       "\n",
       "    .dataframe tbody tr th {\n",
       "        vertical-align: top;\n",
       "    }\n",
       "\n",
       "    .dataframe thead th {\n",
       "        text-align: right;\n",
       "    }\n",
       "</style>\n",
       "<table border=\"1\" class=\"dataframe\">\n",
       "  <thead>\n",
       "    <tr style=\"text-align: right;\">\n",
       "      <th></th>\n",
       "      <th>2001</th>\n",
       "    </tr>\n",
       "  </thead>\n",
       "  <tbody>\n",
       "    <tr>\n",
       "      <th>single_detached_house</th>\n",
       "      <td>300930</td>\n",
       "    </tr>\n",
       "    <tr>\n",
       "      <th>apartment_five_storeys_plus</th>\n",
       "      <td>355015</td>\n",
       "    </tr>\n",
       "    <tr>\n",
       "      <th>movable_dwelling</th>\n",
       "      <td>75</td>\n",
       "    </tr>\n",
       "    <tr>\n",
       "      <th>semi_detached_house</th>\n",
       "      <td>90995</td>\n",
       "    </tr>\n",
       "    <tr>\n",
       "      <th>row_house</th>\n",
       "      <td>52355</td>\n",
       "    </tr>\n",
       "    <tr>\n",
       "      <th>duplex</th>\n",
       "      <td>23785</td>\n",
       "    </tr>\n",
       "    <tr>\n",
       "      <th>apartment_five_storeys_less</th>\n",
       "      <td>116900</td>\n",
       "    </tr>\n",
       "    <tr>\n",
       "      <th>other_house</th>\n",
       "      <td>3040</td>\n",
       "    </tr>\n",
       "    <tr>\n",
       "      <th>shelter_costs_owned</th>\n",
       "      <td>118563</td>\n",
       "    </tr>\n",
       "    <tr>\n",
       "      <th>shelter_costs_rented</th>\n",
       "      <td>152031</td>\n",
       "    </tr>\n",
       "  </tbody>\n",
       "</table>\n",
       "</div>"
      ],
      "text/plain": [
       "                               2001\n",
       "single_detached_house        300930\n",
       "apartment_five_storeys_plus  355015\n",
       "movable_dwelling                 75\n",
       "semi_detached_house           90995\n",
       "row_house                     52355\n",
       "duplex                        23785\n",
       "apartment_five_storeys_less  116900\n",
       "other_house                    3040\n",
       "shelter_costs_owned          118563\n",
       "shelter_costs_rented         152031"
      ]
     },
     "execution_count": 33,
     "metadata": {},
     "output_type": "execute_result"
    }
   ],
   "source": [
    "type(grouped_data.loc[2001,:])\n",
    "data01 = grouped_data.loc[2001,:].to_frame().drop(['average_house_value']).copy()\n",
    "data06 = grouped_data.loc[2006,:].to_frame().drop(['average_house_value']).copy()\n",
    "data11 = grouped_data.loc[2011,:].to_frame().drop(['average_house_value']).copy()\n",
    "data16 = grouped_data.loc[2016,:].to_frame().drop(['average_house_value']).copy()\n",
    "\n",
    "data01"
   ]
  },
  {
   "cell_type": "code",
   "execution_count": 34,
   "metadata": {},
   "outputs": [],
   "source": [
    "# Save the dataframe as a csv file\n",
    "# YOUR CODE HERE!"
   ]
  },
  {
   "cell_type": "code",
   "execution_count": 35,
   "metadata": {},
   "outputs": [],
   "source": [
    "# Helper create_bar_chart function\n",
    "def create_bar_chart(data,title,xlabel,ylabel):\n",
    "    data_plot = data.plot(kind=\"bar\", title=title, xlabel=xlabel, ylabel=ylabel)\n",
    "    return data_plot\n",
    "    "
   ]
  },
  {
   "cell_type": "code",
   "execution_count": 36,
   "metadata": {},
   "outputs": [
    {
     "data": {
      "text/plain": [
       "<matplotlib.axes._subplots.AxesSubplot at 0x7fbfe52d8710>"
      ]
     },
     "execution_count": 36,
     "metadata": {},
     "output_type": "execute_result"
    },
    {
     "data": {
      "image/png": "[encoded data removed]",
      "text/plain": [
       "<Figure size 432x288 with 1 Axes>"
      ]
     },
     "metadata": {
      "needs_background": "light"
     },
     "output_type": "display_data"
    },
    {
     "data": {
      "image/png": "[encoded data removed]",
      "text/plain": [
       "<Figure size 432x288 with 1 Axes>"
      ]
     },
     "metadata": {
      "needs_background": "light"
     },
     "output_type": "display_data"
    },
    {
     "data": {
      "image/png": "[encoded data removed]",
      "text/plain": [
       "<Figure size 432x288 with 1 Axes>"
      ]
     },
     "metadata": {
      "needs_background": "light"
     },
     "output_type": "display_data"
    },
    {
     "data": {
      "image/png": "[encoded data removed]",
      "text/plain": [
       "<Figure size 432x288 with 1 Axes>"
      ]
     },
     "metadata": {
      "needs_background": "light"
     },
     "output_type": "display_data"
    }
   ],
   "source": [
    "# Create a bar chart per year to show the number of dwelling types\n",
    "\n",
    "# Bar chart for 2001\n",
    "create_bar_chart(data=data01, title=\"Dwelling types in Toronto in 2001\", xlabel=\"2001\", ylabel=\"Dwelling type units\")\n",
    "\n",
    "# Bar chart for 2006\n",
    "create_bar_chart(data=data06, title=\"Dwelling types in Toronto in 2006\", xlabel=\"2006\", ylabel=\"Dwelling type units\")\n",
    "\n",
    "# Bar chart for 2011\n",
    "create_bar_chart(data=data11, title=\"Dwelling types in Toronto in 2011\", xlabel=\"2011\", ylabel=\"Dwelling type units\")\n",
    "\n",
    "# Bar chart for 2016\n",
    "create_bar_chart(data=data16, title=\"Dwelling types in Toronto in 2016\", xlabel=\"2016\", ylabel=\"Dwelling type units\")"
   ]
  },
  {
   "cell_type": "markdown",
   "metadata": {},
   "source": [
    "- - - "
   ]
  },
  {
   "cell_type": "markdown",
   "metadata": {},
   "source": [
    "## Average Monthly Shelter Costs in Toronto Per Year\n",
    "\n",
    "In this section, you will calculate the average monthly shelter costs for owned and rented dwellings and the average house value for each year. Plot the results as a line chart.\n",
    "\n",
    "**Optional challenge:** Plot each line chart in a different color."
   ]
  },
  {
   "cell_type": "code",
   "execution_count": 37,
   "metadata": {},
   "outputs": [
    {
     "data": {
      "text/html": [
       "<div>\n",
       "<style scoped>\n",
       "    .dataframe tbody tr th:only-of-type {\n",
       "        vertical-align: middle;\n",
       "    }\n",
       "\n",
       "    .dataframe tbody tr th {\n",
       "        vertical-align: top;\n",
       "    }\n",
       "\n",
       "    .dataframe thead th {\n",
       "        text-align: right;\n",
       "    }\n",
       "</style>\n",
       "<table border=\"1\" class=\"dataframe\">\n",
       "  <thead>\n",
       "    <tr style=\"text-align: right;\">\n",
       "      <th></th>\n",
       "      <th>shelter_costs_owned</th>\n",
       "      <th>shelter_costs_rented</th>\n",
       "    </tr>\n",
       "    <tr>\n",
       "      <th>year</th>\n",
       "      <th></th>\n",
       "      <th></th>\n",
       "    </tr>\n",
       "  </thead>\n",
       "  <tbody>\n",
       "    <tr>\n",
       "      <th>2001</th>\n",
       "      <td>846.878571</td>\n",
       "      <td>1085.935714</td>\n",
       "    </tr>\n",
       "    <tr>\n",
       "      <th>2006</th>\n",
       "      <td>1316.800000</td>\n",
       "      <td>925.414286</td>\n",
       "    </tr>\n",
       "    <tr>\n",
       "      <th>2011</th>\n",
       "      <td>1448.214286</td>\n",
       "      <td>1019.792857</td>\n",
       "    </tr>\n",
       "    <tr>\n",
       "      <th>2016</th>\n",
       "      <td>1761.314286</td>\n",
       "      <td>1256.321429</td>\n",
       "    </tr>\n",
       "  </tbody>\n",
       "</table>\n",
       "</div>"
      ],
      "text/plain": [
       "      shelter_costs_owned  shelter_costs_rented\n",
       "year                                           \n",
       "2001           846.878571           1085.935714\n",
       "2006          1316.800000            925.414286\n",
       "2011          1448.214286           1019.792857\n",
       "2016          1761.314286           1256.321429"
      ]
     },
     "execution_count": 37,
     "metadata": {},
     "output_type": "execute_result"
    }
   ],
   "source": [
    "# Calculate the average monthly shelter costs for owned and rented dwellings\n",
    "monthlyShelterCost = to_data[['shelter_costs_owned','shelter_costs_rented']].copy()\n",
    "monthlyShelterCost.reset_index()\n",
    "monthlyShelterCost=monthlyShelterCost.groupby(['year']).mean().copy()\n",
    "monthlyShelterCost\n"
   ]
  },
  {
   "cell_type": "code",
   "execution_count": 38,
   "metadata": {},
   "outputs": [],
   "source": [
    "# Helper create_line_chart function\n",
    "def create_line_chart(data, title, xlabel, ylabel):\n",
    "    data_plot = data.plot.line(title=title, xlabel=xlabel, ylabel=ylabel)\n",
    "    return data_plot"
   ]
  },
  {
   "cell_type": "code",
   "execution_count": null,
   "metadata": {},
   "outputs": [],
   "source": [
    "\n"
   ]
  },
  {
   "cell_type": "code",
   "execution_count": 39,
   "metadata": {},
   "outputs": [
    {
     "data": {
      "text/plain": [
       "<matplotlib.axes._subplots.AxesSubplot at 0x7fbfff15d410>"
      ]
     },
     "execution_count": 39,
     "metadata": {},
     "output_type": "execute_result"
    },
    {
     "data": {
      "image/png": "[encoded data removed]",
      "text/plain": [
       "<Figure size 432x288 with 1 Axes>"
      ]
     },
     "metadata": {
      "needs_background": "light"
     },
     "output_type": "display_data"
    }
   ],
   "source": [
    "# Create two line charts, one to plot the monthly shelter costs for owned dwelleing and other for rented dwellings per year\n",
    "\n",
    "# Line chart for owned dwellings\n",
    "create_line_chart(monthlyShelterCost['shelter_costs_owned'], title='Average Monthly Shelter Cost for Owned Dwellings in Toronto', xlabel='year', ylabel='Avg Monthly Shelter Costs')\n"
   ]
  },
  {
   "cell_type": "code",
   "execution_count": 40,
   "metadata": {},
   "outputs": [
    {
     "data": {
      "text/plain": [
       "<matplotlib.axes._subplots.AxesSubplot at 0x7fbfe6ba0950>"
      ]
     },
     "execution_count": 40,
     "metadata": {},
     "output_type": "execute_result"
    },
    {
     "data": {
      "image/png": "[encoded data removed]",
      "text/plain": [
       "<Figure size 432x288 with 1 Axes>"
      ]
     },
     "metadata": {
      "needs_background": "light"
     },
     "output_type": "display_data"
    }
   ],
   "source": [
    "# Line chart for rented dwellings\n",
    "create_line_chart(monthlyShelterCost['shelter_costs_rented'], title='Average Monthly Shelter Cost for Owned Rented in Toronto', xlabel='year', ylabel='Avg Monthly Shelter Costs')"
   ]
  },
  {
   "cell_type": "markdown",
   "metadata": {},
   "source": [
    "## Average House Value per Year\n",
    "\n",
    "In this section, you want to determine the average house value per year. An investor may want to understand better the sales price of the rental property over time. For example, a customer will want to know if they should expect an increase or decrease in the property value over time so they can determine how long to hold the rental property. You will visualize the `average_house_value` per year as a bar chart."
   ]
  },
  {
   "cell_type": "code",
   "execution_count": 41,
   "metadata": {},
   "outputs": [],
   "source": [
    "average_house_value = to_data[['average_house_value']].copy()\n",
    "average_house_value.reset_index()\n",
    "average_house_value = average_house_value.groupby(['year']).mean().copy()"
   ]
  },
  {
   "cell_type": "code",
   "execution_count": 42,
   "metadata": {},
   "outputs": [],
   "source": [
    "# Calculate the average house value per year\n"
   ]
  },
  {
   "cell_type": "code",
   "execution_count": 43,
   "metadata": {},
   "outputs": [
    {
     "data": {
      "text/plain": [
       "<matplotlib.axes._subplots.AxesSubplot at 0x7fbfe6b4ae90>"
      ]
     },
     "execution_count": 43,
     "metadata": {},
     "output_type": "execute_result"
    },
    {
     "data": {
      "image/png": "[encoded data removed]",
      "text/plain": [
       "<Figure size 432x288 with 1 Axes>"
      ]
     },
     "metadata": {
      "needs_background": "light"
     },
     "output_type": "display_data"
    }
   ],
   "source": [
    "# Plot the average house value per year as a line chart\n",
    "average_house_value.plot.line(title = 'average house value per year')"
   ]
  },
  {
   "cell_type": "markdown",
   "metadata": {},
   "source": [
    "- - - "
   ]
  },
  {
   "cell_type": "markdown",
   "metadata": {},
   "source": [
    "## Average House Value by Neighbourhood\n",
    "\n",
    "In this section, you will use `hvplot` to create an interactive visualization of the average house value with a dropdown selector for the neighbourhood.\n",
    "\n",
    "**Hint:** It will be easier to create a new DataFrame from grouping the data and calculating the mean house values for each year and neighbourhood."
   ]
  },
  {
   "cell_type": "code",
   "execution_count": 44,
   "metadata": {},
   "outputs": [
    {
     "data": {
      "text/plain": [
       "<matplotlib.axes._subplots.AxesSubplot at 0x7fbfe6c77090>"
      ]
     },
     "execution_count": 44,
     "metadata": {},
     "output_type": "execute_result"
    },
    {
     "data": {
      "image/png": "[encoded data removed]",
      "text/plain": [
       "<Figure size 432x288 with 1 Axes>"
      ]
     },
     "metadata": {
      "needs_background": "light"
     },
     "output_type": "display_data"
    }
   ],
   "source": [
    "# Create a new DataFrame with the mean house values by neighbourhood per year\n",
    "neighbourhoodData = to_data[['neighbourhood','average_house_value']].copy()\n",
    "neighbourhoodData.reset_index()\n",
    "neighbourhoodData= neighbourhoodData.groupby(['year','neighbourhood']).mean().copy()\n",
    "neighbourhoodData.reset_index()\n",
    "\n",
    "neighbourhoodData.plot.line()"
   ]
  },
  {
   "cell_type": "code",
   "execution_count": 45,
   "metadata": {},
   "outputs": [
    {
     "data": {},
     "metadata": {},
     "output_type": "display_data"
    },
    {
     "data": {
      "application/vnd.holoviews_exec.v0+json": "",
      "text/html": [
       "<div id='1448'>\n",
       "\n",
       "\n",
       "\n",
       "\n",
       "\n",
       "  <div class=\"bk-root\" id=\"127d8e11-6b61-4213-96ce-46c39e07e1f3\" data-root-id=\"1448\"></div>\n",
       "</div>\n",
       "<script type=\"application/javascript\">(function(root) {\n",
       "  function embed_document(root) {\n",
       "    var docs_json = {\"9eabae2f-6819-48a4-88b0-92b4674b6c2f\":{\"defs\":[{\"extends\":null,\"module\":null,\"name\":\"ReactiveHTML1\",\"overrides\":[],\"properties\":[]},{\"extends\":null,\"module\":null,\"name\":\"FlexBox1\",\"overrides\":[],\"properties\":[{\"default\":\"flex-start\",\"kind\":null,\"name\":\"align_content\"},{\"default\":\"flex-start\",\"kind\":null,\"name\":\"align_items\"},{\"default\":\"row\",\"kind\":null,\"name\":\"flex_direction\"},{\"default\":\"wrap\",\"kind\":null,\"name\":\"flex_wrap\"},{\"default\":\"flex-start\",\"kind\":null,\"name\":\"justify_content\"}]},{\"extends\":null,\"module\":null,\"name\":\"TemplateActions1\",\"overrides\":[],\"properties\":[{\"default\":0,\"kind\":null,\"name\":\"open_modal\"},{\"default\":0,\"kind\":null,\"name\":\"close_modal\"}]},{\"extends\":null,\"module\":null,\"name\":\"MaterialTemplateActions1\",\"overrides\":[],\"properties\":[{\"default\":0,\"kind\":null,\"name\":\"open_modal\"},{\"default\":0,\"kind\":null,\"name\":\"close_modal\"}]}],\"roots\":{\"references\":[{\"attributes\":{},\"id\":\"1471\",\"type\":\"PanTool\"},{\"attributes\":{},\"id\":\"1493\",\"type\":\"BasicTickFormatter\"},{\"attributes\":{\"below\":[{\"id\":\"1462\"}],\"center\":[{\"id\":\"1465\"},{\"id\":\"1469\"}],\"height\":300,\"left\":[{\"id\":\"1466\"}],\"margin\":[5,5,5,5],\"min_border_bottom\":10,\"min_border_left\":10,\"min_border_right\":10,\"min_border_top\":10,\"renderers\":[{\"id\":\"1489\"}],\"sizing_mode\":\"fixed\",\"title\":{\"id\":\"1454\"},\"toolbar\":{\"id\":\"1476\"},\"x_range\":{\"id\":\"1450\"},\"x_scale\":{\"id\":\"1458\"},\"y_range\":{\"id\":\"1451\"},\"y_scale\":{\"id\":\"1460\"}},\"id\":\"1453\",\"subtype\":\"Figure\",\"type\":\"Plot\"},{\"attributes\":{},\"id\":\"1472\",\"type\":\"WheelZoomTool\"},{\"attributes\":{\"margin\":[5,5,5,5],\"name\":\"HSpacer02217\",\"sizing_mode\":\"stretch_width\"},\"id\":\"1449\",\"type\":\"Spacer\"},{\"attributes\":{\"line_alpha\":0.2,\"line_color\":\"#30a2da\",\"line_width\":2,\"x\":{\"field\":\"year\"},\"y\":{\"field\":\"average_house_value\"}},\"id\":\"1488\",\"type\":\"Line\"},{\"attributes\":{\"overlay\":{\"id\":\"1475\"}},\"id\":\"1473\",\"type\":\"BoxZoomTool\"},{\"attributes\":{},\"id\":\"1496\",\"type\":\"BasicTickFormatter\"},{\"attributes\":{},\"id\":\"1484\",\"type\":\"Selection\"},{\"attributes\":{\"coordinates\":null,\"group\":null,\"text\":\"neighbourhood: Agincourt North\",\"text_color\":\"black\",\"text_font_size\":\"12pt\"},\"id\":\"1454\",\"type\":\"Title\"},{\"attributes\":{\"margin\":[5,5,5,5],\"name\":\"VSpacer02215\",\"sizing_mode\":\"stretch_height\"},\"id\":\"1529\",\"type\":\"Spacer\"},{\"attributes\":{\"source\":{\"id\":\"1483\"}},\"id\":\"1490\",\"type\":\"CDSView\"},{\"attributes\":{\"line_alpha\":0.1,\"line_color\":\"#30a2da\",\"line_width\":2,\"x\":{\"field\":\"year\"},\"y\":{\"field\":\"average_house_value\"}},\"id\":\"1487\",\"type\":\"Line\"},{\"attributes\":{},\"id\":\"1474\",\"type\":\"ResetTool\"},{\"attributes\":{},\"id\":\"1460\",\"type\":\"LinearScale\"},{\"attributes\":{\"children\":[{\"id\":\"1449\"},{\"id\":\"1453\"},{\"id\":\"1524\"},{\"id\":\"1525\"}],\"margin\":[0,0,0,0],\"name\":\"Row02208\"},\"id\":\"1448\",\"type\":\"Row\"},{\"attributes\":{\"end\":484917.3,\"reset_end\":484917.3,\"reset_start\":174521.7,\"start\":174521.7,\"tags\":[[[\"average_house_value\",\"average_house_value\",null]]]},\"id\":\"1451\",\"type\":\"Range1d\"},{\"attributes\":{\"bottom_units\":\"screen\",\"coordinates\":null,\"fill_alpha\":0.5,\"fill_color\":\"lightgrey\",\"group\":null,\"left_units\":\"screen\",\"level\":\"overlay\",\"line_alpha\":1.0,\"line_color\":\"black\",\"line_dash\":[4,4],\"line_width\":2,\"right_units\":\"screen\",\"syncable\":false,\"top_units\":\"screen\"},\"id\":\"1475\",\"type\":\"BoxAnnotation\"},{\"attributes\":{},\"id\":\"1463\",\"type\":\"BasicTicker\"},{\"attributes\":{\"axis\":{\"id\":\"1466\"},\"coordinates\":null,\"dimension\":1,\"grid_line_color\":null,\"group\":null,\"ticker\":null},\"id\":\"1469\",\"type\":\"Grid\"},{\"attributes\":{\"children\":[{\"id\":\"1526\"},{\"id\":\"1527\"},{\"id\":\"1529\"}],\"margin\":[0,0,0,0],\"name\":\"Column02216\"},\"id\":\"1525\",\"type\":\"Column\"},{\"attributes\":{\"tools\":[{\"id\":\"1452\"},{\"id\":\"1470\"},{\"id\":\"1471\"},{\"id\":\"1472\"},{\"id\":\"1473\"},{\"id\":\"1474\"}]},\"id\":\"1476\",\"type\":\"Toolbar\"},{\"attributes\":{\"children\":[{\"id\":\"1528\"}],\"css_classes\":[\"panel-widget-box\"],\"margin\":[5,5,5,5],\"name\":\"WidgetBox02209\"},\"id\":\"1527\",\"type\":\"Column\"},{\"attributes\":{\"axis_label\":\"year\",\"coordinates\":null,\"formatter\":{\"id\":\"1493\"},\"group\":null,\"major_label_policy\":{\"id\":\"1494\"},\"ticker\":{\"id\":\"1463\"}},\"id\":\"1462\",\"type\":\"LinearAxis\"},{\"attributes\":{\"margin\":[20,20,20,20],\"min_width\":250,\"options\":[\"Agincourt North\",\"Agincourt South-Malvern West\",\"Alderwood\",\"Annex\",\"Banbury-Don Mills\",\"Bathurst Manor\",\"Bay Street Corridor\",\"Bayview Village\",\"Bayview Woods-Steeles\",\"Bedford Park-Nortown\",\"Beechborough-Greenbrook\",\"Bendale\",\"Birchcliffe-Cliffside\",\"Black Creek\",\"Blake-Jones\",\"Briar Hill-Belgravia\",\"Bridle Path-Sunnybrook-York Mills\",\"Broadview North\",\"Brookhaven-Amesbury\",\"Cabbagetown-South St.James Town\",\"Caledonia-Fairbank\",\"Casa Loma\",\"Centennial Scarborough\",\"Church-Yonge Corridor\",\"Clairlea-Birchmount\",\"Clanton Park\",\"Cliffcrest\",\"Corso Italia-Davenport\",\"Danforth\",\"Danforth-East York\",\"Don Valley Village\",\"Dorset Park\",\"Dovercourt-Wallace Emerson-Juncti\",\"Downsview-Roding-CFB\",\"Dufferin Grove\",\"East End-Danforth\",\"Edenbridge-Humber Valley\",\"Eglinton East\",\"Elms-Old Rexdale\",\"Englemount-Lawrence\",\"Eringate-Centennial-West Deane\",\"Etobicoke West Mall\",\"Flemingdon Park\",\"Forest Hill North\",\"Forest Hill South\",\"Glenfield-Jane Heights\",\"Greenwood-Coxwell\",\"Guildwood\",\"Henry Farm\",\"High Park North\",\"High Park-Swansea\",\"Highland Creek\",\"Hillcrest Village\",\"Humber Heights-Westmount\",\"Humber Summit\",\"Humbermede\",\"Humewood-Cedarvale\",\"Ionview\",\"Islington-City Centre West\",\"Junction Area\",\"Keelesdale-Eglinton West\",\"Kennedy Park\",\"Kensington-Chinatown\",\"Kingsview Village-The Westway\",\"Kingsway South\",\"L'Amoreaux\",\"Lambton Baby Point\",\"Lansing-Westgate\",\"Lawrence Park North\",\"Lawrence Park South\",\"Leaside-Bennington\",\"Little Portugal\",\"Long Branch\",\"Malvern\",\"Maple Leaf\",\"Markland Wood\",\"Milliken\",\"Mimico\",\"Morningside\",\"Moss Park\",\"Mount Dennis\",\"Mount Olive-Silverstone-Jamestown\",\"Mount Pleasant East\",\"Mount Pleasant West\",\"New Toronto\",\"Newtonbrook East\",\"Newtonbrook West\",\"Niagara\",\"North Riverdale\",\"North St.James Town\",\"O'Connor-Parkview\",\"Oakridge\",\"Oakwood Village\",\"Old East York\",\"Palmerston-Little Italy\",\"Parkwoods-Donalda\",\"Pelmo Park-Humberlea\",\"Playter Estates-Danforth\",\"Pleasant View\",\"Princess-Rosethorn\",\"Regent Park\",\"Rexdale-Kipling\",\"Rockcliffe-Smythe\",\"Roncesvalles\",\"Rosedale-Moore Park\",\"Rouge\",\"Runnymede-Bloor West Village\",\"Rustic\",\"Scarborough Village\",\"South Parkdale\",\"South Riverdale\",\"St.Andrew-Windfields\",\"Steeles\",\"Stonegate-Queensway\",\"Tam O'Shanter-Sullivan\",\"Taylor-Massey\",\"The Beaches\",\"Thistletown-Beaumond Heights\",\"Thorncliffe Park\",\"Trinity-Bellwoods\",\"University\",\"Victoria Village\",\"Waterfront Communities-The Island\",\"West Hill\",\"West Humber-Clairville\",\"Westminster-Branson\",\"Weston\",\"Weston-Pellam Park\",\"Wexford/Maryvale\",\"Willowdale East\",\"Willowdale West\",\"Willowridge-Martingrove-Richview\",\"Woburn\",\"Woodbine Corridor\",\"Woodbine-Lumsden\",\"Wychwood\",\"Yonge-Eglinton\",\"Yonge-St.Clair\",\"York University Heights\",\"Yorkdale-Glen Park\"],\"title\":\"neighbourhood\",\"value\":\"Agincourt North\",\"width\":250},\"id\":\"1528\",\"type\":\"Select\"},{\"attributes\":{\"line_color\":\"#30a2da\",\"line_width\":2,\"x\":{\"field\":\"year\"},\"y\":{\"field\":\"average_house_value\"}},\"id\":\"1486\",\"type\":\"Line\"},{\"attributes\":{\"callback\":null,\"renderers\":[{\"id\":\"1489\"}],\"tags\":[\"hv_created\"],\"tooltips\":[[\"year\",\"@{year}\"],[\"average_house_value\",\"@{average_house_value}\"]]},\"id\":\"1452\",\"type\":\"HoverTool\"},{\"attributes\":{\"axis\":{\"id\":\"1462\"},\"coordinates\":null,\"grid_line_color\":null,\"group\":null,\"ticker\":null},\"id\":\"1465\",\"type\":\"Grid\"},{\"attributes\":{\"line_color\":\"#30a2da\",\"line_width\":2,\"x\":{\"field\":\"year\"},\"y\":{\"field\":\"average_house_value\"}},\"id\":\"1491\",\"type\":\"Line\"},{\"attributes\":{\"end\":2016.0,\"reset_end\":2016.0,\"reset_start\":2001.0,\"start\":2001.0,\"tags\":[[[\"year\",\"year\",null]]]},\"id\":\"1450\",\"type\":\"Range1d\"},{\"attributes\":{\"margin\":[5,5,5,5],\"name\":\"VSpacer02214\",\"sizing_mode\":\"stretch_height\"},\"id\":\"1526\",\"type\":\"Spacer\"},{\"attributes\":{},\"id\":\"1467\",\"type\":\"BasicTicker\"},{\"attributes\":{\"axis_label\":\"average_house_value\",\"coordinates\":null,\"formatter\":{\"id\":\"1496\"},\"group\":null,\"major_label_policy\":{\"id\":\"1497\"},\"ticker\":{\"id\":\"1467\"}},\"id\":\"1466\",\"type\":\"LinearAxis\"},{\"attributes\":{},\"id\":\"1494\",\"type\":\"AllLabels\"},{\"attributes\":{\"client_comm_id\":\"7723aa79d1b74162859f3a6f69b019a5\",\"comm_id\":\"2e3934d08bc9497897ddf689a1125350\",\"plot_id\":\"1448\"},\"id\":\"1560\",\"type\":\"panel.models.comm_manager.CommManager\"},{\"attributes\":{\"data\":{\"average_house_value\":{\"__ndarray__\":\"AAAAACB2CEEAAAAAUOQRQQAAAAAsYRZBAAAAAKwEHEE=\",\"dtype\":\"float64\",\"order\":\"little\",\"shape\":[4]},\"year\":[2001,2006,2011,2016]},\"selected\":{\"id\":\"1484\"},\"selection_policy\":{\"id\":\"1511\"}},\"id\":\"1483\",\"type\":\"ColumnDataSource\"},{\"attributes\":{\"coordinates\":null,\"data_source\":{\"id\":\"1483\"},\"glyph\":{\"id\":\"1486\"},\"group\":null,\"hover_glyph\":null,\"muted_glyph\":{\"id\":\"1488\"},\"nonselection_glyph\":{\"id\":\"1487\"},\"selection_glyph\":{\"id\":\"1491\"},\"view\":{\"id\":\"1490\"}},\"id\":\"1489\",\"type\":\"GlyphRenderer\"},{\"attributes\":{},\"id\":\"1458\",\"type\":\"LinearScale\"},{\"attributes\":{},\"id\":\"1497\",\"type\":\"AllLabels\"},{\"attributes\":{},\"id\":\"1511\",\"type\":\"UnionRenderers\"},{\"attributes\":{},\"id\":\"1470\",\"type\":\"SaveTool\"},{\"attributes\":{\"margin\":[5,5,5,5],\"name\":\"HSpacer02218\",\"sizing_mode\":\"stretch_width\"},\"id\":\"1524\",\"type\":\"Spacer\"}],\"root_ids\":[\"1448\",\"1560\"]},\"title\":\"Bokeh Application\",\"version\":\"2.4.1\"}};\n",
       "    var render_items = [{\"docid\":\"9eabae2f-6819-48a4-88b0-92b4674b6c2f\",\"root_ids\":[\"1448\"],\"roots\":{\"1448\":\"127d8e11-6b61-4213-96ce-46c39e07e1f3\"}}];\n",
       "    root.Bokeh.embed.embed_items_notebook(docs_json, render_items);\n",
       "  }\n",
       "  if (root.Bokeh !== undefined && root.Bokeh.Panel !== undefined && ( root['Plotly'] !== undefined)) {\n",
       "    embed_document(root);\n",
       "  } else {\n",
       "    var attempts = 0;\n",
       "    var timer = setInterval(function(root) {\n",
       "      if (root.Bokeh !== undefined && root.Bokeh.Panel !== undefined && (root['Plotly'] !== undefined)) {\n",
       "        clearInterval(timer);\n",
       "        embed_document(root);\n",
       "      } else if (document.readyState == \"complete\") {\n",
       "        attempts++;\n",
       "        if (attempts > 200) {\n",
       "          clearInterval(timer);\n",
       "          console.log(\"Bokeh: ERROR: Unable to run BokehJS code because BokehJS library is missing\");\n",
       "        }\n",
       "      }\n",
       "    }, 25, root)\n",
       "  }\n",
       "})(window);</script>"
      ],
      "text/plain": [
       ":DynamicMap   [neighbourhood]\n",
       "   :Curve   [year]   (average_house_value)"
      ]
     },
     "execution_count": 45,
     "metadata": {
      "application/vnd.holoviews_exec.v0+json": {
       "id": "1448"
      }
     },
     "output_type": "execute_result"
    }
   ],
   "source": [
    "# Use hvplot to create an interactive line chart of the average house value per neighbourhood\n",
    "# The plot should have a dropdown selector for the neighbourhood\n",
    "neighbourhoodData.hvplot.line(x='year', y='average_house_value', width=600, \n",
    "                         groupby='neighbourhood')"
   ]
  },
  {
   "cell_type": "markdown",
   "metadata": {},
   "source": [
    "## Number of Dwelling Types per Year\n",
    "\n",
    "In this section, you will use `hvplot` to create an interactive visualization of the average number of dwelling types per year with a dropdown selector for the neighbourhood."
   ]
  },
  {
   "cell_type": "code",
   "execution_count": 46,
   "metadata": {},
   "outputs": [
    {
     "data": {
      "text/html": [
       "<div>\n",
       "<style scoped>\n",
       "    .dataframe tbody tr th:only-of-type {\n",
       "        vertical-align: middle;\n",
       "    }\n",
       "\n",
       "    .dataframe tbody tr th {\n",
       "        vertical-align: top;\n",
       "    }\n",
       "\n",
       "    .dataframe thead th {\n",
       "        text-align: right;\n",
       "    }\n",
       "</style>\n",
       "<table border=\"1\" class=\"dataframe\">\n",
       "  <thead>\n",
       "    <tr style=\"text-align: right;\">\n",
       "      <th></th>\n",
       "      <th></th>\n",
       "      <th>single_detached_house</th>\n",
       "      <th>apartment_five_storeys_plus</th>\n",
       "      <th>movable_dwelling</th>\n",
       "      <th>semi_detached_house</th>\n",
       "      <th>row_house</th>\n",
       "      <th>duplex</th>\n",
       "      <th>apartment_five_storeys_less</th>\n",
       "      <th>other_house</th>\n",
       "      <th>average_house_value</th>\n",
       "      <th>shelter_costs_owned</th>\n",
       "      <th>shelter_costs_rented</th>\n",
       "    </tr>\n",
       "    <tr>\n",
       "      <th>year</th>\n",
       "      <th>neighbourhood</th>\n",
       "      <th></th>\n",
       "      <th></th>\n",
       "      <th></th>\n",
       "      <th></th>\n",
       "      <th></th>\n",
       "      <th></th>\n",
       "      <th></th>\n",
       "      <th></th>\n",
       "      <th></th>\n",
       "      <th></th>\n",
       "      <th></th>\n",
       "    </tr>\n",
       "  </thead>\n",
       "  <tbody>\n",
       "    <tr>\n",
       "      <th rowspan=\"5\" valign=\"top\">2001</th>\n",
       "      <th>Agincourt North</th>\n",
       "      <td>3715.0</td>\n",
       "      <td>1480.0</td>\n",
       "      <td>0.0</td>\n",
       "      <td>1055.0</td>\n",
       "      <td>1295.0</td>\n",
       "      <td>195.0</td>\n",
       "      <td>185.0</td>\n",
       "      <td>5.0</td>\n",
       "      <td>200388.0</td>\n",
       "      <td>810.0</td>\n",
       "      <td>870.0</td>\n",
       "    </tr>\n",
       "    <tr>\n",
       "      <th>Agincourt South-Malvern West</th>\n",
       "      <td>3250.0</td>\n",
       "      <td>1835.0</td>\n",
       "      <td>0.0</td>\n",
       "      <td>545.0</td>\n",
       "      <td>455.0</td>\n",
       "      <td>105.0</td>\n",
       "      <td>425.0</td>\n",
       "      <td>0.0</td>\n",
       "      <td>203047.0</td>\n",
       "      <td>806.0</td>\n",
       "      <td>892.0</td>\n",
       "    </tr>\n",
       "    <tr>\n",
       "      <th>Alderwood</th>\n",
       "      <td>3175.0</td>\n",
       "      <td>315.0</td>\n",
       "      <td>0.0</td>\n",
       "      <td>470.0</td>\n",
       "      <td>50.0</td>\n",
       "      <td>185.0</td>\n",
       "      <td>370.0</td>\n",
       "      <td>0.0</td>\n",
       "      <td>259998.0</td>\n",
       "      <td>817.0</td>\n",
       "      <td>924.0</td>\n",
       "    </tr>\n",
       "    <tr>\n",
       "      <th>Annex</th>\n",
       "      <td>1060.0</td>\n",
       "      <td>6090.0</td>\n",
       "      <td>5.0</td>\n",
       "      <td>1980.0</td>\n",
       "      <td>605.0</td>\n",
       "      <td>275.0</td>\n",
       "      <td>3710.0</td>\n",
       "      <td>165.0</td>\n",
       "      <td>453850.0</td>\n",
       "      <td>1027.0</td>\n",
       "      <td>1378.0</td>\n",
       "    </tr>\n",
       "    <tr>\n",
       "      <th>Banbury-Don Mills</th>\n",
       "      <td>3615.0</td>\n",
       "      <td>4465.0</td>\n",
       "      <td>0.0</td>\n",
       "      <td>240.0</td>\n",
       "      <td>380.0</td>\n",
       "      <td>15.0</td>\n",
       "      <td>1360.0</td>\n",
       "      <td>0.0</td>\n",
       "      <td>371864.0</td>\n",
       "      <td>1007.0</td>\n",
       "      <td>1163.0</td>\n",
       "    </tr>\n",
       "    <tr>\n",
       "      <th>...</th>\n",
       "      <th>...</th>\n",
       "      <td>...</td>\n",
       "      <td>...</td>\n",
       "      <td>...</td>\n",
       "      <td>...</td>\n",
       "      <td>...</td>\n",
       "      <td>...</td>\n",
       "      <td>...</td>\n",
       "      <td>...</td>\n",
       "      <td>...</td>\n",
       "      <td>...</td>\n",
       "      <td>...</td>\n",
       "    </tr>\n",
       "    <tr>\n",
       "      <th rowspan=\"5\" valign=\"top\">2016</th>\n",
       "      <th>Wychwood</th>\n",
       "      <td>920.0</td>\n",
       "      <td>1295.0</td>\n",
       "      <td>0.0</td>\n",
       "      <td>880.0</td>\n",
       "      <td>290.0</td>\n",
       "      <td>395.0</td>\n",
       "      <td>2080.0</td>\n",
       "      <td>35.0</td>\n",
       "      <td>787760.0</td>\n",
       "      <td>1864.0</td>\n",
       "      <td>1146.0</td>\n",
       "    </tr>\n",
       "    <tr>\n",
       "      <th>Yonge-Eglinton</th>\n",
       "      <td>1400.0</td>\n",
       "      <td>1995.0</td>\n",
       "      <td>0.0</td>\n",
       "      <td>465.0</td>\n",
       "      <td>60.0</td>\n",
       "      <td>310.0</td>\n",
       "      <td>1445.0</td>\n",
       "      <td>0.0</td>\n",
       "      <td>1127052.0</td>\n",
       "      <td>2398.0</td>\n",
       "      <td>1535.0</td>\n",
       "    </tr>\n",
       "    <tr>\n",
       "      <th>Yonge-St.Clair</th>\n",
       "      <td>520.0</td>\n",
       "      <td>4315.0</td>\n",
       "      <td>0.0</td>\n",
       "      <td>450.0</td>\n",
       "      <td>220.0</td>\n",
       "      <td>130.0</td>\n",
       "      <td>1370.0</td>\n",
       "      <td>0.0</td>\n",
       "      <td>1131888.0</td>\n",
       "      <td>2192.0</td>\n",
       "      <td>1619.0</td>\n",
       "    </tr>\n",
       "    <tr>\n",
       "      <th>York University Heights</th>\n",
       "      <td>1235.0</td>\n",
       "      <td>5505.0</td>\n",
       "      <td>0.0</td>\n",
       "      <td>1360.0</td>\n",
       "      <td>775.0</td>\n",
       "      <td>280.0</td>\n",
       "      <td>995.0</td>\n",
       "      <td>0.0</td>\n",
       "      <td>425769.0</td>\n",
       "      <td>1444.0</td>\n",
       "      <td>1122.0</td>\n",
       "    </tr>\n",
       "    <tr>\n",
       "      <th>Yorkdale-Glen Park</th>\n",
       "      <td>2165.0</td>\n",
       "      <td>1185.0</td>\n",
       "      <td>0.0</td>\n",
       "      <td>80.0</td>\n",
       "      <td>600.0</td>\n",
       "      <td>465.0</td>\n",
       "      <td>830.0</td>\n",
       "      <td>5.0</td>\n",
       "      <td>599698.0</td>\n",
       "      <td>1451.0</td>\n",
       "      <td>1128.0</td>\n",
       "    </tr>\n",
       "  </tbody>\n",
       "</table>\n",
       "<p>560 rows × 11 columns</p>\n",
       "</div>"
      ],
      "text/plain": [
       "                                   single_detached_house  \\\n",
       "year neighbourhood                                         \n",
       "2001 Agincourt North                              3715.0   \n",
       "     Agincourt South-Malvern West                 3250.0   \n",
       "     Alderwood                                    3175.0   \n",
       "     Annex                                        1060.0   \n",
       "     Banbury-Don Mills                            3615.0   \n",
       "...                                                  ...   \n",
       "2016 Wychwood                                      920.0   \n",
       "     Yonge-Eglinton                               1400.0   \n",
       "     Yonge-St.Clair                                520.0   \n",
       "     York University Heights                      1235.0   \n",
       "     Yorkdale-Glen Park                           2165.0   \n",
       "\n",
       "                                   apartment_five_storeys_plus  \\\n",
       "year neighbourhood                                               \n",
       "2001 Agincourt North                                    1480.0   \n",
       "     Agincourt South-Malvern West                       1835.0   \n",
       "     Alderwood                                           315.0   \n",
       "     Annex                                              6090.0   \n",
       "     Banbury-Don Mills                                  4465.0   \n",
       "...                                                        ...   \n",
       "2016 Wychwood                                           1295.0   \n",
       "     Yonge-Eglinton                                     1995.0   \n",
       "     Yonge-St.Clair                                     4315.0   \n",
       "     York University Heights                            5505.0   \n",
       "     Yorkdale-Glen Park                                 1185.0   \n",
       "\n",
       "                                   movable_dwelling  semi_detached_house  \\\n",
       "year neighbourhood                                                         \n",
       "2001 Agincourt North                            0.0               1055.0   \n",
       "     Agincourt South-Malvern West               0.0                545.0   \n",
       "     Alderwood                                  0.0                470.0   \n",
       "     Annex                                      5.0               1980.0   \n",
       "     Banbury-Don Mills                          0.0                240.0   \n",
       "...                                             ...                  ...   \n",
       "2016 Wychwood                                   0.0                880.0   \n",
       "     Yonge-Eglinton                             0.0                465.0   \n",
       "     Yonge-St.Clair                             0.0                450.0   \n",
       "     York University Heights                    0.0               1360.0   \n",
       "     Yorkdale-Glen Park                         0.0                 80.0   \n",
       "\n",
       "                                   row_house  duplex  \\\n",
       "year neighbourhood                                     \n",
       "2001 Agincourt North                  1295.0   195.0   \n",
       "     Agincourt South-Malvern West      455.0   105.0   \n",
       "     Alderwood                          50.0   185.0   \n",
       "     Annex                             605.0   275.0   \n",
       "     Banbury-Don Mills                 380.0    15.0   \n",
       "...                                      ...     ...   \n",
       "2016 Wychwood                          290.0   395.0   \n",
       "     Yonge-Eglinton                     60.0   310.0   \n",
       "     Yonge-St.Clair                    220.0   130.0   \n",
       "     York University Heights           775.0   280.0   \n",
       "     Yorkdale-Glen Park                600.0   465.0   \n",
       "\n",
       "                                   apartment_five_storeys_less  other_house  \\\n",
       "year neighbourhood                                                            \n",
       "2001 Agincourt North                                     185.0          5.0   \n",
       "     Agincourt South-Malvern West                        425.0          0.0   \n",
       "     Alderwood                                           370.0          0.0   \n",
       "     Annex                                              3710.0        165.0   \n",
       "     Banbury-Don Mills                                  1360.0          0.0   \n",
       "...                                                        ...          ...   \n",
       "2016 Wychwood                                           2080.0         35.0   \n",
       "     Yonge-Eglinton                                     1445.0          0.0   \n",
       "     Yonge-St.Clair                                     1370.0          0.0   \n",
       "     York University Heights                             995.0          0.0   \n",
       "     Yorkdale-Glen Park                                  830.0          5.0   \n",
       "\n",
       "                                   average_house_value  shelter_costs_owned  \\\n",
       "year neighbourhood                                                            \n",
       "2001 Agincourt North                          200388.0                810.0   \n",
       "     Agincourt South-Malvern West             203047.0                806.0   \n",
       "     Alderwood                                259998.0                817.0   \n",
       "     Annex                                    453850.0               1027.0   \n",
       "     Banbury-Don Mills                        371864.0               1007.0   \n",
       "...                                                ...                  ...   \n",
       "2016 Wychwood                                 787760.0               1864.0   \n",
       "     Yonge-Eglinton                          1127052.0               2398.0   \n",
       "     Yonge-St.Clair                          1131888.0               2192.0   \n",
       "     York University Heights                  425769.0               1444.0   \n",
       "     Yorkdale-Glen Park                       599698.0               1451.0   \n",
       "\n",
       "                                   shelter_costs_rented  \n",
       "year neighbourhood                                       \n",
       "2001 Agincourt North                              870.0  \n",
       "     Agincourt South-Malvern West                 892.0  \n",
       "     Alderwood                                    924.0  \n",
       "     Annex                                       1378.0  \n",
       "     Banbury-Don Mills                           1163.0  \n",
       "...                                                 ...  \n",
       "2016 Wychwood                                    1146.0  \n",
       "     Yonge-Eglinton                              1535.0  \n",
       "     Yonge-St.Clair                              1619.0  \n",
       "     York University Heights                     1122.0  \n",
       "     Yorkdale-Glen Park                          1128.0  \n",
       "\n",
       "[560 rows x 11 columns]"
      ]
     },
     "execution_count": 46,
     "metadata": {},
     "output_type": "execute_result"
    }
   ],
   "source": [
    "# Fetch the data of all dwelling types per year\n",
    "numDwellingTypes = to_data.copy()\n",
    "numDwellingTypes=numDwellingTypes.groupby(['year','neighbourhood']).mean().copy()\n",
    "numDwellingTypes"
   ]
  },
  {
   "cell_type": "code",
   "execution_count": 47,
   "metadata": {},
   "outputs": [
    {
     "data": {},
     "metadata": {},
     "output_type": "display_data"
    },
    {
     "data": {
      "application/vnd.holoviews_exec.v0+json": "",
      "text/html": [
       "<div id='1611'>\n",
       "\n",
       "\n",
       "\n",
       "\n",
       "\n",
       "  <div class=\"bk-root\" id=\"0371f91a-d23c-47e3-9081-096f222e8213\" data-root-id=\"1611\"></div>\n",
       "</div>\n",
       "<script type=\"application/javascript\">(function(root) {\n",
       "  function embed_document(root) {\n",
       "    var docs_json = {\"2cd7e292-d356-44a3-8aa9-09b06f63dd1d\":{\"defs\":[{\"extends\":null,\"module\":null,\"name\":\"ReactiveHTML1\",\"overrides\":[],\"properties\":[]},{\"extends\":null,\"module\":null,\"name\":\"FlexBox1\",\"overrides\":[],\"properties\":[{\"default\":\"flex-start\",\"kind\":null,\"name\":\"align_content\"},{\"default\":\"flex-start\",\"kind\":null,\"name\":\"align_items\"},{\"default\":\"row\",\"kind\":null,\"name\":\"flex_direction\"},{\"default\":\"wrap\",\"kind\":null,\"name\":\"flex_wrap\"},{\"default\":\"flex-start\",\"kind\":null,\"name\":\"justify_content\"}]},{\"extends\":null,\"module\":null,\"name\":\"TemplateActions1\",\"overrides\":[],\"properties\":[{\"default\":0,\"kind\":null,\"name\":\"open_modal\"},{\"default\":0,\"kind\":null,\"name\":\"close_modal\"}]},{\"extends\":null,\"module\":null,\"name\":\"MaterialTemplateActions1\",\"overrides\":[],\"properties\":[{\"default\":0,\"kind\":null,\"name\":\"open_modal\"},{\"default\":0,\"kind\":null,\"name\":\"close_modal\"}]}],\"roots\":{\"references\":[{\"attributes\":{},\"id\":\"1634\",\"type\":\"WheelZoomTool\"},{\"attributes\":{\"children\":[{\"id\":\"1612\"},{\"id\":\"1616\"},{\"id\":\"1686\"},{\"id\":\"1687\"}],\"margin\":[0,0,0,0],\"name\":\"Row02473\"},\"id\":\"1611\",\"type\":\"Row\"},{\"attributes\":{\"tools\":[{\"id\":\"1615\"},{\"id\":\"1632\"},{\"id\":\"1633\"},{\"id\":\"1634\"},{\"id\":\"1635\"},{\"id\":\"1636\"}]},\"id\":\"1638\",\"type\":\"Toolbar\"},{\"attributes\":{\"overlay\":{\"id\":\"1637\"}},\"id\":\"1635\",\"type\":\"BoxZoomTool\"},{\"attributes\":{\"client_comm_id\":\"2c14ad1b83ad4fd9a36b0f79f3b135db\",\"comm_id\":\"a7709b0f0fd74af2afd28213573d5fbf\",\"plot_id\":\"1611\"},\"id\":\"1722\",\"type\":\"panel.models.comm_manager.CommManager\"},{\"attributes\":{\"end\":484917.3,\"reset_end\":484917.3,\"reset_start\":0.0,\"tags\":[[[\"average_house_value\",\"average_house_value\",null]]]},\"id\":\"1614\",\"type\":\"Range1d\"},{\"attributes\":{},\"id\":\"1621\",\"type\":\"CategoricalScale\"},{\"attributes\":{\"coordinates\":null,\"data_source\":{\"id\":\"1645\"},\"glyph\":{\"id\":\"1648\"},\"group\":null,\"hover_glyph\":null,\"muted_glyph\":{\"id\":\"1650\"},\"nonselection_glyph\":{\"id\":\"1649\"},\"selection_glyph\":{\"id\":\"1653\"},\"view\":{\"id\":\"1652\"}},\"id\":\"1651\",\"type\":\"GlyphRenderer\"},{\"attributes\":{\"fill_color\":{\"value\":\"#30a2da\"},\"hatch_color\":{\"value\":\"#30a2da\"},\"top\":{\"field\":\"average_house_value\"},\"width\":{\"value\":0.8},\"x\":{\"field\":\"year\"}},\"id\":\"1648\",\"type\":\"VBar\"},{\"attributes\":{\"margin\":[5,5,5,5],\"name\":\"HSpacer02482\",\"sizing_mode\":\"stretch_width\"},\"id\":\"1612\",\"type\":\"Spacer\"},{\"attributes\":{},\"id\":\"1626\",\"type\":\"CategoricalTicker\"},{\"attributes\":{\"axis_label\":\"year\",\"coordinates\":null,\"formatter\":{\"id\":\"1655\"},\"group\":null,\"major_label_policy\":{\"id\":\"1656\"},\"ticker\":{\"id\":\"1626\"}},\"id\":\"1625\",\"type\":\"CategoricalAxis\"},{\"attributes\":{\"fill_alpha\":{\"value\":0.1},\"fill_color\":{\"value\":\"#30a2da\"},\"hatch_alpha\":{\"value\":0.1},\"hatch_color\":{\"value\":\"#30a2da\"},\"line_alpha\":{\"value\":0.1},\"top\":{\"field\":\"average_house_value\"},\"width\":{\"value\":0.8},\"x\":{\"field\":\"year\"}},\"id\":\"1649\",\"type\":\"VBar\"},{\"attributes\":{},\"id\":\"1636\",\"type\":\"ResetTool\"},{\"attributes\":{\"axis\":{\"id\":\"1628\"},\"coordinates\":null,\"dimension\":1,\"grid_line_color\":null,\"group\":null,\"ticker\":null},\"id\":\"1631\",\"type\":\"Grid\"},{\"attributes\":{\"margin\":[20,20,20,20],\"min_width\":250,\"options\":[\"Agincourt North\",\"Agincourt South-Malvern West\",\"Alderwood\",\"Annex\",\"Banbury-Don Mills\",\"Bathurst Manor\",\"Bay Street Corridor\",\"Bayview Village\",\"Bayview Woods-Steeles\",\"Bedford Park-Nortown\",\"Beechborough-Greenbrook\",\"Bendale\",\"Birchcliffe-Cliffside\",\"Black Creek\",\"Blake-Jones\",\"Briar Hill-Belgravia\",\"Bridle Path-Sunnybrook-York Mills\",\"Broadview North\",\"Brookhaven-Amesbury\",\"Cabbagetown-South St.James Town\",\"Caledonia-Fairbank\",\"Casa Loma\",\"Centennial Scarborough\",\"Church-Yonge Corridor\",\"Clairlea-Birchmount\",\"Clanton Park\",\"Cliffcrest\",\"Corso Italia-Davenport\",\"Danforth\",\"Danforth-East York\",\"Don Valley Village\",\"Dorset Park\",\"Dovercourt-Wallace Emerson-Juncti\",\"Downsview-Roding-CFB\",\"Dufferin Grove\",\"East End-Danforth\",\"Edenbridge-Humber Valley\",\"Eglinton East\",\"Elms-Old Rexdale\",\"Englemount-Lawrence\",\"Eringate-Centennial-West Deane\",\"Etobicoke West Mall\",\"Flemingdon Park\",\"Forest Hill North\",\"Forest Hill South\",\"Glenfield-Jane Heights\",\"Greenwood-Coxwell\",\"Guildwood\",\"Henry Farm\",\"High Park North\",\"High Park-Swansea\",\"Highland Creek\",\"Hillcrest Village\",\"Humber Heights-Westmount\",\"Humber Summit\",\"Humbermede\",\"Humewood-Cedarvale\",\"Ionview\",\"Islington-City Centre West\",\"Junction Area\",\"Keelesdale-Eglinton West\",\"Kennedy Park\",\"Kensington-Chinatown\",\"Kingsview Village-The Westway\",\"Kingsway South\",\"L'Amoreaux\",\"Lambton Baby Point\",\"Lansing-Westgate\",\"Lawrence Park North\",\"Lawrence Park South\",\"Leaside-Bennington\",\"Little Portugal\",\"Long Branch\",\"Malvern\",\"Maple Leaf\",\"Markland Wood\",\"Milliken\",\"Mimico\",\"Morningside\",\"Moss Park\",\"Mount Dennis\",\"Mount Olive-Silverstone-Jamestown\",\"Mount Pleasant East\",\"Mount Pleasant West\",\"New Toronto\",\"Newtonbrook East\",\"Newtonbrook West\",\"Niagara\",\"North Riverdale\",\"North St.James Town\",\"O'Connor-Parkview\",\"Oakridge\",\"Oakwood Village\",\"Old East York\",\"Palmerston-Little Italy\",\"Parkwoods-Donalda\",\"Pelmo Park-Humberlea\",\"Playter Estates-Danforth\",\"Pleasant View\",\"Princess-Rosethorn\",\"Regent Park\",\"Rexdale-Kipling\",\"Rockcliffe-Smythe\",\"Roncesvalles\",\"Rosedale-Moore Park\",\"Rouge\",\"Runnymede-Bloor West Village\",\"Rustic\",\"Scarborough Village\",\"South Parkdale\",\"South Riverdale\",\"St.Andrew-Windfields\",\"Steeles\",\"Stonegate-Queensway\",\"Tam O'Shanter-Sullivan\",\"Taylor-Massey\",\"The Beaches\",\"Thistletown-Beaumond Heights\",\"Thorncliffe Park\",\"Trinity-Bellwoods\",\"University\",\"Victoria Village\",\"Waterfront Communities-The Island\",\"West Hill\",\"West Humber-Clairville\",\"Westminster-Branson\",\"Weston\",\"Weston-Pellam Park\",\"Wexford/Maryvale\",\"Willowdale East\",\"Willowdale West\",\"Willowridge-Martingrove-Richview\",\"Woburn\",\"Woodbine Corridor\",\"Woodbine-Lumsden\",\"Wychwood\",\"Yonge-Eglinton\",\"Yonge-St.Clair\",\"York University Heights\",\"Yorkdale-Glen Park\"],\"title\":\"neighbourhood\",\"value\":\"Agincourt North\",\"width\":250},\"id\":\"1690\",\"type\":\"Select\"},{\"attributes\":{},\"id\":\"1646\",\"type\":\"Selection\"},{\"attributes\":{\"bottom_units\":\"screen\",\"coordinates\":null,\"fill_alpha\":0.5,\"fill_color\":\"lightgrey\",\"group\":null,\"left_units\":\"screen\",\"level\":\"overlay\",\"line_alpha\":1.0,\"line_color\":\"black\",\"line_dash\":[4,4],\"line_width\":2,\"right_units\":\"screen\",\"syncable\":false,\"top_units\":\"screen\"},\"id\":\"1637\",\"type\":\"BoxAnnotation\"},{\"attributes\":{\"margin\":[5,5,5,5],\"name\":\"VSpacer02480\",\"sizing_mode\":\"stretch_height\"},\"id\":\"1691\",\"type\":\"Spacer\"},{\"attributes\":{},\"id\":\"1658\",\"type\":\"BasicTickFormatter\"},{\"attributes\":{\"fill_alpha\":{\"value\":0.2},\"fill_color\":{\"value\":\"#30a2da\"},\"hatch_alpha\":{\"value\":0.2},\"hatch_color\":{\"value\":\"#30a2da\"},\"line_alpha\":{\"value\":0.2},\"top\":{\"field\":\"average_house_value\"},\"width\":{\"value\":0.8},\"x\":{\"field\":\"year\"}},\"id\":\"1650\",\"type\":\"VBar\"},{\"attributes\":{\"axis_label\":\"average_house_value\",\"coordinates\":null,\"formatter\":{\"id\":\"1658\"},\"group\":null,\"major_label_policy\":{\"id\":\"1659\"},\"ticker\":{\"id\":\"1629\"}},\"id\":\"1628\",\"type\":\"LinearAxis\"},{\"attributes\":{\"axis\":{\"id\":\"1625\"},\"coordinates\":null,\"grid_line_color\":null,\"group\":null,\"ticker\":null},\"id\":\"1627\",\"type\":\"Grid\"},{\"attributes\":{\"children\":[{\"id\":\"1690\"}],\"css_classes\":[\"panel-widget-box\"],\"margin\":[5,5,5,5],\"name\":\"WidgetBox02474\"},\"id\":\"1689\",\"type\":\"Column\"},{\"attributes\":{\"callback\":null,\"renderers\":[{\"id\":\"1651\"}],\"tags\":[\"hv_created\"],\"tooltips\":[[\"year\",\"@{year}\"],[\"average_house_value\",\"@{average_house_value}\"]]},\"id\":\"1615\",\"type\":\"HoverTool\"},{\"attributes\":{\"margin\":[5,5,5,5],\"name\":\"VSpacer02479\",\"sizing_mode\":\"stretch_height\"},\"id\":\"1688\",\"type\":\"Spacer\"},{\"attributes\":{},\"id\":\"1655\",\"type\":\"CategoricalTickFormatter\"},{\"attributes\":{\"margin\":[5,5,5,5],\"name\":\"HSpacer02483\",\"sizing_mode\":\"stretch_width\"},\"id\":\"1686\",\"type\":\"Spacer\"},{\"attributes\":{},\"id\":\"1629\",\"type\":\"BasicTicker\"},{\"attributes\":{\"below\":[{\"id\":\"1625\"}],\"center\":[{\"id\":\"1627\"},{\"id\":\"1631\"}],\"height\":300,\"left\":[{\"id\":\"1628\"}],\"margin\":[5,5,5,5],\"min_border_bottom\":10,\"min_border_left\":10,\"min_border_right\":10,\"min_border_top\":10,\"renderers\":[{\"id\":\"1651\"}],\"sizing_mode\":\"fixed\",\"title\":{\"id\":\"1617\"},\"toolbar\":{\"id\":\"1638\"},\"x_range\":{\"id\":\"1613\"},\"x_scale\":{\"id\":\"1621\"},\"y_range\":{\"id\":\"1614\"},\"y_scale\":{\"id\":\"1623\"}},\"id\":\"1616\",\"subtype\":\"Figure\",\"type\":\"Plot\"},{\"attributes\":{},\"id\":\"1623\",\"type\":\"LinearScale\"},{\"attributes\":{\"coordinates\":null,\"group\":null,\"text\":\"neighbourhood: Agincourt North\",\"text_color\":\"black\",\"text_font_size\":\"12pt\"},\"id\":\"1617\",\"type\":\"Title\"},{\"attributes\":{},\"id\":\"1673\",\"type\":\"UnionRenderers\"},{\"attributes\":{},\"id\":\"1656\",\"type\":\"AllLabels\"},{\"attributes\":{\"factors\":[\"2001\",\"2006\",\"2011\",\"2016\"],\"tags\":[[[\"year\",\"year\",null]]]},\"id\":\"1613\",\"type\":\"FactorRange\"},{\"attributes\":{\"data\":{\"average_house_value\":{\"__ndarray__\":\"AAAAACB2CEEAAAAAUOQRQQAAAAAsYRZBAAAAAKwEHEE=\",\"dtype\":\"float64\",\"order\":\"little\",\"shape\":[4]},\"year\":[\"2001\",\"2006\",\"2011\",\"2016\"]},\"selected\":{\"id\":\"1646\"},\"selection_policy\":{\"id\":\"1673\"}},\"id\":\"1645\",\"type\":\"ColumnDataSource\"},{\"attributes\":{\"bottom\":{\"value\":0},\"fill_alpha\":{\"value\":1.0},\"fill_color\":{\"value\":\"#30a2da\"},\"hatch_alpha\":{\"value\":1.0},\"hatch_color\":{\"value\":\"#30a2da\"},\"hatch_scale\":{\"value\":12.0},\"hatch_weight\":{\"value\":1.0},\"line_alpha\":{\"value\":1.0},\"line_cap\":{\"value\":\"butt\"},\"line_color\":{\"value\":\"black\"},\"line_dash\":{\"value\":[]},\"line_dash_offset\":{\"value\":0},\"line_join\":{\"value\":\"bevel\"},\"line_width\":{\"value\":1},\"top\":{\"field\":\"average_house_value\"},\"width\":{\"value\":0.8},\"x\":{\"field\":\"year\"}},\"id\":\"1653\",\"type\":\"VBar\"},{\"attributes\":{\"source\":{\"id\":\"1645\"}},\"id\":\"1652\",\"type\":\"CDSView\"},{\"attributes\":{},\"id\":\"1659\",\"type\":\"AllLabels\"},{\"attributes\":{},\"id\":\"1632\",\"type\":\"SaveTool\"},{\"attributes\":{\"children\":[{\"id\":\"1688\"},{\"id\":\"1689\"},{\"id\":\"1691\"}],\"margin\":[0,0,0,0],\"name\":\"Column02481\"},\"id\":\"1687\",\"type\":\"Column\"},{\"attributes\":{},\"id\":\"1633\",\"type\":\"PanTool\"}],\"root_ids\":[\"1611\",\"1722\"]},\"title\":\"Bokeh Application\",\"version\":\"2.4.1\"}};\n",
       "    var render_items = [{\"docid\":\"2cd7e292-d356-44a3-8aa9-09b06f63dd1d\",\"root_ids\":[\"1611\"],\"roots\":{\"1611\":\"0371f91a-d23c-47e3-9081-096f222e8213\"}}];\n",
       "    root.Bokeh.embed.embed_items_notebook(docs_json, render_items);\n",
       "  }\n",
       "  if (root.Bokeh !== undefined && root.Bokeh.Panel !== undefined && ( root['Plotly'] !== undefined)) {\n",
       "    embed_document(root);\n",
       "  } else {\n",
       "    var attempts = 0;\n",
       "    var timer = setInterval(function(root) {\n",
       "      if (root.Bokeh !== undefined && root.Bokeh.Panel !== undefined && (root['Plotly'] !== undefined)) {\n",
       "        clearInterval(timer);\n",
       "        embed_document(root);\n",
       "      } else if (document.readyState == \"complete\") {\n",
       "        attempts++;\n",
       "        if (attempts > 200) {\n",
       "          clearInterval(timer);\n",
       "          console.log(\"Bokeh: ERROR: Unable to run BokehJS code because BokehJS library is missing\");\n",
       "        }\n",
       "      }\n",
       "    }, 25, root)\n",
       "  }\n",
       "})(window);</script>"
      ],
      "text/plain": [
       ":DynamicMap   [neighbourhood]\n",
       "   :Bars   [year]   (average_house_value)"
      ]
     },
     "execution_count": 47,
     "metadata": {
      "application/vnd.holoviews_exec.v0+json": {
       "id": "1611"
      }
     },
     "output_type": "execute_result"
    }
   ],
   "source": [
    "# Use hvplot to create an interactive bar chart of the number of dwelling types per neighbourhood\n",
    "# The plot should have a dropdown selector for the neighbourhood\n",
    "numDwellingTypes.hvplot.bar(stacked = False, x='year', y='average_house_value', width=600, groupby='neighbourhood')\n",
    "#couldn't get this one"
   ]
  },
  {
   "cell_type": "markdown",
   "metadata": {},
   "source": [
    "- - - "
   ]
  },
  {
   "cell_type": "markdown",
   "metadata": {},
   "source": [
    "## The Top 10 Most Expensive Neighbourhoods\n",
    "\n",
    "In this section, you will need to calculate the house value for each neighbourhood and then sort the values to obtain the top 10 most expensive neighbourhoods on average. Plot the results as a bar chart."
   ]
  },
  {
   "cell_type": "code",
   "execution_count": 48,
   "metadata": {},
   "outputs": [
    {
     "data": {
      "text/html": [
       "<div>\n",
       "<style scoped>\n",
       "    .dataframe tbody tr th:only-of-type {\n",
       "        vertical-align: middle;\n",
       "    }\n",
       "\n",
       "    .dataframe tbody tr th {\n",
       "        vertical-align: top;\n",
       "    }\n",
       "\n",
       "    .dataframe thead th {\n",
       "        text-align: right;\n",
       "    }\n",
       "</style>\n",
       "<table border=\"1\" class=\"dataframe\">\n",
       "  <thead>\n",
       "    <tr style=\"text-align: right;\">\n",
       "      <th></th>\n",
       "      <th>average_house_value</th>\n",
       "    </tr>\n",
       "    <tr>\n",
       "      <th>neighbourhood</th>\n",
       "      <th></th>\n",
       "    </tr>\n",
       "  </thead>\n",
       "  <tbody>\n",
       "    <tr>\n",
       "      <th>Bridle Path-Sunnybrook-York Mills</th>\n",
       "      <td>1526485.75</td>\n",
       "    </tr>\n",
       "    <tr>\n",
       "      <th>Forest Hill South</th>\n",
       "      <td>1195992.50</td>\n",
       "    </tr>\n",
       "    <tr>\n",
       "      <th>Lawrence Park South</th>\n",
       "      <td>1094027.75</td>\n",
       "    </tr>\n",
       "    <tr>\n",
       "      <th>Rosedale-Moore Park</th>\n",
       "      <td>1093640.00</td>\n",
       "    </tr>\n",
       "    <tr>\n",
       "      <th>St.Andrew-Windfields</th>\n",
       "      <td>999107.00</td>\n",
       "    </tr>\n",
       "    <tr>\n",
       "      <th>Casa Loma</th>\n",
       "      <td>981064.25</td>\n",
       "    </tr>\n",
       "    <tr>\n",
       "      <th>Bedford Park-Nortown</th>\n",
       "      <td>930415.25</td>\n",
       "    </tr>\n",
       "    <tr>\n",
       "      <th>Forest Hill North</th>\n",
       "      <td>851680.50</td>\n",
       "    </tr>\n",
       "    <tr>\n",
       "      <th>Kingsway South</th>\n",
       "      <td>843234.25</td>\n",
       "    </tr>\n",
       "    <tr>\n",
       "      <th>Yonge-St.Clair</th>\n",
       "      <td>813220.25</td>\n",
       "    </tr>\n",
       "  </tbody>\n",
       "</table>\n",
       "</div>"
      ],
      "text/plain": [
       "                                   average_house_value\n",
       "neighbourhood                                         \n",
       "Bridle Path-Sunnybrook-York Mills           1526485.75\n",
       "Forest Hill South                           1195992.50\n",
       "Lawrence Park South                         1094027.75\n",
       "Rosedale-Moore Park                         1093640.00\n",
       "St.Andrew-Windfields                         999107.00\n",
       "Casa Loma                                    981064.25\n",
       "Bedford Park-Nortown                         930415.25\n",
       "Forest Hill North                            851680.50\n",
       "Kingsway South                               843234.25\n",
       "Yonge-St.Clair                               813220.25"
      ]
     },
     "execution_count": 48,
     "metadata": {},
     "output_type": "execute_result"
    }
   ],
   "source": [
    "# Getting the data from the top 10 expensive neighbourhoods\n",
    "expHoods = to_data[['neighbourhood','average_house_value']].copy()\n",
    "expHoods = expHoods.groupby(['neighbourhood']).mean()\n",
    "expHoods = expHoods.sort_values(by='average_house_value', ascending=False)\n",
    "top10 = expHoods.head(10)\n",
    "top10"
   ]
  },
  {
   "cell_type": "code",
   "execution_count": 49,
   "metadata": {},
   "outputs": [
    {
     "data": {},
     "metadata": {},
     "output_type": "display_data"
    },
    {
     "data": {
      "application/vnd.holoviews_exec.v0+json": "",
      "text/html": [
       "<div id='1773'>\n",
       "\n",
       "\n",
       "\n",
       "\n",
       "\n",
       "  <div class=\"bk-root\" id=\"651b187f-faed-47f4-992a-c116497fbe5b\" data-root-id=\"1773\"></div>\n",
       "</div>\n",
       "<script type=\"application/javascript\">(function(root) {\n",
       "  function embed_document(root) {\n",
       "    var docs_json = {\"322cb175-f279-450d-be3e-d256a642caf0\":{\"defs\":[{\"extends\":null,\"module\":null,\"name\":\"ReactiveHTML1\",\"overrides\":[],\"properties\":[]},{\"extends\":null,\"module\":null,\"name\":\"FlexBox1\",\"overrides\":[],\"properties\":[{\"default\":\"flex-start\",\"kind\":null,\"name\":\"align_content\"},{\"default\":\"flex-start\",\"kind\":null,\"name\":\"align_items\"},{\"default\":\"row\",\"kind\":null,\"name\":\"flex_direction\"},{\"default\":\"wrap\",\"kind\":null,\"name\":\"flex_wrap\"},{\"default\":\"flex-start\",\"kind\":null,\"name\":\"justify_content\"}]},{\"extends\":null,\"module\":null,\"name\":\"TemplateActions1\",\"overrides\":[],\"properties\":[{\"default\":0,\"kind\":null,\"name\":\"open_modal\"},{\"default\":0,\"kind\":null,\"name\":\"close_modal\"}]},{\"extends\":null,\"module\":null,\"name\":\"MaterialTemplateActions1\",\"overrides\":[],\"properties\":[{\"default\":0,\"kind\":null,\"name\":\"open_modal\"},{\"default\":0,\"kind\":null,\"name\":\"close_modal\"}]}],\"roots\":{\"references\":[{\"attributes\":{\"coordinates\":null,\"data_source\":{\"id\":\"1807\"},\"glyph\":{\"id\":\"1810\"},\"group\":null,\"hover_glyph\":null,\"muted_glyph\":{\"id\":\"1812\"},\"nonselection_glyph\":{\"id\":\"1811\"},\"selection_glyph\":{\"id\":\"1815\"},\"view\":{\"id\":\"1814\"}},\"id\":\"1813\",\"type\":\"GlyphRenderer\"},{\"attributes\":{},\"id\":\"1818\",\"type\":\"AllLabels\"},{\"attributes\":{\"margin\":[5,5,5,5],\"name\":\"HSpacer02744\",\"sizing_mode\":\"stretch_width\"},\"id\":\"1774\",\"type\":\"Spacer\"},{\"attributes\":{\"fill_alpha\":{\"value\":0.2},\"fill_color\":{\"value\":\"#30a2da\"},\"hatch_alpha\":{\"value\":0.2},\"hatch_color\":{\"value\":\"#30a2da\"},\"line_alpha\":{\"value\":0.2},\"top\":{\"field\":\"average_house_value\"},\"width\":{\"value\":0.8},\"x\":{\"field\":\"neighbourhood\"}},\"id\":\"1812\",\"type\":\"VBar\"},{\"attributes\":{\"callback\":null,\"renderers\":[{\"id\":\"1813\"}],\"tags\":[\"hv_created\"],\"tooltips\":[[\"neighbourhood\",\"@{neighbourhood}\"],[\"average_house_value\",\"@{average_house_value}\"]]},\"id\":\"1777\",\"type\":\"HoverTool\"},{\"attributes\":{},\"id\":\"1829\",\"type\":\"UnionRenderers\"},{\"attributes\":{\"source\":{\"id\":\"1807\"}},\"id\":\"1814\",\"type\":\"CDSView\"},{\"attributes\":{},\"id\":\"1821\",\"type\":\"AllLabels\"},{\"attributes\":{},\"id\":\"1794\",\"type\":\"SaveTool\"},{\"attributes\":{},\"id\":\"1795\",\"type\":\"PanTool\"},{\"attributes\":{},\"id\":\"1808\",\"type\":\"Selection\"},{\"attributes\":{},\"id\":\"1796\",\"type\":\"WheelZoomTool\"},{\"attributes\":{},\"id\":\"1783\",\"type\":\"CategoricalScale\"},{\"attributes\":{\"tools\":[{\"id\":\"1777\"},{\"id\":\"1794\"},{\"id\":\"1795\"},{\"id\":\"1796\"},{\"id\":\"1797\"},{\"id\":\"1798\"}]},\"id\":\"1800\",\"type\":\"Toolbar\"},{\"attributes\":{\"data\":{\"average_house_value\":{\"__ndarray__\":\"AAAAwNVKN0EAAACA2D8yQQAAAMCLsTBBAAAAAAiwMEEAAAAAhn0uQQAAAICQ8C1BAAAAgN5kLEEAAAAAwf0pQQAAAIDEuylBAAAAgEjRKEE=\",\"dtype\":\"float64\",\"order\":\"little\",\"shape\":[10]},\"neighbourhood\":[\"Bridle Path-Sunnybrook-York Mills\",\"Forest Hill South\",\"Lawrence Park South\",\"Rosedale-Moore Park\",\"St.Andrew-Windfields\",\"Casa Loma\",\"Bedford Park-Nortown\",\"Forest Hill North\",\"Kingsway South\",\"Yonge-St.Clair\"]},\"selected\":{\"id\":\"1808\"},\"selection_policy\":{\"id\":\"1829\"}},\"id\":\"1807\",\"type\":\"ColumnDataSource\"},{\"attributes\":{\"below\":[{\"id\":\"1787\"}],\"center\":[{\"id\":\"1789\"},{\"id\":\"1793\"}],\"height\":300,\"left\":[{\"id\":\"1790\"}],\"margin\":[5,5,5,5],\"min_border_bottom\":10,\"min_border_left\":10,\"min_border_right\":10,\"min_border_top\":10,\"renderers\":[{\"id\":\"1813\"}],\"sizing_mode\":\"fixed\",\"title\":{\"id\":\"1779\"},\"toolbar\":{\"id\":\"1800\"},\"width\":700,\"x_range\":{\"id\":\"1775\"},\"x_scale\":{\"id\":\"1783\"},\"y_range\":{\"id\":\"1776\"},\"y_scale\":{\"id\":\"1785\"}},\"id\":\"1778\",\"subtype\":\"Figure\",\"type\":\"Plot\"},{\"attributes\":{\"overlay\":{\"id\":\"1799\"}},\"id\":\"1797\",\"type\":\"BoxZoomTool\"},{\"attributes\":{},\"id\":\"1817\",\"type\":\"CategoricalTickFormatter\"},{\"attributes\":{\"children\":[{\"id\":\"1774\"},{\"id\":\"1778\"},{\"id\":\"1842\"}],\"margin\":[0,0,0,0],\"name\":\"Row02740\",\"tags\":[\"embedded\"]},\"id\":\"1773\",\"type\":\"Row\"},{\"attributes\":{\"coordinates\":null,\"group\":null,\"text\":\"top 10 expensive neighbourhoods\",\"text_color\":\"black\",\"text_font_size\":\"12pt\"},\"id\":\"1779\",\"type\":\"Title\"},{\"attributes\":{\"fill_color\":{\"value\":\"#30a2da\"},\"hatch_color\":{\"value\":\"#30a2da\"},\"top\":{\"field\":\"average_house_value\"},\"width\":{\"value\":0.8},\"x\":{\"field\":\"neighbourhood\"}},\"id\":\"1810\",\"type\":\"VBar\"},{\"attributes\":{},\"id\":\"1785\",\"type\":\"LinearScale\"},{\"attributes\":{},\"id\":\"1798\",\"type\":\"ResetTool\"},{\"attributes\":{\"axis\":{\"id\":\"1790\"},\"coordinates\":null,\"dimension\":1,\"grid_line_color\":null,\"group\":null,\"ticker\":null},\"id\":\"1793\",\"type\":\"Grid\"},{\"attributes\":{\"bottom\":{\"value\":0},\"fill_alpha\":{\"value\":1.0},\"fill_color\":{\"value\":\"#30a2da\"},\"hatch_alpha\":{\"value\":1.0},\"hatch_color\":{\"value\":\"#30a2da\"},\"hatch_scale\":{\"value\":12.0},\"hatch_weight\":{\"value\":1.0},\"line_alpha\":{\"value\":1.0},\"line_cap\":{\"value\":\"butt\"},\"line_color\":{\"value\":\"black\"},\"line_dash\":{\"value\":[]},\"line_dash_offset\":{\"value\":0},\"line_join\":{\"value\":\"bevel\"},\"line_width\":{\"value\":1},\"top\":{\"field\":\"average_house_value\"},\"width\":{\"value\":0.8},\"x\":{\"field\":\"neighbourhood\"}},\"id\":\"1815\",\"type\":\"VBar\"},{\"attributes\":{\"bottom_units\":\"screen\",\"coordinates\":null,\"fill_alpha\":0.5,\"fill_color\":\"lightgrey\",\"group\":null,\"left_units\":\"screen\",\"level\":\"overlay\",\"line_alpha\":1.0,\"line_color\":\"black\",\"line_dash\":[4,4],\"line_width\":2,\"right_units\":\"screen\",\"syncable\":false,\"top_units\":\"screen\"},\"id\":\"1799\",\"type\":\"BoxAnnotation\"},{\"attributes\":{},\"id\":\"1788\",\"type\":\"CategoricalTicker\"},{\"attributes\":{\"axis_label\":\"neighbourhood\",\"coordinates\":null,\"formatter\":{\"id\":\"1817\"},\"group\":null,\"major_label_policy\":{\"id\":\"1818\"},\"ticker\":{\"id\":\"1788\"}},\"id\":\"1787\",\"type\":\"CategoricalAxis\"},{\"attributes\":{},\"id\":\"1820\",\"type\":\"BasicTickFormatter\"},{\"attributes\":{\"margin\":[5,5,5,5],\"name\":\"HSpacer02745\",\"sizing_mode\":\"stretch_width\"},\"id\":\"1842\",\"type\":\"Spacer\"},{\"attributes\":{\"end\":1597812.3,\"reset_end\":1597812.3,\"reset_start\":0.0,\"tags\":[[[\"average_house_value\",\"average_house_value\",null]]]},\"id\":\"1776\",\"type\":\"Range1d\"},{\"attributes\":{\"axis\":{\"id\":\"1787\"},\"coordinates\":null,\"grid_line_color\":null,\"group\":null,\"ticker\":null},\"id\":\"1789\",\"type\":\"Grid\"},{\"attributes\":{},\"id\":\"1791\",\"type\":\"BasicTicker\"},{\"attributes\":{\"axis_label\":\"average_house_value\",\"coordinates\":null,\"formatter\":{\"id\":\"1820\"},\"group\":null,\"major_label_policy\":{\"id\":\"1821\"},\"ticker\":{\"id\":\"1791\"}},\"id\":\"1790\",\"type\":\"LinearAxis\"},{\"attributes\":{\"factors\":[\"Bridle Path-Sunnybrook-York Mills\",\"Forest Hill South\",\"Lawrence Park South\",\"Rosedale-Moore Park\",\"St.Andrew-Windfields\",\"Casa Loma\",\"Bedford Park-Nortown\",\"Forest Hill North\",\"Kingsway South\",\"Yonge-St.Clair\"],\"tags\":[[[\"neighbourhood\",\"neighbourhood\",null]]]},\"id\":\"1775\",\"type\":\"FactorRange\"},{\"attributes\":{\"fill_alpha\":{\"value\":0.1},\"fill_color\":{\"value\":\"#30a2da\"},\"hatch_alpha\":{\"value\":0.1},\"hatch_color\":{\"value\":\"#30a2da\"},\"line_alpha\":{\"value\":0.1},\"top\":{\"field\":\"average_house_value\"},\"width\":{\"value\":0.8},\"x\":{\"field\":\"neighbourhood\"}},\"id\":\"1811\",\"type\":\"VBar\"}],\"root_ids\":[\"1773\"]},\"title\":\"Bokeh Application\",\"version\":\"2.4.1\"}};\n",
       "    var render_items = [{\"docid\":\"322cb175-f279-450d-be3e-d256a642caf0\",\"root_ids\":[\"1773\"],\"roots\":{\"1773\":\"651b187f-faed-47f4-992a-c116497fbe5b\"}}];\n",
       "    root.Bokeh.embed.embed_items_notebook(docs_json, render_items);\n",
       "  }\n",
       "  if (root.Bokeh !== undefined && root.Bokeh.Panel !== undefined && ( root['Plotly'] !== undefined)) {\n",
       "    embed_document(root);\n",
       "  } else {\n",
       "    var attempts = 0;\n",
       "    var timer = setInterval(function(root) {\n",
       "      if (root.Bokeh !== undefined && root.Bokeh.Panel !== undefined && (root['Plotly'] !== undefined)) {\n",
       "        clearInterval(timer);\n",
       "        embed_document(root);\n",
       "      } else if (document.readyState == \"complete\") {\n",
       "        attempts++;\n",
       "        if (attempts > 200) {\n",
       "          clearInterval(timer);\n",
       "          console.log(\"Bokeh: ERROR: Unable to run BokehJS code because BokehJS library is missing\");\n",
       "        }\n",
       "      }\n",
       "    }, 25, root)\n",
       "  }\n",
       "})(window);</script>"
      ],
      "text/plain": [
       ":Bars   [neighbourhood]   (average_house_value)"
      ]
     },
     "execution_count": 49,
     "metadata": {
      "application/vnd.holoviews_exec.v0+json": {
       "id": "1773"
      }
     },
     "output_type": "execute_result"
    }
   ],
   "source": [
    "# Plotting the data from the top 10 expensive neighbourhoods\n",
    "top10.hvplot.bar(x=\"neighbourhood\",y=\"average_house_value\",title=\"top 10 expensive neighbourhoods\")"
   ]
  },
  {
   "cell_type": "markdown",
   "metadata": {},
   "source": [
    "- - - "
   ]
  },
  {
   "cell_type": "markdown",
   "metadata": {},
   "source": [
    "## Neighbourhood Map\n",
    "\n",
    "In this section, you will read in neighbourhoods location data and build an interactive map with the average house value per neighbourhood. Use a `scatter_mapbox` from Plotly express to create the visualization. Remember, you will need your Mapbox API key for this."
   ]
  },
  {
   "cell_type": "markdown",
   "metadata": {},
   "source": [
    "### Load Location Data"
   ]
  },
  {
   "cell_type": "code",
   "execution_count": 50,
   "metadata": {},
   "outputs": [
    {
     "data": {
      "text/html": [
       "<div>\n",
       "<style scoped>\n",
       "    .dataframe tbody tr th:only-of-type {\n",
       "        vertical-align: middle;\n",
       "    }\n",
       "\n",
       "    .dataframe tbody tr th {\n",
       "        vertical-align: top;\n",
       "    }\n",
       "\n",
       "    .dataframe thead th {\n",
       "        text-align: right;\n",
       "    }\n",
       "</style>\n",
       "<table border=\"1\" class=\"dataframe\">\n",
       "  <thead>\n",
       "    <tr style=\"text-align: right;\">\n",
       "      <th></th>\n",
       "      <th>lat</th>\n",
       "      <th>lon</th>\n",
       "    </tr>\n",
       "    <tr>\n",
       "      <th>neighbourhood</th>\n",
       "      <th></th>\n",
       "      <th></th>\n",
       "    </tr>\n",
       "  </thead>\n",
       "  <tbody>\n",
       "    <tr>\n",
       "      <th>Agincourt North</th>\n",
       "      <td>43.805441</td>\n",
       "      <td>-79.266712</td>\n",
       "    </tr>\n",
       "    <tr>\n",
       "      <th>Agincourt South-Malvern West</th>\n",
       "      <td>43.788658</td>\n",
       "      <td>-79.265612</td>\n",
       "    </tr>\n",
       "    <tr>\n",
       "      <th>Alderwood</th>\n",
       "      <td>43.604937</td>\n",
       "      <td>-79.541611</td>\n",
       "    </tr>\n",
       "    <tr>\n",
       "      <th>Annex</th>\n",
       "      <td>43.671585</td>\n",
       "      <td>-79.404001</td>\n",
       "    </tr>\n",
       "    <tr>\n",
       "      <th>Banbury-Don Mills</th>\n",
       "      <td>43.737657</td>\n",
       "      <td>-79.349718</td>\n",
       "    </tr>\n",
       "    <tr>\n",
       "      <th>...</th>\n",
       "      <td>...</td>\n",
       "      <td>...</td>\n",
       "    </tr>\n",
       "    <tr>\n",
       "      <th>Wychwood</th>\n",
       "      <td>43.676919</td>\n",
       "      <td>-79.425515</td>\n",
       "    </tr>\n",
       "    <tr>\n",
       "      <th>Yonge-Eglinton</th>\n",
       "      <td>43.704689</td>\n",
       "      <td>-79.403590</td>\n",
       "    </tr>\n",
       "    <tr>\n",
       "      <th>Yonge-St.Clair</th>\n",
       "      <td>43.687859</td>\n",
       "      <td>-79.397871</td>\n",
       "    </tr>\n",
       "    <tr>\n",
       "      <th>York University Heights</th>\n",
       "      <td>43.765736</td>\n",
       "      <td>-79.488883</td>\n",
       "    </tr>\n",
       "    <tr>\n",
       "      <th>Yorkdale-Glen Park</th>\n",
       "      <td>43.714672</td>\n",
       "      <td>-79.457108</td>\n",
       "    </tr>\n",
       "  </tbody>\n",
       "</table>\n",
       "<p>140 rows × 2 columns</p>\n",
       "</div>"
      ],
      "text/plain": [
       "                                    lat        lon\n",
       "neighbourhood                                     \n",
       "Agincourt North               43.805441 -79.266712\n",
       "Agincourt South-Malvern West  43.788658 -79.265612\n",
       "Alderwood                     43.604937 -79.541611\n",
       "Annex                         43.671585 -79.404001\n",
       "Banbury-Don Mills             43.737657 -79.349718\n",
       "...                                 ...        ...\n",
       "Wychwood                      43.676919 -79.425515\n",
       "Yonge-Eglinton                43.704689 -79.403590\n",
       "Yonge-St.Clair                43.687859 -79.397871\n",
       "York University Heights       43.765736 -79.488883\n",
       "Yorkdale-Glen Park            43.714672 -79.457108\n",
       "\n",
       "[140 rows x 2 columns]"
      ]
     },
     "execution_count": 50,
     "metadata": {},
     "output_type": "execute_result"
    }
   ],
   "source": [
    "# Load neighbourhoods coordinates data\n",
    "file_path = Path(\"Data/toronto_neighbourhoods_coordinates.csv\")\n",
    "df_neighbourhood_locations = pd.read_csv(file_path)\n",
    "df_neighbourhood_locations.head()\n",
    "df_neighbourhood_locations.set_index('neighbourhood')"
   ]
  },
  {
   "cell_type": "markdown",
   "metadata": {},
   "source": [
    "### Data Preparation\n",
    "\n",
    "You will need to join the location data with the mean values per neighbourhood.\n",
    "\n",
    "1. Calculate the mean values for each neighbourhood.\n",
    "\n",
    "2. Join the average values with the neighbourhood locations."
   ]
  },
  {
   "cell_type": "code",
   "execution_count": 51,
   "metadata": {},
   "outputs": [
    {
     "data": {
      "text/html": [
       "<div>\n",
       "<style scoped>\n",
       "    .dataframe tbody tr th:only-of-type {\n",
       "        vertical-align: middle;\n",
       "    }\n",
       "\n",
       "    .dataframe tbody tr th {\n",
       "        vertical-align: top;\n",
       "    }\n",
       "\n",
       "    .dataframe thead th {\n",
       "        text-align: right;\n",
       "    }\n",
       "</style>\n",
       "<table border=\"1\" class=\"dataframe\">\n",
       "  <thead>\n",
       "    <tr style=\"text-align: right;\">\n",
       "      <th></th>\n",
       "      <th>neighbourhood</th>\n",
       "      <th>average_house_value</th>\n",
       "      <th>lat</th>\n",
       "      <th>lon</th>\n",
       "    </tr>\n",
       "  </thead>\n",
       "  <tbody>\n",
       "    <tr>\n",
       "      <th>0</th>\n",
       "      <td>Agincourt North</td>\n",
       "      <td>329811.50</td>\n",
       "      <td>43.805441</td>\n",
       "      <td>-79.266712</td>\n",
       "    </tr>\n",
       "    <tr>\n",
       "      <th>1</th>\n",
       "      <td>Agincourt South-Malvern West</td>\n",
       "      <td>334189.00</td>\n",
       "      <td>43.788658</td>\n",
       "      <td>-79.265612</td>\n",
       "    </tr>\n",
       "    <tr>\n",
       "      <th>2</th>\n",
       "      <td>Alderwood</td>\n",
       "      <td>427922.50</td>\n",
       "      <td>43.604937</td>\n",
       "      <td>-79.541611</td>\n",
       "    </tr>\n",
       "    <tr>\n",
       "      <th>3</th>\n",
       "      <td>Annex</td>\n",
       "      <td>746977.00</td>\n",
       "      <td>43.671585</td>\n",
       "      <td>-79.404001</td>\n",
       "    </tr>\n",
       "    <tr>\n",
       "      <th>4</th>\n",
       "      <td>Banbury-Don Mills</td>\n",
       "      <td>612039.00</td>\n",
       "      <td>43.737657</td>\n",
       "      <td>-79.349718</td>\n",
       "    </tr>\n",
       "    <tr>\n",
       "      <th>...</th>\n",
       "      <td>...</td>\n",
       "      <td>...</td>\n",
       "      <td>...</td>\n",
       "      <td>...</td>\n",
       "    </tr>\n",
       "    <tr>\n",
       "      <th>135</th>\n",
       "      <td>Wychwood</td>\n",
       "      <td>565976.50</td>\n",
       "      <td>43.676919</td>\n",
       "      <td>-79.425515</td>\n",
       "    </tr>\n",
       "    <tr>\n",
       "      <th>136</th>\n",
       "      <td>Yonge-Eglinton</td>\n",
       "      <td>809745.75</td>\n",
       "      <td>43.704689</td>\n",
       "      <td>-79.403590</td>\n",
       "    </tr>\n",
       "    <tr>\n",
       "      <th>137</th>\n",
       "      <td>Yonge-St.Clair</td>\n",
       "      <td>813220.25</td>\n",
       "      <td>43.687859</td>\n",
       "      <td>-79.397871</td>\n",
       "    </tr>\n",
       "    <tr>\n",
       "      <th>138</th>\n",
       "      <td>York University Heights</td>\n",
       "      <td>305899.50</td>\n",
       "      <td>43.765736</td>\n",
       "      <td>-79.488883</td>\n",
       "    </tr>\n",
       "    <tr>\n",
       "      <th>139</th>\n",
       "      <td>Yorkdale-Glen Park</td>\n",
       "      <td>430861.25</td>\n",
       "      <td>43.714672</td>\n",
       "      <td>-79.457108</td>\n",
       "    </tr>\n",
       "  </tbody>\n",
       "</table>\n",
       "<p>140 rows × 4 columns</p>\n",
       "</div>"
      ],
      "text/plain": [
       "                    neighbourhood  average_house_value        lat        lon\n",
       "0                 Agincourt North            329811.50  43.805441 -79.266712\n",
       "1    Agincourt South-Malvern West            334189.00  43.788658 -79.265612\n",
       "2                       Alderwood            427922.50  43.604937 -79.541611\n",
       "3                           Annex            746977.00  43.671585 -79.404001\n",
       "4               Banbury-Don Mills            612039.00  43.737657 -79.349718\n",
       "..                            ...                  ...        ...        ...\n",
       "135                      Wychwood            565976.50  43.676919 -79.425515\n",
       "136                Yonge-Eglinton            809745.75  43.704689 -79.403590\n",
       "137                Yonge-St.Clair            813220.25  43.687859 -79.397871\n",
       "138       York University Heights            305899.50  43.765736 -79.488883\n",
       "139            Yorkdale-Glen Park            430861.25  43.714672 -79.457108\n",
       "\n",
       "[140 rows x 4 columns]"
      ]
     },
     "execution_count": 51,
     "metadata": {},
     "output_type": "execute_result"
    }
   ],
   "source": [
    "# Calculate the mean values for each neighborhood\n",
    "meanHoods = to_data[['neighbourhood','average_house_value']].copy()\n",
    "meanHoods = meanHoods.groupby(['neighbourhood']).mean()\n",
    "meanHoods=meanHoods.reset_index()\n",
    "meanHoods[\"lat\"]=df_neighbourhood_locations['lat']\n",
    "meanHoods[\"lon\"]=df_neighbourhood_locations['lon']\n",
    "meanHoods\n"
   ]
  },
  {
   "cell_type": "code",
   "execution_count": 52,
   "metadata": {},
   "outputs": [],
   "source": [
    "# Join the average values with the neighbourhood locations\n",
    "# YOUR CODE HERE!"
   ]
  },
  {
   "cell_type": "markdown",
   "metadata": {},
   "source": [
    "### Mapbox Visualization\n",
    "\n",
    "Plot the average values per neighbourhood using a Plotly express `scatter_mapbox` visualization."
   ]
  },
  {
   "cell_type": "code",
   "execution_count": 62,
   "metadata": {},
   "outputs": [
    {
     "data": {
      "application/vnd.plotly.v1+json": {
       "config": {
        "plotlyServerURL": "https://plot.ly"
       },
       "data": [
        {
         "hovertemplate": "neighbourhood=Agincourt North<br>average_house_value=%{marker.size}<br>lat=%{lat}<br>lon=%{lon}<extra></extra>",
         "lat": [
          43.80544058
         ],
         "legendgroup": "Agincourt North",
         "lon": [
          -79.26671217
         ],
         "marker": {
          "color": "#636efa",
          "size": [
           329811.5
          ],
          "sizemode": "area",
          "sizeref": 3816.214375
         },
         "mode": "markers",
         "name": "Agincourt North",
         "showlegend": true,
         "subplot": "mapbox",
         "type": "scattermapbox"
        },
        {
         "hovertemplate": "neighbourhood=Agincourt South-Malvern West<br>average_house_value=%{marker.size}<br>lat=%{lat}<br>lon=%{lon}<extra></extra>",
         "lat": [
          43.78865755
         ],
         "legendgroup": "Agincourt South-Malvern West",
         "lon": [
          -79.2656118
         ],
         "marker": {
          "color": "#EF553B",
          "size": [
           334189
          ],
          "sizemode": "area",
          "sizeref": 3816.214375
         },
         "mode": "markers",
         "name": "Agincourt South-Malvern West",
         "showlegend": true,
         "subplot": "mapbox",
         "type": "scattermapbox"
        },
        {
         "hovertemplate": "neighbourhood=Alderwood<br>average_house_value=%{marker.size}<br>lat=%{lat}<br>lon=%{lon}<extra></extra>",
         "lat": [
          43.6049369
         ],
         "legendgroup": "Alderwood",
         "lon": [
          -79.54161093
         ],
         "marker": {
          "color": "#00cc96",
          "size": [
           427922.5
          ],
          "sizemode": "area",
          "sizeref": 3816.214375
         },
         "mode": "markers",
         "name": "Alderwood",
         "showlegend": true,
         "subplot": "mapbox",
         "type": "scattermapbox"
        },
        {
         "hovertemplate": "neighbourhood=Annex<br>average_house_value=%{marker.size}<br>lat=%{lat}<br>lon=%{lon}<extra></extra>",
         "lat": [
          43.67158544
         ],
         "legendgroup": "Annex",
         "lon": [
          -79.40400062
         ],
         "marker": {
          "color": "#ab63fa",
          "size": [
           746977
          ],
          "sizemode": "area",
          "sizeref": 3816.214375
         },
         "mode": "markers",
         "name": "Annex",
         "showlegend": true,
         "subplot": "mapbox",
         "type": "scattermapbox"
        },
        {
         "hovertemplate": "neighbourhood=Banbury-Don Mills<br>average_house_value=%{marker.size}<br>lat=%{lat}<br>lon=%{lon}<extra></extra>",
         "lat": [
          43.737657
         ],
         "legendgroup": "Banbury-Don Mills",
         "lon": [
          -79.34971798
         ],
         "marker": {
          "color": "#FFA15A",
          "size": [
           612039
          ],
          "sizemode": "area",
          "sizeref": 3816.214375
         },
         "mode": "markers",
         "name": "Banbury-Don Mills",
         "showlegend": true,
         "subplot": "mapbox",
         "type": "scattermapbox"
        },
        {
         "hovertemplate": "neighbourhood=Bathurst Manor<br>average_house_value=%{marker.size}<br>lat=%{lat}<br>lon=%{lon}<extra></extra>",
         "lat": [
          43.76481331
         ],
         "legendgroup": "Bathurst Manor",
         "lon": [
          -79.45605516
         ],
         "marker": {
          "color": "#19d3f3",
          "size": [
           501576.75
          ],
          "sizemode": "area",
          "sizeref": 3816.214375
         },
         "mode": "markers",
         "name": "Bathurst Manor",
         "showlegend": true,
         "subplot": "mapbox",
         "type": "scattermapbox"
        },
        {
         "hovertemplate": "neighbourhood=Bay Street Corridor<br>average_house_value=%{marker.size}<br>lat=%{lat}<br>lon=%{lon}<extra></extra>",
         "lat": [
          43.65751135
         ],
         "legendgroup": "Bay Street Corridor",
         "lon": [
          -79.38572125
         ],
         "marker": {
          "color": "#FF6692",
          "size": [
           423653.5
          ],
          "sizemode": "area",
          "sizeref": 3816.214375
         },
         "mode": "markers",
         "name": "Bay Street Corridor",
         "showlegend": true,
         "subplot": "mapbox",
         "type": "scattermapbox"
        },
        {
         "hovertemplate": "neighbourhood=Bayview Village<br>average_house_value=%{marker.size}<br>lat=%{lat}<br>lon=%{lon}<extra></extra>",
         "lat": [
          43.77636052
         ],
         "legendgroup": "Bayview Village",
         "lon": [
          -79.37711686
         ],
         "marker": {
          "color": "#B6E880",
          "size": [
           539258.75
          ],
          "sizemode": "area",
          "sizeref": 3816.214375
         },
         "mode": "markers",
         "name": "Bayview Village",
         "showlegend": true,
         "subplot": "mapbox",
         "type": "scattermapbox"
        },
        {
         "hovertemplate": "neighbourhood=Bayview Woods-Steeles<br>average_house_value=%{marker.size}<br>lat=%{lat}<br>lon=%{lon}<extra></extra>",
         "lat": [
          43.79680187
         ],
         "legendgroup": "Bayview Woods-Steeles",
         "lon": [
          -79.38211795
         ],
         "marker": {
          "color": "#FF97FF",
          "size": [
           565413.5
          ],
          "sizemode": "area",
          "sizeref": 3816.214375
         },
         "mode": "markers",
         "name": "Bayview Woods-Steeles",
         "showlegend": true,
         "subplot": "mapbox",
         "type": "scattermapbox"
        },
        {
         "hovertemplate": "neighbourhood=Bedford Park-Nortown<br>average_house_value=%{marker.size}<br>lat=%{lat}<br>lon=%{lon}<extra></extra>",
         "lat": [
          43.73148623
         ],
         "legendgroup": "Bedford Park-Nortown",
         "lon": [
          -79.42022735
         ],
         "marker": {
          "color": "#FECB52",
          "size": [
           930415.25
          ],
          "sizemode": "area",
          "sizeref": 3816.214375
         },
         "mode": "markers",
         "name": "Bedford Park-Nortown",
         "showlegend": true,
         "subplot": "mapbox",
         "type": "scattermapbox"
        },
        {
         "hovertemplate": "neighbourhood=Beechborough-Greenbrook<br>average_house_value=%{marker.size}<br>lat=%{lat}<br>lon=%{lon}<extra></extra>",
         "lat": [
          43.69321649
         ],
         "legendgroup": "Beechborough-Greenbrook",
         "lon": [
          -79.47947251
         ],
         "marker": {
          "color": "#636efa",
          "size": [
           370927.75
          ],
          "sizemode": "area",
          "sizeref": 3816.214375
         },
         "mode": "markers",
         "name": "Beechborough-Greenbrook",
         "showlegend": true,
         "subplot": "mapbox",
         "type": "scattermapbox"
        },
        {
         "hovertemplate": "neighbourhood=Bendale<br>average_house_value=%{marker.size}<br>lat=%{lat}<br>lon=%{lon}<extra></extra>",
         "lat": [
          43.76036631
         ],
         "legendgroup": "Bendale",
         "lon": [
          -79.25740037
         ],
         "marker": {
          "color": "#EF553B",
          "size": [
           301123.25
          ],
          "sizemode": "area",
          "sizeref": 3816.214375
         },
         "mode": "markers",
         "name": "Bendale",
         "showlegend": true,
         "subplot": "mapbox",
         "type": "scattermapbox"
        },
        {
         "hovertemplate": "neighbourhood=Birchcliffe-Cliffside<br>average_house_value=%{marker.size}<br>lat=%{lat}<br>lon=%{lon}<extra></extra>",
         "lat": [
          43.69468198
         ],
         "legendgroup": "Birchcliffe-Cliffside",
         "lon": [
          -79.26509259
         ],
         "marker": {
          "color": "#00cc96",
          "size": [
           437315
          ],
          "sizemode": "area",
          "sizeref": 3816.214375
         },
         "mode": "markers",
         "name": "Birchcliffe-Cliffside",
         "showlegend": true,
         "subplot": "mapbox",
         "type": "scattermapbox"
        },
        {
         "hovertemplate": "neighbourhood=Black Creek<br>average_house_value=%{marker.size}<br>lat=%{lat}<br>lon=%{lon}<extra></extra>",
         "lat": [
          43.76489025
         ],
         "legendgroup": "Black Creek",
         "lon": [
          -79.52197932
         ],
         "marker": {
          "color": "#ab63fa",
          "size": [
           260841.75
          ],
          "sizemode": "area",
          "sizeref": 3816.214375
         },
         "mode": "markers",
         "name": "Black Creek",
         "showlegend": true,
         "subplot": "mapbox",
         "type": "scattermapbox"
        },
        {
         "hovertemplate": "neighbourhood=Blake-Jones<br>average_house_value=%{marker.size}<br>lat=%{lat}<br>lon=%{lon}<extra></extra>",
         "lat": [
          43.67617288
         ],
         "legendgroup": "Blake-Jones",
         "lon": [
          -79.33739417
         ],
         "marker": {
          "color": "#FFA15A",
          "size": [
           511437
          ],
          "sizemode": "area",
          "sizeref": 3816.214375
         },
         "mode": "markers",
         "name": "Blake-Jones",
         "showlegend": true,
         "subplot": "mapbox",
         "type": "scattermapbox"
        },
        {
         "hovertemplate": "neighbourhood=Briar Hill-Belgravia<br>average_house_value=%{marker.size}<br>lat=%{lat}<br>lon=%{lon}<extra></extra>",
         "lat": [
          43.69902438
         ],
         "legendgroup": "Briar Hill-Belgravia",
         "lon": [
          -79.4528513
         ],
         "marker": {
          "color": "#19d3f3",
          "size": [
           365524.5
          ],
          "sizemode": "area",
          "sizeref": 3816.214375
         },
         "mode": "markers",
         "name": "Briar Hill-Belgravia",
         "showlegend": true,
         "subplot": "mapbox",
         "type": "scattermapbox"
        },
        {
         "hovertemplate": "neighbourhood=Bridle Path-Sunnybrook-York Mills<br>average_house_value=%{marker.size}<br>lat=%{lat}<br>lon=%{lon}<extra></extra>",
         "lat": [
          43.73101314
         ],
         "legendgroup": "Bridle Path-Sunnybrook-York Mills",
         "lon": [
          -79.37890418
         ],
         "marker": {
          "color": "#FF6692",
          "size": [
           1526485.75
          ],
          "sizemode": "area",
          "sizeref": 3816.214375
         },
         "mode": "markers",
         "name": "Bridle Path-Sunnybrook-York Mills",
         "showlegend": true,
         "subplot": "mapbox",
         "type": "scattermapbox"
        },
        {
         "hovertemplate": "neighbourhood=Broadview North<br>average_house_value=%{marker.size}<br>lat=%{lat}<br>lon=%{lon}<extra></extra>",
         "lat": [
          43.68882512
         ],
         "legendgroup": "Broadview North",
         "lon": [
          -79.35562951
         ],
         "marker": {
          "color": "#B6E880",
          "size": [
           443373.25
          ],
          "sizemode": "area",
          "sizeref": 3816.214375
         },
         "mode": "markers",
         "name": "Broadview North",
         "showlegend": true,
         "subplot": "mapbox",
         "type": "scattermapbox"
        },
        {
         "hovertemplate": "neighbourhood=Brookhaven-Amesbury<br>average_house_value=%{marker.size}<br>lat=%{lat}<br>lon=%{lon}<extra></extra>",
         "lat": [
          43.70132631
         ],
         "legendgroup": "Brookhaven-Amesbury",
         "lon": [
          -79.48558926
         ],
         "marker": {
          "color": "#FF97FF",
          "size": [
           350943
          ],
          "sizemode": "area",
          "sizeref": 3816.214375
         },
         "mode": "markers",
         "name": "Brookhaven-Amesbury",
         "showlegend": true,
         "subplot": "mapbox",
         "type": "scattermapbox"
        },
        {
         "hovertemplate": "neighbourhood=Cabbagetown-South St.James Town<br>average_house_value=%{marker.size}<br>lat=%{lat}<br>lon=%{lon}<extra></extra>",
         "lat": [
          43.66764773
         ],
         "legendgroup": "Cabbagetown-South St.James Town",
         "lon": [
          -79.36610666
         ],
         "marker": {
          "color": "#FECB52",
          "size": [
           494110.5
          ],
          "sizemode": "area",
          "sizeref": 3816.214375
         },
         "mode": "markers",
         "name": "Cabbagetown-South St.James Town",
         "showlegend": true,
         "subplot": "mapbox",
         "type": "scattermapbox"
        },
        {
         "hovertemplate": "neighbourhood=Caledonia-Fairbank<br>average_house_value=%{marker.size}<br>lat=%{lat}<br>lon=%{lon}<extra></extra>",
         "lat": [
          43.68856865
         ],
         "legendgroup": "Caledonia-Fairbank",
         "lon": [
          -79.45521208
         ],
         "marker": {
          "color": "#636efa",
          "size": [
           361714.25
          ],
          "sizemode": "area",
          "sizeref": 3816.214375
         },
         "mode": "markers",
         "name": "Caledonia-Fairbank",
         "showlegend": true,
         "subplot": "mapbox",
         "type": "scattermapbox"
        },
        {
         "hovertemplate": "neighbourhood=Casa Loma<br>average_house_value=%{marker.size}<br>lat=%{lat}<br>lon=%{lon}<extra></extra>",
         "lat": [
          43.6818521
         ],
         "legendgroup": "Casa Loma",
         "lon": [
          -79.40800665
         ],
         "marker": {
          "color": "#EF553B",
          "size": [
           981064.25
          ],
          "sizemode": "area",
          "sizeref": 3816.214375
         },
         "mode": "markers",
         "name": "Casa Loma",
         "showlegend": true,
         "subplot": "mapbox",
         "type": "scattermapbox"
        },
        {
         "hovertemplate": "neighbourhood=Centennial Scarborough<br>average_house_value=%{marker.size}<br>lat=%{lat}<br>lon=%{lon}<extra></extra>",
         "lat": [
          43.7823765
         ],
         "legendgroup": "Centennial Scarborough",
         "lon": [
          -79.15084327
         ],
         "marker": {
          "color": "#00cc96",
          "size": [
           409862.75
          ],
          "sizemode": "area",
          "sizeref": 3816.214375
         },
         "mode": "markers",
         "name": "Centennial Scarborough",
         "showlegend": true,
         "subplot": "mapbox",
         "type": "scattermapbox"
        },
        {
         "hovertemplate": "neighbourhood=Church-Yonge Corridor<br>average_house_value=%{marker.size}<br>lat=%{lat}<br>lon=%{lon}<extra></extra>",
         "lat": [
          43.65964886
         ],
         "legendgroup": "Church-Yonge Corridor",
         "lon": [
          -79.37901717
         ],
         "marker": {
          "color": "#ab63fa",
          "size": [
           406117.5
          ],
          "sizemode": "area",
          "sizeref": 3816.214375
         },
         "mode": "markers",
         "name": "Church-Yonge Corridor",
         "showlegend": true,
         "subplot": "mapbox",
         "type": "scattermapbox"
        },
        {
         "hovertemplate": "neighbourhood=Clairlea-Birchmount<br>average_house_value=%{marker.size}<br>lat=%{lat}<br>lon=%{lon}<extra></extra>",
         "lat": [
          43.71359238
         ],
         "legendgroup": "Clairlea-Birchmount",
         "lon": [
          -79.28138178
         ],
         "marker": {
          "color": "#FFA15A",
          "size": [
           354555.25
          ],
          "sizemode": "area",
          "sizeref": 3816.214375
         },
         "mode": "markers",
         "name": "Clairlea-Birchmount",
         "showlegend": true,
         "subplot": "mapbox",
         "type": "scattermapbox"
        },
        {
         "hovertemplate": "neighbourhood=Clanton Park<br>average_house_value=%{marker.size}<br>lat=%{lat}<br>lon=%{lon}<extra></extra>",
         "lat": [
          43.74197843
         ],
         "legendgroup": "Clanton Park",
         "lon": [
          -79.44630258
         ],
         "marker": {
          "color": "#19d3f3",
          "size": [
           551561.25
          ],
          "sizemode": "area",
          "sizeref": 3816.214375
         },
         "mode": "markers",
         "name": "Clanton Park",
         "showlegend": true,
         "subplot": "mapbox",
         "type": "scattermapbox"
        },
        {
         "hovertemplate": "neighbourhood=Cliffcrest<br>average_house_value=%{marker.size}<br>lat=%{lat}<br>lon=%{lon}<extra></extra>",
         "lat": [
          43.72112117
         ],
         "legendgroup": "Cliffcrest",
         "lon": [
          -79.23552957
         ],
         "marker": {
          "color": "#FF6692",
          "size": [
           417422
          ],
          "sizemode": "area",
          "sizeref": 3816.214375
         },
         "mode": "markers",
         "name": "Cliffcrest",
         "showlegend": true,
         "subplot": "mapbox",
         "type": "scattermapbox"
        },
        {
         "hovertemplate": "neighbourhood=Corso Italia-Davenport<br>average_house_value=%{marker.size}<br>lat=%{lat}<br>lon=%{lon}<extra></extra>",
         "lat": [
          43.67766091
         ],
         "legendgroup": "Corso Italia-Davenport",
         "lon": [
          -79.44746933
         ],
         "marker": {
          "color": "#B6E880",
          "size": [
           419930.5
          ],
          "sizemode": "area",
          "sizeref": 3816.214375
         },
         "mode": "markers",
         "name": "Corso Italia-Davenport",
         "showlegend": true,
         "subplot": "mapbox",
         "type": "scattermapbox"
        },
        {
         "hovertemplate": "neighbourhood=Danforth<br>average_house_value=%{marker.size}<br>lat=%{lat}<br>lon=%{lon}<extra></extra>",
         "lat": [
          43.68402547
         ],
         "legendgroup": "Danforth",
         "lon": [
          -79.32981941
         ],
         "marker": {
          "color": "#FF97FF",
          "size": [
           466943
          ],
          "sizemode": "area",
          "sizeref": 3816.214375
         },
         "mode": "markers",
         "name": "Danforth",
         "showlegend": true,
         "subplot": "mapbox",
         "type": "scattermapbox"
        },
        {
         "hovertemplate": "neighbourhood=Danforth-East York<br>average_house_value=%{marker.size}<br>lat=%{lat}<br>lon=%{lon}<extra></extra>",
         "lat": [
          43.68946809
         ],
         "legendgroup": "Danforth-East York",
         "lon": [
          -79.33140338
         ],
         "marker": {
          "color": "#FECB52",
          "size": [
           421679.25
          ],
          "sizemode": "area",
          "sizeref": 3816.214375
         },
         "mode": "markers",
         "name": "Danforth-East York",
         "showlegend": true,
         "subplot": "mapbox",
         "type": "scattermapbox"
        },
        {
         "hovertemplate": "neighbourhood=Don Valley Village<br>average_house_value=%{marker.size}<br>lat=%{lat}<br>lon=%{lon}<extra></extra>",
         "lat": [
          43.78329369
         ],
         "legendgroup": "Don Valley Village",
         "lon": [
          -79.35364413
         ],
         "marker": {
          "color": "#636efa",
          "size": [
           398010.25
          ],
          "sizemode": "area",
          "sizeref": 3816.214375
         },
         "mode": "markers",
         "name": "Don Valley Village",
         "showlegend": true,
         "subplot": "mapbox",
         "type": "scattermapbox"
        },
        {
         "hovertemplate": "neighbourhood=Dorset Park<br>average_house_value=%{marker.size}<br>lat=%{lat}<br>lon=%{lon}<extra></extra>",
         "lat": [
          43.75927437
         ],
         "legendgroup": "Dorset Park",
         "lon": [
          -79.27890794
         ],
         "marker": {
          "color": "#EF553B",
          "size": [
           262000.25
          ],
          "sizemode": "area",
          "sizeref": 3816.214375
         },
         "mode": "markers",
         "name": "Dorset Park",
         "showlegend": true,
         "subplot": "mapbox",
         "type": "scattermapbox"
        },
        {
         "hovertemplate": "neighbourhood=Dovercourt-Wallace Emerson-Juncti<br>average_house_value=%{marker.size}<br>lat=%{lat}<br>lon=%{lon}<extra></extra>",
         "lat": [
          43.66567693
         ],
         "legendgroup": "Dovercourt-Wallace Emerson-Juncti",
         "lon": [
          -79.4385407
         ],
         "marker": {
          "color": "#00cc96",
          "size": [
           434699.5
          ],
          "sizemode": "area",
          "sizeref": 3816.214375
         },
         "mode": "markers",
         "name": "Dovercourt-Wallace Emerson-Juncti",
         "showlegend": true,
         "subplot": "mapbox",
         "type": "scattermapbox"
        },
        {
         "hovertemplate": "neighbourhood=Downsview-Roding-CFB<br>average_house_value=%{marker.size}<br>lat=%{lat}<br>lon=%{lon}<extra></extra>",
         "lat": [
          43.73329235
         ],
         "legendgroup": "Downsview-Roding-CFB",
         "lon": [
          -79.49049735
         ],
         "marker": {
          "color": "#ab63fa",
          "size": [
           381415.5
          ],
          "sizemode": "area",
          "sizeref": 3816.214375
         },
         "mode": "markers",
         "name": "Downsview-Roding-CFB",
         "showlegend": true,
         "subplot": "mapbox",
         "type": "scattermapbox"
        },
        {
         "hovertemplate": "neighbourhood=Dufferin Grove<br>average_house_value=%{marker.size}<br>lat=%{lat}<br>lon=%{lon}<extra></extra>",
         "lat": [
          43.65542833
         ],
         "legendgroup": "Dufferin Grove",
         "lon": [
          -79.43734104
         ],
         "marker": {
          "color": "#FFA15A",
          "size": [
           457588.75
          ],
          "sizemode": "area",
          "sizeref": 3816.214375
         },
         "mode": "markers",
         "name": "Dufferin Grove",
         "showlegend": true,
         "subplot": "mapbox",
         "type": "scattermapbox"
        },
        {
         "hovertemplate": "neighbourhood=East End-Danforth<br>average_house_value=%{marker.size}<br>lat=%{lat}<br>lon=%{lon}<extra></extra>",
         "lat": [
          43.68417388
         ],
         "legendgroup": "East End-Danforth",
         "lon": [
          -79.29935867
         ],
         "marker": {
          "color": "#19d3f3",
          "size": [
           478054.25
          ],
          "sizemode": "area",
          "sizeref": 3816.214375
         },
         "mode": "markers",
         "name": "East End-Danforth",
         "showlegend": true,
         "subplot": "mapbox",
         "type": "scattermapbox"
        },
        {
         "hovertemplate": "neighbourhood=Edenbridge-Humber Valley<br>average_house_value=%{marker.size}<br>lat=%{lat}<br>lon=%{lon}<extra></extra>",
         "lat": [
          43.67088591
         ],
         "legendgroup": "Edenbridge-Humber Valley",
         "lon": [
          -79.52245776
         ],
         "marker": {
          "color": "#FF6692",
          "size": [
           796162.5
          ],
          "sizemode": "area",
          "sizeref": 3816.214375
         },
         "mode": "markers",
         "name": "Edenbridge-Humber Valley",
         "showlegend": true,
         "subplot": "mapbox",
         "type": "scattermapbox"
        },
        {
         "hovertemplate": "neighbourhood=Eglinton East<br>average_house_value=%{marker.size}<br>lat=%{lat}<br>lon=%{lon}<extra></extra>",
         "lat": [
          43.7409223
         ],
         "legendgroup": "Eglinton East",
         "lon": [
          -79.24559804
         ],
         "marker": {
          "color": "#B6E880",
          "size": [
           268966.5
          ],
          "sizemode": "area",
          "sizeref": 3816.214375
         },
         "mode": "markers",
         "name": "Eglinton East",
         "showlegend": true,
         "subplot": "mapbox",
         "type": "scattermapbox"
        },
        {
         "hovertemplate": "neighbourhood=Elms-Old Rexdale<br>average_house_value=%{marker.size}<br>lat=%{lat}<br>lon=%{lon}<extra></extra>",
         "lat": [
          43.72151887
         ],
         "legendgroup": "Elms-Old Rexdale",
         "lon": [
          -79.54898272
         ],
         "marker": {
          "color": "#FF97FF",
          "size": [
           268341.25
          ],
          "sizemode": "area",
          "sizeref": 3816.214375
         },
         "mode": "markers",
         "name": "Elms-Old Rexdale",
         "showlegend": true,
         "subplot": "mapbox",
         "type": "scattermapbox"
        },
        {
         "hovertemplate": "neighbourhood=Englemount-Lawrence<br>average_house_value=%{marker.size}<br>lat=%{lat}<br>lon=%{lon}<extra></extra>",
         "lat": [
          43.72034467
         ],
         "legendgroup": "Englemount-Lawrence",
         "lon": [
          -79.43740855
         ],
         "marker": {
          "color": "#FECB52",
          "size": [
           568936.75
          ],
          "sizemode": "area",
          "sizeref": 3816.214375
         },
         "mode": "markers",
         "name": "Englemount-Lawrence",
         "showlegend": true,
         "subplot": "mapbox",
         "type": "scattermapbox"
        },
        {
         "hovertemplate": "neighbourhood=Eringate-Centennial-West Deane<br>average_house_value=%{marker.size}<br>lat=%{lat}<br>lon=%{lon}<extra></extra>",
         "lat": [
          43.65801676
         ],
         "legendgroup": "Eringate-Centennial-West Deane",
         "lon": [
          -79.58044524
         ],
         "marker": {
          "color": "#636efa",
          "size": [
           397781.75
          ],
          "sizemode": "area",
          "sizeref": 3816.214375
         },
         "mode": "markers",
         "name": "Eringate-Centennial-West Deane",
         "showlegend": true,
         "subplot": "mapbox",
         "type": "scattermapbox"
        },
        {
         "hovertemplate": "neighbourhood=Etobicoke West Mall<br>average_house_value=%{marker.size}<br>lat=%{lat}<br>lon=%{lon}<extra></extra>",
         "lat": [
          43.64506262
         ],
         "legendgroup": "Etobicoke West Mall",
         "lon": [
          -79.56893877
         ],
         "marker": {
          "color": "#EF553B",
          "size": [
           309412
          ],
          "sizemode": "area",
          "sizeref": 3816.214375
         },
         "mode": "markers",
         "name": "Etobicoke West Mall",
         "showlegend": true,
         "subplot": "mapbox",
         "type": "scattermapbox"
        },
        {
         "hovertemplate": "neighbourhood=Flemingdon Park<br>average_house_value=%{marker.size}<br>lat=%{lat}<br>lon=%{lon}<extra></extra>",
         "lat": [
          43.71592975
         ],
         "legendgroup": "Flemingdon Park",
         "lon": [
          -79.33264597
         ],
         "marker": {
          "color": "#00cc96",
          "size": [
           207799
          ],
          "sizemode": "area",
          "sizeref": 3816.214375
         },
         "mode": "markers",
         "name": "Flemingdon Park",
         "showlegend": true,
         "subplot": "mapbox",
         "type": "scattermapbox"
        },
        {
         "hovertemplate": "neighbourhood=Forest Hill North<br>average_house_value=%{marker.size}<br>lat=%{lat}<br>lon=%{lon}<extra></extra>",
         "lat": [
          43.70421756
         ],
         "legendgroup": "Forest Hill North",
         "lon": [
          -79.42814316
         ],
         "marker": {
          "color": "#ab63fa",
          "size": [
           851680.5
          ],
          "sizemode": "area",
          "sizeref": 3816.214375
         },
         "mode": "markers",
         "name": "Forest Hill North",
         "showlegend": true,
         "subplot": "mapbox",
         "type": "scattermapbox"
        },
        {
         "hovertemplate": "neighbourhood=Forest Hill South<br>average_house_value=%{marker.size}<br>lat=%{lat}<br>lon=%{lon}<extra></extra>",
         "lat": [
          43.69452576
         ],
         "legendgroup": "Forest Hill South",
         "lon": [
          -79.41431786
         ],
         "marker": {
          "color": "#FFA15A",
          "size": [
           1195992.5
          ],
          "sizemode": "area",
          "sizeref": 3816.214375
         },
         "mode": "markers",
         "name": "Forest Hill South",
         "showlegend": true,
         "subplot": "mapbox",
         "type": "scattermapbox"
        },
        {
         "hovertemplate": "neighbourhood=Glenfield-Jane Heights<br>average_house_value=%{marker.size}<br>lat=%{lat}<br>lon=%{lon}<extra></extra>",
         "lat": [
          43.74563575
         ],
         "legendgroup": "Glenfield-Jane Heights",
         "lon": [
          -79.51346532
         ],
         "marker": {
          "color": "#19d3f3",
          "size": [
           327597.75
          ],
          "sizemode": "area",
          "sizeref": 3816.214375
         },
         "mode": "markers",
         "name": "Glenfield-Jane Heights",
         "showlegend": true,
         "subplot": "mapbox",
         "type": "scattermapbox"
        },
        {
         "hovertemplate": "neighbourhood=Greenwood-Coxwell<br>average_house_value=%{marker.size}<br>lat=%{lat}<br>lon=%{lon}<extra></extra>",
         "lat": [
          43.67261231
         ],
         "legendgroup": "Greenwood-Coxwell",
         "lon": [
          -79.32431802
         ],
         "marker": {
          "color": "#FF6692",
          "size": [
           387055.5
          ],
          "sizemode": "area",
          "sizeref": 3816.214375
         },
         "mode": "markers",
         "name": "Greenwood-Coxwell",
         "showlegend": true,
         "subplot": "mapbox",
         "type": "scattermapbox"
        },
        {
         "hovertemplate": "neighbourhood=Guildwood<br>average_house_value=%{marker.size}<br>lat=%{lat}<br>lon=%{lon}<extra></extra>",
         "lat": [
          43.74882934
         ],
         "legendgroup": "Guildwood",
         "lon": [
          -79.19505535
         ],
         "marker": {
          "color": "#B6E880",
          "size": [
           369373.5
          ],
          "sizemode": "area",
          "sizeref": 3816.214375
         },
         "mode": "markers",
         "name": "Guildwood",
         "showlegend": true,
         "subplot": "mapbox",
         "type": "scattermapbox"
        },
        {
         "hovertemplate": "neighbourhood=Henry Farm<br>average_house_value=%{marker.size}<br>lat=%{lat}<br>lon=%{lon}<extra></extra>",
         "lat": [
          43.77114414
         ],
         "legendgroup": "Henry Farm",
         "lon": [
          -79.34124067
         ],
         "marker": {
          "color": "#FF97FF",
          "size": [
           369958
          ],
          "sizemode": "area",
          "sizeref": 3816.214375
         },
         "mode": "markers",
         "name": "Henry Farm",
         "showlegend": true,
         "subplot": "mapbox",
         "type": "scattermapbox"
        },
        {
         "hovertemplate": "neighbourhood=High Park North<br>average_house_value=%{marker.size}<br>lat=%{lat}<br>lon=%{lon}<extra></extra>",
         "lat": [
          43.65756491
         ],
         "legendgroup": "High Park North",
         "lon": [
          -79.46630217
         ],
         "marker": {
          "color": "#FECB52",
          "size": [
           532497
          ],
          "sizemode": "area",
          "sizeref": 3816.214375
         },
         "mode": "markers",
         "name": "High Park North",
         "showlegend": true,
         "subplot": "mapbox",
         "type": "scattermapbox"
        },
        {
         "hovertemplate": "neighbourhood=High Park-Swansea<br>average_house_value=%{marker.size}<br>lat=%{lat}<br>lon=%{lon}<extra></extra>",
         "lat": [
          43.64506458
         ],
         "legendgroup": "High Park-Swansea",
         "lon": [
          -79.46787222
         ],
         "marker": {
          "color": "#636efa",
          "size": [
           582977.75
          ],
          "sizemode": "area",
          "sizeref": 3816.214375
         },
         "mode": "markers",
         "name": "High Park-Swansea",
         "showlegend": true,
         "subplot": "mapbox",
         "type": "scattermapbox"
        },
        {
         "hovertemplate": "neighbourhood=Highland Creek<br>average_house_value=%{marker.size}<br>lat=%{lat}<br>lon=%{lon}<extra></extra>",
         "lat": [
          43.79077477
         ],
         "legendgroup": "Highland Creek",
         "lon": [
          -79.17747247
         ],
         "marker": {
          "color": "#EF553B",
          "size": [
           428838.5
          ],
          "sizemode": "area",
          "sizeref": 3816.214375
         },
         "mode": "markers",
         "name": "Highland Creek",
         "showlegend": true,
         "subplot": "mapbox",
         "type": "scattermapbox"
        },
        {
         "hovertemplate": "neighbourhood=Hillcrest Village<br>average_house_value=%{marker.size}<br>lat=%{lat}<br>lon=%{lon}<extra></extra>",
         "lat": [
          43.80298783
         ],
         "legendgroup": "Hillcrest Village",
         "lon": [
          -79.354804
         ],
         "marker": {
          "color": "#00cc96",
          "size": [
           395023
          ],
          "sizemode": "area",
          "sizeref": 3816.214375
         },
         "mode": "markers",
         "name": "Hillcrest Village",
         "showlegend": true,
         "subplot": "mapbox",
         "type": "scattermapbox"
        },
        {
         "hovertemplate": "neighbourhood=Humber Heights-Westmount<br>average_house_value=%{marker.size}<br>lat=%{lat}<br>lon=%{lon}<extra></extra>",
         "lat": [
          43.6922328
         ],
         "legendgroup": "Humber Heights-Westmount",
         "lon": [
          -79.5224162
         ],
         "marker": {
          "color": "#ab63fa",
          "size": [
           449150.5
          ],
          "sizemode": "area",
          "sizeref": 3816.214375
         },
         "mode": "markers",
         "name": "Humber Heights-Westmount",
         "showlegend": true,
         "subplot": "mapbox",
         "type": "scattermapbox"
        },
        {
         "hovertemplate": "neighbourhood=Humber Summit<br>average_house_value=%{marker.size}<br>lat=%{lat}<br>lon=%{lon}<extra></extra>",
         "lat": [
          43.75891975
         ],
         "legendgroup": "Humber Summit",
         "lon": [
          -79.55617474
         ],
         "marker": {
          "color": "#FFA15A",
          "size": [
           352082.5
          ],
          "sizemode": "area",
          "sizeref": 3816.214375
         },
         "mode": "markers",
         "name": "Humber Summit",
         "showlegend": true,
         "subplot": "mapbox",
         "type": "scattermapbox"
        },
        {
         "hovertemplate": "neighbourhood=Humbermede<br>average_house_value=%{marker.size}<br>lat=%{lat}<br>lon=%{lon}<extra></extra>",
         "lat": [
          43.74342952
         ],
         "legendgroup": "Humbermede",
         "lon": [
          -79.54236712
         ],
         "marker": {
          "color": "#19d3f3",
          "size": [
           319783.75
          ],
          "sizemode": "area",
          "sizeref": 3816.214375
         },
         "mode": "markers",
         "name": "Humbermede",
         "showlegend": true,
         "subplot": "mapbox",
         "type": "scattermapbox"
        },
        {
         "hovertemplate": "neighbourhood=Humewood-Cedarvale<br>average_house_value=%{marker.size}<br>lat=%{lat}<br>lon=%{lon}<extra></extra>",
         "lat": [
          43.69136981
         ],
         "legendgroup": "Humewood-Cedarvale",
         "lon": [
          -79.42768335
         ],
         "marker": {
          "color": "#FF6692",
          "size": [
           697085.5
          ],
          "sizemode": "area",
          "sizeref": 3816.214375
         },
         "mode": "markers",
         "name": "Humewood-Cedarvale",
         "showlegend": true,
         "subplot": "mapbox",
         "type": "scattermapbox"
        },
        {
         "hovertemplate": "neighbourhood=Ionview<br>average_house_value=%{marker.size}<br>lat=%{lat}<br>lon=%{lon}<extra></extra>",
         "lat": [
          43.73536441
         ],
         "legendgroup": "Ionview",
         "lon": [
          -79.27247049
         ],
         "marker": {
          "color": "#B6E880",
          "size": [
           287685.75
          ],
          "sizemode": "area",
          "sizeref": 3816.214375
         },
         "mode": "markers",
         "name": "Ionview",
         "showlegend": true,
         "subplot": "mapbox",
         "type": "scattermapbox"
        },
        {
         "hovertemplate": "neighbourhood=Islington-City Centre West<br>average_house_value=%{marker.size}<br>lat=%{lat}<br>lon=%{lon}<extra></extra>",
         "lat": [
          43.63346335
         ],
         "legendgroup": "Islington-City Centre West",
         "lon": [
          -79.54331654
         ],
         "marker": {
          "color": "#FF97FF",
          "size": [
           451685.25
          ],
          "sizemode": "area",
          "sizeref": 3816.214375
         },
         "mode": "markers",
         "name": "Islington-City Centre West",
         "showlegend": true,
         "subplot": "mapbox",
         "type": "scattermapbox"
        },
        {
         "hovertemplate": "neighbourhood=Junction Area<br>average_house_value=%{marker.size}<br>lat=%{lat}<br>lon=%{lon}<extra></extra>",
         "lat": [
          43.66788977
         ],
         "legendgroup": "Junction Area",
         "lon": [
          -79.47143987
         ],
         "marker": {
          "color": "#FECB52",
          "size": [
           433269.25
          ],
          "sizemode": "area",
          "sizeref": 3816.214375
         },
         "mode": "markers",
         "name": "Junction Area",
         "showlegend": true,
         "subplot": "mapbox",
         "type": "scattermapbox"
        },
        {
         "hovertemplate": "neighbourhood=Keelesdale-Eglinton West<br>average_house_value=%{marker.size}<br>lat=%{lat}<br>lon=%{lon}<extra></extra>",
         "lat": [
          43.68572747
         ],
         "legendgroup": "Keelesdale-Eglinton West",
         "lon": [
          -79.47143711
         ],
         "marker": {
          "color": "#636efa",
          "size": [
           322774.75
          ],
          "sizemode": "area",
          "sizeref": 3816.214375
         },
         "mode": "markers",
         "name": "Keelesdale-Eglinton West",
         "showlegend": true,
         "subplot": "mapbox",
         "type": "scattermapbox"
        },
        {
         "hovertemplate": "neighbourhood=Kennedy Park<br>average_house_value=%{marker.size}<br>lat=%{lat}<br>lon=%{lon}<extra></extra>",
         "lat": [
          43.72555572
         ],
         "legendgroup": "Kennedy Park",
         "lon": [
          -79.26038221
         ],
         "marker": {
          "color": "#EF553B",
          "size": [
           287233.5
          ],
          "sizemode": "area",
          "sizeref": 3816.214375
         },
         "mode": "markers",
         "name": "Kennedy Park",
         "showlegend": true,
         "subplot": "mapbox",
         "type": "scattermapbox"
        },
        {
         "hovertemplate": "neighbourhood=Kensington-Chinatown<br>average_house_value=%{marker.size}<br>lat=%{lat}<br>lon=%{lon}<extra></extra>",
         "lat": [
          43.65355413
         ],
         "legendgroup": "Kensington-Chinatown",
         "lon": [
          -79.39723988
         ],
         "marker": {
          "color": "#00cc96",
          "size": [
           440485.75
          ],
          "sizemode": "area",
          "sizeref": 3816.214375
         },
         "mode": "markers",
         "name": "Kensington-Chinatown",
         "showlegend": true,
         "subplot": "mapbox",
         "type": "scattermapbox"
        },
        {
         "hovertemplate": "neighbourhood=Kingsview Village-The Westway<br>average_house_value=%{marker.size}<br>lat=%{lat}<br>lon=%{lon}<extra></extra>",
         "lat": [
          43.69899257
         ],
         "legendgroup": "Kingsview Village-The Westway",
         "lon": [
          -79.54786331
         ],
         "marker": {
          "color": "#ab63fa",
          "size": [
           338344.75
          ],
          "sizemode": "area",
          "sizeref": 3816.214375
         },
         "mode": "markers",
         "name": "Kingsview Village-The Westway",
         "showlegend": true,
         "subplot": "mapbox",
         "type": "scattermapbox"
        },
        {
         "hovertemplate": "neighbourhood=Kingsway South<br>average_house_value=%{marker.size}<br>lat=%{lat}<br>lon=%{lon}<extra></extra>",
         "lat": [
          43.65352043
         ],
         "legendgroup": "Kingsway South",
         "lon": [
          -79.5105768
         ],
         "marker": {
          "color": "#FFA15A",
          "size": [
           843234.25
          ],
          "sizemode": "area",
          "sizeref": 3816.214375
         },
         "mode": "markers",
         "name": "Kingsway South",
         "showlegend": true,
         "subplot": "mapbox",
         "type": "scattermapbox"
        },
        {
         "hovertemplate": "neighbourhood=L'Amoreaux<br>average_house_value=%{marker.size}<br>lat=%{lat}<br>lon=%{lon}<extra></extra>",
         "lat": [
          43.79571603
         ],
         "legendgroup": "L'Amoreaux",
         "lon": [
          -79.31408424
         ],
         "marker": {
          "color": "#19d3f3",
          "size": [
           650307.75
          ],
          "sizemode": "area",
          "sizeref": 3816.214375
         },
         "mode": "markers",
         "name": "L'Amoreaux",
         "showlegend": true,
         "subplot": "mapbox",
         "type": "scattermapbox"
        },
        {
         "hovertemplate": "neighbourhood=Lambton Baby Point<br>average_house_value=%{marker.size}<br>lat=%{lat}<br>lon=%{lon}<extra></extra>",
         "lat": [
          43.65742013
         ],
         "legendgroup": "Lambton Baby Point",
         "lon": [
          -79.49604526
         ],
         "marker": {
          "color": "#FF6692",
          "size": [
           336617.75
          ],
          "sizemode": "area",
          "sizeref": 3816.214375
         },
         "mode": "markers",
         "name": "Lambton Baby Point",
         "showlegend": true,
         "subplot": "mapbox",
         "type": "scattermapbox"
        },
        {
         "hovertemplate": "neighbourhood=Lansing-Westgate<br>average_house_value=%{marker.size}<br>lat=%{lat}<br>lon=%{lon}<extra></extra>",
         "lat": [
          43.75427115
         ],
         "legendgroup": "Lansing-Westgate",
         "lon": [
          -79.42474772
         ],
         "marker": {
          "color": "#B6E880",
          "size": [
           613216.5
          ],
          "sizemode": "area",
          "sizeref": 3816.214375
         },
         "mode": "markers",
         "name": "Lansing-Westgate",
         "showlegend": true,
         "subplot": "mapbox",
         "type": "scattermapbox"
        },
        {
         "hovertemplate": "neighbourhood=Lawrence Park North<br>average_house_value=%{marker.size}<br>lat=%{lat}<br>lon=%{lon}<extra></extra>",
         "lat": [
          43.73006017
         ],
         "legendgroup": "Lawrence Park North",
         "lon": [
          -79.40397836
         ],
         "marker": {
          "color": "#FF97FF",
          "size": [
           759392.5
          ],
          "sizemode": "area",
          "sizeref": 3816.214375
         },
         "mode": "markers",
         "name": "Lawrence Park North",
         "showlegend": true,
         "subplot": "mapbox",
         "type": "scattermapbox"
        },
        {
         "hovertemplate": "neighbourhood=Lawrence Park South<br>average_house_value=%{marker.size}<br>lat=%{lat}<br>lon=%{lon}<extra></extra>",
         "lat": [
          43.7172117
         ],
         "legendgroup": "Lawrence Park South",
         "lon": [
          -79.40603941
         ],
         "marker": {
          "color": "#FECB52",
          "size": [
           1094027.75
          ],
          "sizemode": "area",
          "sizeref": 3816.214375
         },
         "mode": "markers",
         "name": "Lawrence Park South",
         "showlegend": true,
         "subplot": "mapbox",
         "type": "scattermapbox"
        },
        {
         "hovertemplate": "neighbourhood=Leaside-Bennington<br>average_house_value=%{marker.size}<br>lat=%{lat}<br>lon=%{lon}<extra></extra>",
         "lat": [
          43.70379663
         ],
         "legendgroup": "Leaside-Bennington",
         "lon": [
          -79.36607234
         ],
         "marker": {
          "color": "#636efa",
          "size": [
           806471.75
          ],
          "sizemode": "area",
          "sizeref": 3816.214375
         },
         "mode": "markers",
         "name": "Leaside-Bennington",
         "showlegend": true,
         "subplot": "mapbox",
         "type": "scattermapbox"
        },
        {
         "hovertemplate": "neighbourhood=Little Portugal<br>average_house_value=%{marker.size}<br>lat=%{lat}<br>lon=%{lon}<extra></extra>",
         "lat": [
          43.64753593
         ],
         "legendgroup": "Little Portugal",
         "lon": [
          -79.43032271
         ],
         "marker": {
          "color": "#EF553B",
          "size": [
           540192.5
          ],
          "sizemode": "area",
          "sizeref": 3816.214375
         },
         "mode": "markers",
         "name": "Little Portugal",
         "showlegend": true,
         "subplot": "mapbox",
         "type": "scattermapbox"
        },
        {
         "hovertemplate": "neighbourhood=Long Branch<br>average_house_value=%{marker.size}<br>lat=%{lat}<br>lon=%{lon}<extra></extra>",
         "lat": [
          43.59236169
         ],
         "legendgroup": "Long Branch",
         "lon": [
          -79.53334545
         ],
         "marker": {
          "color": "#00cc96",
          "size": [
           385830.25
          ],
          "sizemode": "area",
          "sizeref": 3816.214375
         },
         "mode": "markers",
         "name": "Long Branch",
         "showlegend": true,
         "subplot": "mapbox",
         "type": "scattermapbox"
        },
        {
         "hovertemplate": "neighbourhood=Malvern<br>average_house_value=%{marker.size}<br>lat=%{lat}<br>lon=%{lon}<extra></extra>",
         "lat": [
          43.8036582
         ],
         "legendgroup": "Malvern",
         "lon": [
          -79.22251662
         ],
         "marker": {
          "color": "#ab63fa",
          "size": [
           256880.25
          ],
          "sizemode": "area",
          "sizeref": 3816.214375
         },
         "mode": "markers",
         "name": "Malvern",
         "showlegend": true,
         "subplot": "mapbox",
         "type": "scattermapbox"
        },
        {
         "hovertemplate": "neighbourhood=Maple Leaf<br>average_house_value=%{marker.size}<br>lat=%{lat}<br>lon=%{lon}<extra></extra>",
         "lat": [
          43.71557394
         ],
         "legendgroup": "Maple Leaf",
         "lon": [
          -79.48075802
         ],
         "marker": {
          "color": "#FFA15A",
          "size": [
           453229
          ],
          "sizemode": "area",
          "sizeref": 3816.214375
         },
         "mode": "markers",
         "name": "Maple Leaf",
         "showlegend": true,
         "subplot": "mapbox",
         "type": "scattermapbox"
        },
        {
         "hovertemplate": "neighbourhood=Markland Wood<br>average_house_value=%{marker.size}<br>lat=%{lat}<br>lon=%{lon}<extra></extra>",
         "lat": [
          43.63354175
         ],
         "legendgroup": "Markland Wood",
         "lon": [
          -79.57343155
         ],
         "marker": {
          "color": "#19d3f3",
          "size": [
           443974.75
          ],
          "sizemode": "area",
          "sizeref": 3816.214375
         },
         "mode": "markers",
         "name": "Markland Wood",
         "showlegend": true,
         "subplot": "mapbox",
         "type": "scattermapbox"
        },
        {
         "hovertemplate": "neighbourhood=Milliken<br>average_house_value=%{marker.size}<br>lat=%{lat}<br>lon=%{lon}<extra></extra>",
         "lat": [
          43.82069079
         ],
         "legendgroup": "Milliken",
         "lon": [
          -79.27500892
         ],
         "marker": {
          "color": "#FF6692",
          "size": [
           344988.25
          ],
          "sizemode": "area",
          "sizeref": 3816.214375
         },
         "mode": "markers",
         "name": "Milliken",
         "showlegend": true,
         "subplot": "mapbox",
         "type": "scattermapbox"
        },
        {
         "hovertemplate": "neighbourhood=Mimico<br>average_house_value=%{marker.size}<br>lat=%{lat}<br>lon=%{lon}<extra></extra>",
         "lat": [
          43.61592386
         ],
         "legendgroup": "Mimico",
         "lon": [
          -79.50013664
         ],
         "marker": {
          "color": "#B6E880",
          "size": [
           393490.5
          ],
          "sizemode": "area",
          "sizeref": 3816.214375
         },
         "mode": "markers",
         "name": "Mimico",
         "showlegend": true,
         "subplot": "mapbox",
         "type": "scattermapbox"
        },
        {
         "hovertemplate": "neighbourhood=Morningside<br>average_house_value=%{marker.size}<br>lat=%{lat}<br>lon=%{lon}<extra></extra>",
         "lat": [
          43.78239861
         ],
         "legendgroup": "Morningside",
         "lon": [
          -79.20704119
         ],
         "marker": {
          "color": "#FF97FF",
          "size": [
           285013.5
          ],
          "sizemode": "area",
          "sizeref": 3816.214375
         },
         "mode": "markers",
         "name": "Morningside",
         "showlegend": true,
         "subplot": "mapbox",
         "type": "scattermapbox"
        },
        {
         "hovertemplate": "neighbourhood=Moss Park<br>average_house_value=%{marker.size}<br>lat=%{lat}<br>lon=%{lon}<extra></extra>",
         "lat": [
          43.65651762
         ],
         "legendgroup": "Moss Park",
         "lon": [
          -79.36729703
         ],
         "marker": {
          "color": "#FECB52",
          "size": [
           409456
          ],
          "sizemode": "area",
          "sizeref": 3816.214375
         },
         "mode": "markers",
         "name": "Moss Park",
         "showlegend": true,
         "subplot": "mapbox",
         "type": "scattermapbox"
        },
        {
         "hovertemplate": "neighbourhood=Mount Dennis<br>average_house_value=%{marker.size}<br>lat=%{lat}<br>lon=%{lon}<extra></extra>",
         "lat": [
          43.68814409
         ],
         "legendgroup": "Mount Dennis",
         "lon": [
          -79.49998906
         ],
         "marker": {
          "color": "#636efa",
          "size": [
           262308.75
          ],
          "sizemode": "area",
          "sizeref": 3816.214375
         },
         "mode": "markers",
         "name": "Mount Dennis",
         "showlegend": true,
         "subplot": "mapbox",
         "type": "scattermapbox"
        },
        {
         "hovertemplate": "neighbourhood=Mount Olive-Silverstone-Jamestown<br>average_house_value=%{marker.size}<br>lat=%{lat}<br>lon=%{lon}<extra></extra>",
         "lat": [
          43.7468678
         ],
         "legendgroup": "Mount Olive-Silverstone-Jamestown",
         "lon": [
          -79.58725926
         ],
         "marker": {
          "color": "#EF553B",
          "size": [
           253182.25
          ],
          "sizemode": "area",
          "sizeref": 3816.214375
         },
         "mode": "markers",
         "name": "Mount Olive-Silverstone-Jamestown",
         "showlegend": true,
         "subplot": "mapbox",
         "type": "scattermapbox"
        },
        {
         "hovertemplate": "neighbourhood=Mount Pleasant East<br>average_house_value=%{marker.size}<br>lat=%{lat}<br>lon=%{lon}<extra></extra>",
         "lat": [
          43.70485217
         ],
         "legendgroup": "Mount Pleasant East",
         "lon": [
          -79.38492395
         ],
         "marker": {
          "color": "#00cc96",
          "size": [
           677370.25
          ],
          "sizemode": "area",
          "sizeref": 3816.214375
         },
         "mode": "markers",
         "name": "Mount Pleasant East",
         "showlegend": true,
         "subplot": "mapbox",
         "type": "scattermapbox"
        },
        {
         "hovertemplate": "neighbourhood=Mount Pleasant West<br>average_house_value=%{marker.size}<br>lat=%{lat}<br>lon=%{lon}<extra></extra>",
         "lat": [
          43.70443517
         ],
         "legendgroup": "Mount Pleasant West",
         "lon": [
          -79.39335955
         ],
         "marker": {
          "color": "#ab63fa",
          "size": [
           468181.75
          ],
          "sizemode": "area",
          "sizeref": 3816.214375
         },
         "mode": "markers",
         "name": "Mount Pleasant West",
         "showlegend": true,
         "subplot": "mapbox",
         "type": "scattermapbox"
        },
        {
         "hovertemplate": "neighbourhood=New Toronto<br>average_house_value=%{marker.size}<br>lat=%{lat}<br>lon=%{lon}<extra></extra>",
         "lat": [
          43.6005886
         ],
         "legendgroup": "New Toronto",
         "lon": [
          -79.51035809
         ],
         "marker": {
          "color": "#FFA15A",
          "size": [
           407812
          ],
          "sizemode": "area",
          "sizeref": 3816.214375
         },
         "mode": "markers",
         "name": "New Toronto",
         "showlegend": true,
         "subplot": "mapbox",
         "type": "scattermapbox"
        },
        {
         "hovertemplate": "neighbourhood=Newtonbrook East<br>average_house_value=%{marker.size}<br>lat=%{lat}<br>lon=%{lon}<extra></extra>",
         "lat": [
          43.79153579
         ],
         "legendgroup": "Newtonbrook East",
         "lon": [
          -79.40593745
         ],
         "marker": {
          "color": "#19d3f3",
          "size": [
           559573.25
          ],
          "sizemode": "area",
          "sizeref": 3816.214375
         },
         "mode": "markers",
         "name": "Newtonbrook East",
         "showlegend": true,
         "subplot": "mapbox",
         "type": "scattermapbox"
        },
        {
         "hovertemplate": "neighbourhood=Newtonbrook West<br>average_house_value=%{marker.size}<br>lat=%{lat}<br>lon=%{lon}<extra></extra>",
         "lat": [
          43.78582994
         ],
         "legendgroup": "Newtonbrook West",
         "lon": [
          -79.43142151
         ],
         "marker": {
          "color": "#FF6692",
          "size": [
           460568.5
          ],
          "sizemode": "area",
          "sizeref": 3816.214375
         },
         "mode": "markers",
         "name": "Newtonbrook West",
         "showlegend": true,
         "subplot": "mapbox",
         "type": "scattermapbox"
        },
        {
         "hovertemplate": "neighbourhood=Niagara<br>average_house_value=%{marker.size}<br>lat=%{lat}<br>lon=%{lon}<extra></extra>",
         "lat": [
          43.63668088
         ],
         "legendgroup": "Niagara",
         "lon": [
          -79.4124204
         ],
         "marker": {
          "color": "#B6E880",
          "size": [
           369993
          ],
          "sizemode": "area",
          "sizeref": 3816.214375
         },
         "mode": "markers",
         "name": "Niagara",
         "showlegend": true,
         "subplot": "mapbox",
         "type": "scattermapbox"
        },
        {
         "hovertemplate": "neighbourhood=North Riverdale<br>average_house_value=%{marker.size}<br>lat=%{lat}<br>lon=%{lon}<extra></extra>",
         "lat": [
          43.67199515
         ],
         "legendgroup": "North Riverdale",
         "lon": [
          -79.35126041
         ],
         "marker": {
          "color": "#FF97FF",
          "size": [
           703063.25
          ],
          "sizemode": "area",
          "sizeref": 3816.214375
         },
         "mode": "markers",
         "name": "North Riverdale",
         "showlegend": true,
         "subplot": "mapbox",
         "type": "scattermapbox"
        },
        {
         "hovertemplate": "neighbourhood=North St.James Town<br>average_house_value=%{marker.size}<br>lat=%{lat}<br>lon=%{lon}<extra></extra>",
         "lat": [
          43.66962341
         ],
         "legendgroup": "North St.James Town",
         "lon": [
          -79.37524658
         ],
         "marker": {
          "color": "#FECB52",
          "size": [
           411455.75
          ],
          "sizemode": "area",
          "sizeref": 3816.214375
         },
         "mode": "markers",
         "name": "North St.James Town",
         "showlegend": true,
         "subplot": "mapbox",
         "type": "scattermapbox"
        },
        {
         "hovertemplate": "neighbourhood=O'Connor-Parkview<br>average_house_value=%{marker.size}<br>lat=%{lat}<br>lon=%{lon}<extra></extra>",
         "lat": [
          43.70680049
         ],
         "legendgroup": "O'Connor-Parkview",
         "lon": [
          -79.31222777
         ],
         "marker": {
          "color": "#636efa",
          "size": [
           298315.75
          ],
          "sizemode": "area",
          "sizeref": 3816.214375
         },
         "mode": "markers",
         "name": "O'Connor-Parkview",
         "showlegend": true,
         "subplot": "mapbox",
         "type": "scattermapbox"
        },
        {
         "hovertemplate": "neighbourhood=Oakridge<br>average_house_value=%{marker.size}<br>lat=%{lat}<br>lon=%{lon}<extra></extra>",
         "lat": [
          43.69740813
         ],
         "legendgroup": "Oakridge",
         "lon": [
          -79.27970834
         ],
         "marker": {
          "color": "#EF553B",
          "size": [
           422257.5
          ],
          "sizemode": "area",
          "sizeref": 3816.214375
         },
         "mode": "markers",
         "name": "Oakridge",
         "showlegend": true,
         "subplot": "mapbox",
         "type": "scattermapbox"
        },
        {
         "hovertemplate": "neighbourhood=Oakwood Village<br>average_house_value=%{marker.size}<br>lat=%{lat}<br>lon=%{lon}<extra></extra>",
         "lat": [
          43.68856556
         ],
         "legendgroup": "Oakwood Village",
         "lon": [
          -79.43978548
         ],
         "marker": {
          "color": "#00cc96",
          "size": [
           441202.75
          ],
          "sizemode": "area",
          "sizeref": 3816.214375
         },
         "mode": "markers",
         "name": "Oakwood Village",
         "showlegend": true,
         "subplot": "mapbox",
         "type": "scattermapbox"
        },
        {
         "hovertemplate": "neighbourhood=Old East York<br>average_house_value=%{marker.size}<br>lat=%{lat}<br>lon=%{lon}<extra></extra>",
         "lat": [
          43.69678127
         ],
         "legendgroup": "Old East York",
         "lon": [
          -79.33548836
         ],
         "marker": {
          "color": "#ab63fa",
          "size": [
           443413.5
          ],
          "sizemode": "area",
          "sizeref": 3816.214375
         },
         "mode": "markers",
         "name": "Old East York",
         "showlegend": true,
         "subplot": "mapbox",
         "type": "scattermapbox"
        },
        {
         "hovertemplate": "neighbourhood=Palmerston-Little Italy<br>average_house_value=%{marker.size}<br>lat=%{lat}<br>lon=%{lon}<extra></extra>",
         "lat": [
          43.6591571
         ],
         "legendgroup": "Palmerston-Little Italy",
         "lon": [
          -79.41840873
         ],
         "marker": {
          "color": "#FFA15A",
          "size": [
           622191.75
          ],
          "sizemode": "area",
          "sizeref": 3816.214375
         },
         "mode": "markers",
         "name": "Palmerston-Little Italy",
         "showlegend": true,
         "subplot": "mapbox",
         "type": "scattermapbox"
        },
        {
         "hovertemplate": "neighbourhood=Parkwoods-Donalda<br>average_house_value=%{marker.size}<br>lat=%{lat}<br>lon=%{lon}<extra></extra>",
         "lat": [
          43.75503347
         ],
         "legendgroup": "Parkwoods-Donalda",
         "lon": [
          -79.33017952
         ],
         "marker": {
          "color": "#19d3f3",
          "size": [
           454652.5
          ],
          "sizemode": "area",
          "sizeref": 3816.214375
         },
         "mode": "markers",
         "name": "Parkwoods-Donalda",
         "showlegend": true,
         "subplot": "mapbox",
         "type": "scattermapbox"
        },
        {
         "hovertemplate": "neighbourhood=Pelmo Park-Humberlea<br>average_house_value=%{marker.size}<br>lat=%{lat}<br>lon=%{lon}<extra></extra>",
         "lat": [
          43.7175146
         ],
         "legendgroup": "Pelmo Park-Humberlea",
         "lon": [
          -79.5282822
         ],
         "marker": {
          "color": "#FF6692",
          "size": [
           405431.25
          ],
          "sizemode": "area",
          "sizeref": 3816.214375
         },
         "mode": "markers",
         "name": "Pelmo Park-Humberlea",
         "showlegend": true,
         "subplot": "mapbox",
         "type": "scattermapbox"
        },
        {
         "hovertemplate": "neighbourhood=Playter Estates-Danforth<br>average_house_value=%{marker.size}<br>lat=%{lat}<br>lon=%{lon}<extra></extra>",
         "lat": [
          43.67970047
         ],
         "legendgroup": "Playter Estates-Danforth",
         "lon": [
          -79.35488729
         ],
         "marker": {
          "color": "#B6E880",
          "size": [
           648859.25
          ],
          "sizemode": "area",
          "sizeref": 3816.214375
         },
         "mode": "markers",
         "name": "Playter Estates-Danforth",
         "showlegend": true,
         "subplot": "mapbox",
         "type": "scattermapbox"
        },
        {
         "hovertemplate": "neighbourhood=Pleasant View<br>average_house_value=%{marker.size}<br>lat=%{lat}<br>lon=%{lon}<extra></extra>",
         "lat": [
          43.78698176
         ],
         "legendgroup": "Pleasant View",
         "lon": [
          -79.33494843
         ],
         "marker": {
          "color": "#FF97FF",
          "size": [
           373375.25
          ],
          "sizemode": "area",
          "sizeref": 3816.214375
         },
         "mode": "markers",
         "name": "Pleasant View",
         "showlegend": true,
         "subplot": "mapbox",
         "type": "scattermapbox"
        },
        {
         "hovertemplate": "neighbourhood=Princess-Rosethorn<br>average_house_value=%{marker.size}<br>lat=%{lat}<br>lon=%{lon}<extra></extra>",
         "lat": [
          43.6660506
         ],
         "legendgroup": "Princess-Rosethorn",
         "lon": [
          -79.54455929
         ],
         "marker": {
          "color": "#FECB52",
          "size": [
           765746.5
          ],
          "sizemode": "area",
          "sizeref": 3816.214375
         },
         "mode": "markers",
         "name": "Princess-Rosethorn",
         "showlegend": true,
         "subplot": "mapbox",
         "type": "scattermapbox"
        },
        {
         "hovertemplate": "neighbourhood=Regent Park<br>average_house_value=%{marker.size}<br>lat=%{lat}<br>lon=%{lon}<extra></extra>",
         "lat": [
          43.65999214
         ],
         "legendgroup": "Regent Park",
         "lon": [
          -79.36050881
         ],
         "marker": {
          "color": "#636efa",
          "size": [
           392578.25
          ],
          "sizemode": "area",
          "sizeref": 3816.214375
         },
         "mode": "markers",
         "name": "Regent Park",
         "showlegend": true,
         "subplot": "mapbox",
         "type": "scattermapbox"
        },
        {
         "hovertemplate": "neighbourhood=Rexdale-Kipling<br>average_house_value=%{marker.size}<br>lat=%{lat}<br>lon=%{lon}<extra></extra>",
         "lat": [
          43.72372548
         ],
         "legendgroup": "Rexdale-Kipling",
         "lon": [
          -79.56622841
         ],
         "marker": {
          "color": "#EF553B",
          "size": [
           360999.25
          ],
          "sizemode": "area",
          "sizeref": 3816.214375
         },
         "mode": "markers",
         "name": "Rexdale-Kipling",
         "showlegend": true,
         "subplot": "mapbox",
         "type": "scattermapbox"
        },
        {
         "hovertemplate": "neighbourhood=Rockcliffe-Smythe<br>average_house_value=%{marker.size}<br>lat=%{lat}<br>lon=%{lon}<extra></extra>",
         "lat": [
          43.67479045
         ],
         "legendgroup": "Rockcliffe-Smythe",
         "lon": [
          -79.49442045
         ],
         "marker": {
          "color": "#00cc96",
          "size": [
           345660.25
          ],
          "sizemode": "area",
          "sizeref": 3816.214375
         },
         "mode": "markers",
         "name": "Rockcliffe-Smythe",
         "showlegend": true,
         "subplot": "mapbox",
         "type": "scattermapbox"
        },
        {
         "hovertemplate": "neighbourhood=Roncesvalles<br>average_house_value=%{marker.size}<br>lat=%{lat}<br>lon=%{lon}<extra></extra>",
         "lat": [
          43.64612299
         ],
         "legendgroup": "Roncesvalles",
         "lon": [
          -79.44299245
         ],
         "marker": {
          "color": "#ab63fa",
          "size": [
           508937.25
          ],
          "sizemode": "area",
          "sizeref": 3816.214375
         },
         "mode": "markers",
         "name": "Roncesvalles",
         "showlegend": true,
         "subplot": "mapbox",
         "type": "scattermapbox"
        },
        {
         "hovertemplate": "neighbourhood=Rosedale-Moore Park<br>average_house_value=%{marker.size}<br>lat=%{lat}<br>lon=%{lon}<extra></extra>",
         "lat": [
          43.68282043
         ],
         "legendgroup": "Rosedale-Moore Park",
         "lon": [
          -79.3796694
         ],
         "marker": {
          "color": "#FFA15A",
          "size": [
           1093640
          ],
          "sizemode": "area",
          "sizeref": 3816.214375
         },
         "mode": "markers",
         "name": "Rosedale-Moore Park",
         "showlegend": true,
         "subplot": "mapbox",
         "type": "scattermapbox"
        },
        {
         "hovertemplate": "neighbourhood=Rouge<br>average_house_value=%{marker.size}<br>lat=%{lat}<br>lon=%{lon}<extra></extra>",
         "lat": [
          43.82120126
         ],
         "legendgroup": "Rouge",
         "lon": [
          -79.18634345
         ],
         "marker": {
          "color": "#19d3f3",
          "size": [
           376286.75
          ],
          "sizemode": "area",
          "sizeref": 3816.214375
         },
         "mode": "markers",
         "name": "Rouge",
         "showlegend": true,
         "subplot": "mapbox",
         "type": "scattermapbox"
        },
        {
         "hovertemplate": "neighbourhood=Runnymede-Bloor West Village<br>average_house_value=%{marker.size}<br>lat=%{lat}<br>lon=%{lon}<extra></extra>",
         "lat": [
          43.65926882
         ],
         "legendgroup": "Runnymede-Bloor West Village",
         "lon": [
          -79.48570818
         ],
         "marker": {
          "color": "#FF6692",
          "size": [
           552082
          ],
          "sizemode": "area",
          "sizeref": 3816.214375
         },
         "mode": "markers",
         "name": "Runnymede-Bloor West Village",
         "showlegend": true,
         "subplot": "mapbox",
         "type": "scattermapbox"
        },
        {
         "hovertemplate": "neighbourhood=Rustic<br>average_house_value=%{marker.size}<br>lat=%{lat}<br>lon=%{lon}<extra></extra>",
         "lat": [
          43.71160912
         ],
         "legendgroup": "Rustic",
         "lon": [
          -79.49809147
         ],
         "marker": {
          "color": "#B6E880",
          "size": [
           431090.5
          ],
          "sizemode": "area",
          "sizeref": 3816.214375
         },
         "mode": "markers",
         "name": "Rustic",
         "showlegend": true,
         "subplot": "mapbox",
         "type": "scattermapbox"
        },
        {
         "hovertemplate": "neighbourhood=Scarborough Village<br>average_house_value=%{marker.size}<br>lat=%{lat}<br>lon=%{lon}<extra></extra>",
         "lat": [
          43.73865186
         ],
         "legendgroup": "Scarborough Village",
         "lon": [
          -79.21681262
         ],
         "marker": {
          "color": "#FF97FF",
          "size": [
           329835.75
          ],
          "sizemode": "area",
          "sizeref": 3816.214375
         },
         "mode": "markers",
         "name": "Scarborough Village",
         "showlegend": true,
         "subplot": "mapbox",
         "type": "scattermapbox"
        },
        {
         "hovertemplate": "neighbourhood=South Parkdale<br>average_house_value=%{marker.size}<br>lat=%{lat}<br>lon=%{lon}<extra></extra>",
         "lat": [
          43.63669952
         ],
         "legendgroup": "South Parkdale",
         "lon": [
          -79.43933783
         ],
         "marker": {
          "color": "#FECB52",
          "size": [
           447478.5
          ],
          "sizemode": "area",
          "sizeref": 3816.214375
         },
         "mode": "markers",
         "name": "South Parkdale",
         "showlegend": true,
         "subplot": "mapbox",
         "type": "scattermapbox"
        },
        {
         "hovertemplate": "neighbourhood=South Riverdale<br>average_house_value=%{marker.size}<br>lat=%{lat}<br>lon=%{lon}<extra></extra>",
         "lat": [
          43.64929206
         ],
         "legendgroup": "South Riverdale",
         "lon": [
          -79.33565132
         ],
         "marker": {
          "color": "#636efa",
          "size": [
           455020.5
          ],
          "sizemode": "area",
          "sizeref": 3816.214375
         },
         "mode": "markers",
         "name": "South Riverdale",
         "showlegend": true,
         "subplot": "mapbox",
         "type": "scattermapbox"
        },
        {
         "hovertemplate": "neighbourhood=St.Andrew-Windfields<br>average_house_value=%{marker.size}<br>lat=%{lat}<br>lon=%{lon}<extra></extra>",
         "lat": [
          43.75624583
         ],
         "legendgroup": "St.Andrew-Windfields",
         "lon": [
          -79.37903709
         ],
         "marker": {
          "color": "#EF553B",
          "size": [
           999107
          ],
          "sizemode": "area",
          "sizeref": 3816.214375
         },
         "mode": "markers",
         "name": "St.Andrew-Windfields",
         "showlegend": true,
         "subplot": "mapbox",
         "type": "scattermapbox"
        },
        {
         "hovertemplate": "neighbourhood=Steeles<br>average_house_value=%{marker.size}<br>lat=%{lat}<br>lon=%{lon}<extra></extra>",
         "lat": [
          43.81295883
         ],
         "legendgroup": "Steeles",
         "lon": [
          -79.32120701
         ],
         "marker": {
          "color": "#00cc96",
          "size": [
           376014.5
          ],
          "sizemode": "area",
          "sizeref": 3816.214375
         },
         "mode": "markers",
         "name": "Steeles",
         "showlegend": true,
         "subplot": "mapbox",
         "type": "scattermapbox"
        },
        {
         "hovertemplate": "neighbourhood=Stonegate-Queensway<br>average_house_value=%{marker.size}<br>lat=%{lat}<br>lon=%{lon}<extra></extra>",
         "lat": [
          43.63551813
         ],
         "legendgroup": "Stonegate-Queensway",
         "lon": [
          -79.50112821
         ],
         "marker": {
          "color": "#ab63fa",
          "size": [
           550432.25
          ],
          "sizemode": "area",
          "sizeref": 3816.214375
         },
         "mode": "markers",
         "name": "Stonegate-Queensway",
         "showlegend": true,
         "subplot": "mapbox",
         "type": "scattermapbox"
        },
        {
         "hovertemplate": "neighbourhood=Tam O'Shanter-Sullivan<br>average_house_value=%{marker.size}<br>lat=%{lat}<br>lon=%{lon}<extra></extra>",
         "lat": [
          43.78012985
         ],
         "legendgroup": "Tam O'Shanter-Sullivan",
         "lon": [
          -79.30291871
         ],
         "marker": {
          "color": "#FFA15A",
          "size": [
           353926.5
          ],
          "sizemode": "area",
          "sizeref": 3816.214375
         },
         "mode": "markers",
         "name": "Tam O'Shanter-Sullivan",
         "showlegend": true,
         "subplot": "mapbox",
         "type": "scattermapbox"
        },
        {
         "hovertemplate": "neighbourhood=Taylor-Massey<br>average_house_value=%{marker.size}<br>lat=%{lat}<br>lon=%{lon}<extra></extra>",
         "lat": [
          43.69499819
         ],
         "legendgroup": "Taylor-Massey",
         "lon": [
          -79.29590112
         ],
         "marker": {
          "color": "#19d3f3",
          "size": [
           239414
          ],
          "sizemode": "area",
          "sizeref": 3816.214375
         },
         "mode": "markers",
         "name": "Taylor-Massey",
         "showlegend": true,
         "subplot": "mapbox",
         "type": "scattermapbox"
        },
        {
         "hovertemplate": "neighbourhood=The Beaches<br>average_house_value=%{marker.size}<br>lat=%{lat}<br>lon=%{lon}<extra></extra>",
         "lat": [
          43.67104999
         ],
         "legendgroup": "The Beaches",
         "lon": [
          -79.2996013
         ],
         "marker": {
          "color": "#FF6692",
          "size": [
           666306
          ],
          "sizemode": "area",
          "sizeref": 3816.214375
         },
         "mode": "markers",
         "name": "The Beaches",
         "showlegend": true,
         "subplot": "mapbox",
         "type": "scattermapbox"
        },
        {
         "hovertemplate": "neighbourhood=Thistletown-Beaumond Heights<br>average_house_value=%{marker.size}<br>lat=%{lat}<br>lon=%{lon}<extra></extra>",
         "lat": [
          43.73798792
         ],
         "legendgroup": "Thistletown-Beaumond Heights",
         "lon": [
          -79.56349102
         ],
         "marker": {
          "color": "#B6E880",
          "size": [
           375864
          ],
          "sizemode": "area",
          "sizeref": 3816.214375
         },
         "mode": "markers",
         "name": "Thistletown-Beaumond Heights",
         "showlegend": true,
         "subplot": "mapbox",
         "type": "scattermapbox"
        },
        {
         "hovertemplate": "neighbourhood=Thorncliffe Park<br>average_house_value=%{marker.size}<br>lat=%{lat}<br>lon=%{lon}<extra></extra>",
         "lat": [
          43.70774921
         ],
         "legendgroup": "Thorncliffe Park",
         "lon": [
          -79.34998361
         ],
         "marker": {
          "color": "#FF97FF",
          "size": [
           255264.75
          ],
          "sizemode": "area",
          "sizeref": 3816.214375
         },
         "mode": "markers",
         "name": "Thorncliffe Park",
         "showlegend": true,
         "subplot": "mapbox",
         "type": "scattermapbox"
        },
        {
         "hovertemplate": "neighbourhood=Trinity-Bellwoods<br>average_house_value=%{marker.size}<br>lat=%{lat}<br>lon=%{lon}<extra></extra>",
         "lat": [
          43.6501763
         ],
         "legendgroup": "Trinity-Bellwoods",
         "lon": [
          -79.41534216
         ],
         "marker": {
          "color": "#FECB52",
          "size": [
           534465.75
          ],
          "sizemode": "area",
          "sizeref": 3816.214375
         },
         "mode": "markers",
         "name": "Trinity-Bellwoods",
         "showlegend": true,
         "subplot": "mapbox",
         "type": "scattermapbox"
        },
        {
         "hovertemplate": "neighbourhood=University<br>average_house_value=%{marker.size}<br>lat=%{lat}<br>lon=%{lon}<extra></extra>",
         "lat": [
          43.6625062
         ],
         "legendgroup": "University",
         "lon": [
          -79.40117975
         ],
         "marker": {
          "color": "#636efa",
          "size": [
           618316.75
          ],
          "sizemode": "area",
          "sizeref": 3816.214375
         },
         "mode": "markers",
         "name": "University",
         "showlegend": true,
         "subplot": "mapbox",
         "type": "scattermapbox"
        },
        {
         "hovertemplate": "neighbourhood=Victoria Village<br>average_house_value=%{marker.size}<br>lat=%{lat}<br>lon=%{lon}<extra></extra>",
         "lat": [
          43.72848902
         ],
         "legendgroup": "Victoria Village",
         "lon": [
          -79.31487383
         ],
         "marker": {
          "color": "#EF553B",
          "size": [
           352133
          ],
          "sizemode": "area",
          "sizeref": 3816.214375
         },
         "mode": "markers",
         "name": "Victoria Village",
         "showlegend": true,
         "subplot": "mapbox",
         "type": "scattermapbox"
        },
        {
         "hovertemplate": "neighbourhood=Waterfront Communities-The Island<br>average_house_value=%{marker.size}<br>lat=%{lat}<br>lon=%{lon}<extra></extra>",
         "lat": [
          43.63388036
         ],
         "legendgroup": "Waterfront Communities-The Island",
         "lon": [
          -79.37720231
         ],
         "marker": {
          "color": "#00cc96",
          "size": [
           376863
          ],
          "sizemode": "area",
          "sizeref": 3816.214375
         },
         "mode": "markers",
         "name": "Waterfront Communities-The Island",
         "showlegend": true,
         "subplot": "mapbox",
         "type": "scattermapbox"
        },
        {
         "hovertemplate": "neighbourhood=West Hill<br>average_house_value=%{marker.size}<br>lat=%{lat}<br>lon=%{lon}<extra></extra>",
         "lat": [
          43.76749026
         ],
         "legendgroup": "West Hill",
         "lon": [
          -79.17667603
         ],
         "marker": {
          "color": "#ab63fa",
          "size": [
           284647.5
          ],
          "sizemode": "area",
          "sizeref": 3816.214375
         },
         "mode": "markers",
         "name": "West Hill",
         "showlegend": true,
         "subplot": "mapbox",
         "type": "scattermapbox"
        },
        {
         "hovertemplate": "neighbourhood=West Humber-Clairville<br>average_house_value=%{marker.size}<br>lat=%{lat}<br>lon=%{lon}<extra></extra>",
         "lat": [
          43.7161804
         ],
         "legendgroup": "West Humber-Clairville",
         "lon": [
          -79.59635645
         ],
         "marker": {
          "color": "#FFA15A",
          "size": [
           343254.25
          ],
          "sizemode": "area",
          "sizeref": 3816.214375
         },
         "mode": "markers",
         "name": "West Humber-Clairville",
         "showlegend": true,
         "subplot": "mapbox",
         "type": "scattermapbox"
        },
        {
         "hovertemplate": "neighbourhood=Westminster-Branson<br>average_house_value=%{marker.size}<br>lat=%{lat}<br>lon=%{lon}<extra></extra>",
         "lat": [
          43.77881322
         ],
         "legendgroup": "Westminster-Branson",
         "lon": [
          -79.45241823
         ],
         "marker": {
          "color": "#19d3f3",
          "size": [
           349320.25
          ],
          "sizemode": "area",
          "sizeref": 3816.214375
         },
         "mode": "markers",
         "name": "Westminster-Branson",
         "showlegend": true,
         "subplot": "mapbox",
         "type": "scattermapbox"
        },
        {
         "hovertemplate": "neighbourhood=Weston<br>average_house_value=%{marker.size}<br>lat=%{lat}<br>lon=%{lon}<extra></extra>",
         "lat": [
          43.70271605
         ],
         "legendgroup": "Weston",
         "lon": [
          -79.51572255
         ],
         "marker": {
          "color": "#FF6692",
          "size": [
           308007.75
          ],
          "sizemode": "area",
          "sizeref": 3816.214375
         },
         "mode": "markers",
         "name": "Weston",
         "showlegend": true,
         "subplot": "mapbox",
         "type": "scattermapbox"
        },
        {
         "hovertemplate": "neighbourhood=Weston-Pellam Park<br>average_house_value=%{marker.size}<br>lat=%{lat}<br>lon=%{lon}<extra></extra>",
         "lat": [
          43.67396204
         ],
         "legendgroup": "Weston-Pellam Park",
         "lon": [
          -79.46024391
         ],
         "marker": {
          "color": "#B6E880",
          "size": [
           351802
          ],
          "sizemode": "area",
          "sizeref": 3816.214375
         },
         "mode": "markers",
         "name": "Weston-Pellam Park",
         "showlegend": true,
         "subplot": "mapbox",
         "type": "scattermapbox"
        },
        {
         "hovertemplate": "neighbourhood=Wexford/Maryvale<br>average_house_value=%{marker.size}<br>lat=%{lat}<br>lon=%{lon}<extra></extra>",
         "lat": [
          43.74857214
         ],
         "legendgroup": "Wexford/Maryvale",
         "lon": [
          -79.29863657
         ],
         "marker": {
          "color": "#FF97FF",
          "size": [
           348319.25
          ],
          "sizemode": "area",
          "sizeref": 3816.214375
         },
         "mode": "markers",
         "name": "Wexford/Maryvale",
         "showlegend": true,
         "subplot": "mapbox",
         "type": "scattermapbox"
        },
        {
         "hovertemplate": "neighbourhood=Willowdale East<br>average_house_value=%{marker.size}<br>lat=%{lat}<br>lon=%{lon}<extra></extra>",
         "lat": [
          43.77060226
         ],
         "legendgroup": "Willowdale East",
         "lon": [
          -79.40148379
         ],
         "marker": {
          "color": "#FECB52",
          "size": [
           469045.5
          ],
          "sizemode": "area",
          "sizeref": 3816.214375
         },
         "mode": "markers",
         "name": "Willowdale East",
         "showlegend": true,
         "subplot": "mapbox",
         "type": "scattermapbox"
        },
        {
         "hovertemplate": "neighbourhood=Willowdale West<br>average_house_value=%{marker.size}<br>lat=%{lat}<br>lon=%{lon}<extra></extra>",
         "lat": [
          43.77121049
         ],
         "legendgroup": "Willowdale West",
         "lon": [
          -79.4275578
         ],
         "marker": {
          "color": "#636efa",
          "size": [
           466134.75
          ],
          "sizemode": "area",
          "sizeref": 3816.214375
         },
         "mode": "markers",
         "name": "Willowdale West",
         "showlegend": true,
         "subplot": "mapbox",
         "type": "scattermapbox"
        },
        {
         "hovertemplate": "neighbourhood=Willowridge-Martingrove-Richview<br>average_house_value=%{marker.size}<br>lat=%{lat}<br>lon=%{lon}<extra></extra>",
         "lat": [
          43.68364496
         ],
         "legendgroup": "Willowridge-Martingrove-Richview",
         "lon": [
          -79.55422105
         ],
         "marker": {
          "color": "#EF553B",
          "size": [
           464278
          ],
          "sizemode": "area",
          "sizeref": 3816.214375
         },
         "mode": "markers",
         "name": "Willowridge-Martingrove-Richview",
         "showlegend": true,
         "subplot": "mapbox",
         "type": "scattermapbox"
        },
        {
         "hovertemplate": "neighbourhood=Woburn<br>average_house_value=%{marker.size}<br>lat=%{lat}<br>lon=%{lon}<extra></extra>",
         "lat": [
          43.76674024
         ],
         "legendgroup": "Woburn",
         "lon": [
          -79.22858577
         ],
         "marker": {
          "color": "#00cc96",
          "size": [
           298505.75
          ],
          "sizemode": "area",
          "sizeref": 3816.214375
         },
         "mode": "markers",
         "name": "Woburn",
         "showlegend": true,
         "subplot": "mapbox",
         "type": "scattermapbox"
        },
        {
         "hovertemplate": "neighbourhood=Woodbine Corridor<br>average_house_value=%{marker.size}<br>lat=%{lat}<br>lon=%{lon}<extra></extra>",
         "lat": [
          43.67677292
         ],
         "legendgroup": "Woodbine Corridor",
         "lon": [
          -79.31540738
         ],
         "marker": {
          "color": "#ab63fa",
          "size": [
           445382.75
          ],
          "sizemode": "area",
          "sizeref": 3816.214375
         },
         "mode": "markers",
         "name": "Woodbine Corridor",
         "showlegend": true,
         "subplot": "mapbox",
         "type": "scattermapbox"
        },
        {
         "hovertemplate": "neighbourhood=Woodbine-Lumsden<br>average_house_value=%{marker.size}<br>lat=%{lat}<br>lon=%{lon}<extra></extra>",
         "lat": [
          43.69410674
         ],
         "legendgroup": "Woodbine-Lumsden",
         "lon": [
          -79.31116353
         ],
         "marker": {
          "color": "#FFA15A",
          "size": [
           369918.5
          ],
          "sizemode": "area",
          "sizeref": 3816.214375
         },
         "mode": "markers",
         "name": "Woodbine-Lumsden",
         "showlegend": true,
         "subplot": "mapbox",
         "type": "scattermapbox"
        },
        {
         "hovertemplate": "neighbourhood=Wychwood<br>average_house_value=%{marker.size}<br>lat=%{lat}<br>lon=%{lon}<extra></extra>",
         "lat": [
          43.67691927
         ],
         "legendgroup": "Wychwood",
         "lon": [
          -79.42551495
         ],
         "marker": {
          "color": "#19d3f3",
          "size": [
           565976.5
          ],
          "sizemode": "area",
          "sizeref": 3816.214375
         },
         "mode": "markers",
         "name": "Wychwood",
         "showlegend": true,
         "subplot": "mapbox",
         "type": "scattermapbox"
        },
        {
         "hovertemplate": "neighbourhood=Yonge-Eglinton<br>average_house_value=%{marker.size}<br>lat=%{lat}<br>lon=%{lon}<extra></extra>",
         "lat": [
          43.70468937
         ],
         "legendgroup": "Yonge-Eglinton",
         "lon": [
          -79.40359017
         ],
         "marker": {
          "color": "#FF6692",
          "size": [
           809745.75
          ],
          "sizemode": "area",
          "sizeref": 3816.214375
         },
         "mode": "markers",
         "name": "Yonge-Eglinton",
         "showlegend": true,
         "subplot": "mapbox",
         "type": "scattermapbox"
        },
        {
         "hovertemplate": "neighbourhood=Yonge-St.Clair<br>average_house_value=%{marker.size}<br>lat=%{lat}<br>lon=%{lon}<extra></extra>",
         "lat": [
          43.68785887
         ],
         "legendgroup": "Yonge-St.Clair",
         "lon": [
          -79.39787077
         ],
         "marker": {
          "color": "#B6E880",
          "size": [
           813220.25
          ],
          "sizemode": "area",
          "sizeref": 3816.214375
         },
         "mode": "markers",
         "name": "Yonge-St.Clair",
         "showlegend": true,
         "subplot": "mapbox",
         "type": "scattermapbox"
        },
        {
         "hovertemplate": "neighbourhood=York University Heights<br>average_house_value=%{marker.size}<br>lat=%{lat}<br>lon=%{lon}<extra></extra>",
         "lat": [
          43.76573649
         ],
         "legendgroup": "York University Heights",
         "lon": [
          -79.48888293
         ],
         "marker": {
          "color": "#FF97FF",
          "size": [
           305899.5
          ],
          "sizemode": "area",
          "sizeref": 3816.214375
         },
         "mode": "markers",
         "name": "York University Heights",
         "showlegend": true,
         "subplot": "mapbox",
         "type": "scattermapbox"
        },
        {
         "hovertemplate": "neighbourhood=Yorkdale-Glen Park<br>average_house_value=%{marker.size}<br>lat=%{lat}<br>lon=%{lon}<extra></extra>",
         "lat": [
          43.71467153
         ],
         "legendgroup": "Yorkdale-Glen Park",
         "lon": [
          -79.45710807
         ],
         "marker": {
          "color": "#FECB52",
          "size": [
           430861.25
          ],
          "sizemode": "area",
          "sizeref": 3816.214375
         },
         "mode": "markers",
         "name": "Yorkdale-Glen Park",
         "showlegend": true,
         "subplot": "mapbox",
         "type": "scattermapbox"
        }
       ],
       "layout": {
        "autosize": true,
        "legend": {
         "itemsizing": "constant",
         "title": {
          "text": "neighbourhood"
         },
         "tracegroupgap": 0
        },
        "mapbox": {
         "bearing": 0,
         "center": {
          "lat": 43.66893282767009,
          "lon": -79.26090087770154
         },
         "domain": {
          "x": [
           0,
           1
          ],
          "y": [
           0,
           1
          ]
         },
         "pitch": 0,
         "style": "open-street-map",
         "zoom": 8.639745193829796
        },
        "margin": {
         "t": 60
        },
        "template": {
         "data": {
          "bar": [
           {
            "error_x": {
             "color": "#2a3f5f"
            },
            "error_y": {
             "color": "#2a3f5f"
            },
            "marker": {
             "line": {
              "color": "#E5ECF6",
              "width": 0.5
             },
             "pattern": {
              "fillmode": "overlay",
              "size": 10,
              "solidity": 0.2
             }
            },
            "type": "bar"
           }
          ],
          "barpolar": [
           {
            "marker": {
             "line": {
              "color": "#E5ECF6",
              "width": 0.5
             },
             "pattern": {
              "fillmode": "overlay",
              "size": 10,
              "solidity": 0.2
             }
            },
            "type": "barpolar"
           }
          ],
          "carpet": [
           {
            "aaxis": {
             "endlinecolor": "#2a3f5f",
             "gridcolor": "white",
             "linecolor": "white",
             "minorgridcolor": "white",
             "startlinecolor": "#2a3f5f"
            },
            "baxis": {
             "endlinecolor": "#2a3f5f",
             "gridcolor": "white",
             "linecolor": "white",
             "minorgridcolor": "white",
             "startlinecolor": "#2a3f5f"
            },
            "type": "carpet"
           }
          ],
          "choropleth": [
           {
            "colorbar": {
             "outlinewidth": 0,
             "ticks": ""
            },
            "type": "choropleth"
           }
          ],
          "contour": [
           {
            "colorbar": {
             "outlinewidth": 0,
             "ticks": ""
            },
            "colorscale": [
             [
              0,
              "#0d0887"
             ],
             [
              0.1111111111111111,
              "#46039f"
             ],
             [
              0.2222222222222222,
              "#7201a8"
             ],
             [
              0.3333333333333333,
              "#9c179e"
             ],
             [
              0.4444444444444444,
              "#bd3786"
             ],
             [
              0.5555555555555556,
              "#d8576b"
             ],
             [
              0.6666666666666666,
              "#ed7953"
             ],
             [
              0.7777777777777778,
              "#fb9f3a"
             ],
             [
              0.8888888888888888,
              "#fdca26"
             ],
             [
              1,
              "#f0f921"
             ]
            ],
            "type": "contour"
           }
          ],
          "contourcarpet": [
           {
            "colorbar": {
             "outlinewidth": 0,
             "ticks": ""
            },
            "type": "contourcarpet"
           }
          ],
          "heatmap": [
           {
            "colorbar": {
             "outlinewidth": 0,
             "ticks": ""
            },
            "colorscale": [
             [
              0,
              "#0d0887"
             ],
             [
              0.1111111111111111,
              "#46039f"
             ],
             [
              0.2222222222222222,
              "#7201a8"
             ],
             [
              0.3333333333333333,
              "#9c179e"
             ],
             [
              0.4444444444444444,
              "#bd3786"
             ],
             [
              0.5555555555555556,
              "#d8576b"
             ],
             [
              0.6666666666666666,
              "#ed7953"
             ],
             [
              0.7777777777777778,
              "#fb9f3a"
             ],
             [
              0.8888888888888888,
              "#fdca26"
             ],
             [
              1,
              "#f0f921"
             ]
            ],
            "type": "heatmap"
           }
          ],
          "heatmapgl": [
           {
            "colorbar": {
             "outlinewidth": 0,
             "ticks": ""
            },
            "colorscale": [
             [
              0,
              "#0d0887"
             ],
             [
              0.1111111111111111,
              "#46039f"
             ],
             [
              0.2222222222222222,
              "#7201a8"
             ],
             [
              0.3333333333333333,
              "#9c179e"
             ],
             [
              0.4444444444444444,
              "#bd3786"
             ],
             [
              0.5555555555555556,
              "#d8576b"
             ],
             [
              0.6666666666666666,
              "#ed7953"
             ],
             [
              0.7777777777777778,
              "#fb9f3a"
             ],
             [
              0.8888888888888888,
              "#fdca26"
             ],
             [
              1,
              "#f0f921"
             ]
            ],
            "type": "heatmapgl"
           }
          ],
          "histogram": [
           {
            "marker": {
             "pattern": {
              "fillmode": "overlay",
              "size": 10,
              "solidity": 0.2
             }
            },
            "type": "histogram"
           }
          ],
          "histogram2d": [
           {
            "colorbar": {
             "outlinewidth": 0,
             "ticks": ""
            },
            "colorscale": [
             [
              0,
              "#0d0887"
             ],
             [
              0.1111111111111111,
              "#46039f"
             ],
             [
              0.2222222222222222,
              "#7201a8"
             ],
             [
              0.3333333333333333,
              "#9c179e"
             ],
             [
              0.4444444444444444,
              "#bd3786"
             ],
             [
              0.5555555555555556,
              "#d8576b"
             ],
             [
              0.6666666666666666,
              "#ed7953"
             ],
             [
              0.7777777777777778,
              "#fb9f3a"
             ],
             [
              0.8888888888888888,
              "#fdca26"
             ],
             [
              1,
              "#f0f921"
             ]
            ],
            "type": "histogram2d"
           }
          ],
          "histogram2dcontour": [
           {
            "colorbar": {
             "outlinewidth": 0,
             "ticks": ""
            },
            "colorscale": [
             [
              0,
              "#0d0887"
             ],
             [
              0.1111111111111111,
              "#46039f"
             ],
             [
              0.2222222222222222,
              "#7201a8"
             ],
             [
              0.3333333333333333,
              "#9c179e"
             ],
             [
              0.4444444444444444,
              "#bd3786"
             ],
             [
              0.5555555555555556,
              "#d8576b"
             ],
             [
              0.6666666666666666,
              "#ed7953"
             ],
             [
              0.7777777777777778,
              "#fb9f3a"
             ],
             [
              0.8888888888888888,
              "#fdca26"
             ],
             [
              1,
              "#f0f921"
             ]
            ],
            "type": "histogram2dcontour"
           }
          ],
          "mesh3d": [
           {
            "colorbar": {
             "outlinewidth": 0,
             "ticks": ""
            },
            "type": "mesh3d"
           }
          ],
          "parcoords": [
           {
            "line": {
             "colorbar": {
              "outlinewidth": 0,
              "ticks": ""
             }
            },
            "type": "parcoords"
           }
          ],
          "pie": [
           {
            "automargin": true,
            "type": "pie"
           }
          ],
          "scatter": [
           {
            "marker": {
             "colorbar": {
              "outlinewidth": 0,
              "ticks": ""
             }
            },
            "type": "scatter"
           }
          ],
          "scatter3d": [
           {
            "line": {
             "colorbar": {
              "outlinewidth": 0,
              "ticks": ""
             }
            },
            "marker": {
             "colorbar": {
              "outlinewidth": 0,
              "ticks": ""
             }
            },
            "type": "scatter3d"
           }
          ],
          "scattercarpet": [
           {
            "marker": {
             "colorbar": {
              "outlinewidth": 0,
              "ticks": ""
             }
            },
            "type": "scattercarpet"
           }
          ],
          "scattergeo": [
           {
            "marker": {
             "colorbar": {
              "outlinewidth": 0,
              "ticks": ""
             }
            },
            "type": "scattergeo"
           }
          ],
          "scattergl": [
           {
            "marker": {
             "colorbar": {
              "outlinewidth": 0,
              "ticks": ""
             }
            },
            "type": "scattergl"
           }
          ],
          "scattermapbox": [
           {
            "marker": {
             "colorbar": {
              "outlinewidth": 0,
              "ticks": ""
             }
            },
            "type": "scattermapbox"
           }
          ],
          "scatterpolar": [
           {
            "marker": {
             "colorbar": {
              "outlinewidth": 0,
              "ticks": ""
             }
            },
            "type": "scatterpolar"
           }
          ],
          "scatterpolargl": [
           {
            "marker": {
             "colorbar": {
              "outlinewidth": 0,
              "ticks": ""
             }
            },
            "type": "scatterpolargl"
           }
          ],
          "scatterternary": [
           {
            "marker": {
             "colorbar": {
              "outlinewidth": 0,
              "ticks": ""
             }
            },
            "type": "scatterternary"
           }
          ],
          "surface": [
           {
            "colorbar": {
             "outlinewidth": 0,
             "ticks": ""
            },
            "colorscale": [
             [
              0,
              "#0d0887"
             ],
             [
              0.1111111111111111,
              "#46039f"
             ],
             [
              0.2222222222222222,
              "#7201a8"
             ],
             [
              0.3333333333333333,
              "#9c179e"
             ],
             [
              0.4444444444444444,
              "#bd3786"
             ],
             [
              0.5555555555555556,
              "#d8576b"
             ],
             [
              0.6666666666666666,
              "#ed7953"
             ],
             [
              0.7777777777777778,
              "#fb9f3a"
             ],
             [
              0.8888888888888888,
              "#fdca26"
             ],
             [
              1,
              "#f0f921"
             ]
            ],
            "type": "surface"
           }
          ],
          "table": [
           {
            "cells": {
             "fill": {
              "color": "#EBF0F8"
             },
             "line": {
              "color": "white"
             }
            },
            "header": {
             "fill": {
              "color": "#C8D4E3"
             },
             "line": {
              "color": "white"
             }
            },
            "type": "table"
           }
          ]
         },
         "layout": {
          "annotationdefaults": {
           "arrowcolor": "#2a3f5f",
           "arrowhead": 0,
           "arrowwidth": 1
          },
          "autotypenumbers": "strict",
          "coloraxis": {
           "colorbar": {
            "outlinewidth": 0,
            "ticks": ""
           }
          },
          "colorscale": {
           "diverging": [
            [
             0,
             "#8e0152"
            ],
            [
             0.1,
             "#c51b7d"
            ],
            [
             0.2,
             "#de77ae"
            ],
            [
             0.3,
             "#f1b6da"
            ],
            [
             0.4,
             "#fde0ef"
            ],
            [
             0.5,
             "#f7f7f7"
            ],
            [
             0.6,
             "#e6f5d0"
            ],
            [
             0.7,
             "#b8e186"
            ],
            [
             0.8,
             "#7fbc41"
            ],
            [
             0.9,
             "#4d9221"
            ],
            [
             1,
             "#276419"
            ]
           ],
           "sequential": [
            [
             0,
             "#0d0887"
            ],
            [
             0.1111111111111111,
             "#46039f"
            ],
            [
             0.2222222222222222,
             "#7201a8"
            ],
            [
             0.3333333333333333,
             "#9c179e"
            ],
            [
             0.4444444444444444,
             "#bd3786"
            ],
            [
             0.5555555555555556,
             "#d8576b"
            ],
            [
             0.6666666666666666,
             "#ed7953"
            ],
            [
             0.7777777777777778,
             "#fb9f3a"
            ],
            [
             0.8888888888888888,
             "#fdca26"
            ],
            [
             1,
             "#f0f921"
            ]
           ],
           "sequentialminus": [
            [
             0,
             "#0d0887"
            ],
            [
             0.1111111111111111,
             "#46039f"
            ],
            [
             0.2222222222222222,
             "#7201a8"
            ],
            [
             0.3333333333333333,
             "#9c179e"
            ],
            [
             0.4444444444444444,
             "#bd3786"
            ],
            [
             0.5555555555555556,
             "#d8576b"
            ],
            [
             0.6666666666666666,
             "#ed7953"
            ],
            [
             0.7777777777777778,
             "#fb9f3a"
            ],
            [
             0.8888888888888888,
             "#fdca26"
            ],
            [
             1,
             "#f0f921"
            ]
           ]
          },
          "colorway": [
           "#636efa",
           "#EF553B",
           "#00cc96",
           "#ab63fa",
           "#FFA15A",
           "#19d3f3",
           "#FF6692",
           "#B6E880",
           "#FF97FF",
           "#FECB52"
          ],
          "font": {
           "color": "#2a3f5f"
          },
          "geo": {
           "bgcolor": "white",
           "lakecolor": "white",
           "landcolor": "#E5ECF6",
           "showlakes": true,
           "showland": true,
           "subunitcolor": "white"
          },
          "hoverlabel": {
           "align": "left"
          },
          "hovermode": "closest",
          "mapbox": {
           "style": "light"
          },
          "paper_bgcolor": "white",
          "plot_bgcolor": "#E5ECF6",
          "polar": {
           "angularaxis": {
            "gridcolor": "white",
            "linecolor": "white",
            "ticks": ""
           },
           "bgcolor": "#E5ECF6",
           "radialaxis": {
            "gridcolor": "white",
            "linecolor": "white",
            "ticks": ""
           }
          },
          "scene": {
           "xaxis": {
            "backgroundcolor": "#E5ECF6",
            "gridcolor": "white",
            "gridwidth": 2,
            "linecolor": "white",
            "showbackground": true,
            "ticks": "",
            "zerolinecolor": "white"
           },
           "yaxis": {
            "backgroundcolor": "#E5ECF6",
            "gridcolor": "white",
            "gridwidth": 2,
            "linecolor": "white",
            "showbackground": true,
            "ticks": "",
            "zerolinecolor": "white"
           },
           "zaxis": {
            "backgroundcolor": "#E5ECF6",
            "gridcolor": "white",
            "gridwidth": 2,
            "linecolor": "white",
            "showbackground": true,
            "ticks": "",
            "zerolinecolor": "white"
           }
          },
          "shapedefaults": {
           "line": {
            "color": "#2a3f5f"
           }
          },
          "ternary": {
           "aaxis": {
            "gridcolor": "white",
            "linecolor": "white",
            "ticks": ""
           },
           "baxis": {
            "gridcolor": "white",
            "linecolor": "white",
            "ticks": ""
           },
           "bgcolor": "#E5ECF6",
           "caxis": {
            "gridcolor": "white",
            "linecolor": "white",
            "ticks": ""
           }
          },
          "title": {
           "x": 0.05
          },
          "xaxis": {
           "automargin": true,
           "gridcolor": "white",
           "linecolor": "white",
           "ticks": "",
           "title": {
            "standoff": 15
           },
           "zerolinecolor": "white",
           "zerolinewidth": 2
          },
          "yaxis": {
           "automargin": true,
           "gridcolor": "white",
           "linecolor": "white",
           "ticks": "",
           "title": {
            "standoff": 15
           },
           "zerolinecolor": "white",
           "zerolinewidth": 2
          }
         }
        }
       }
      },
      "image/png": "[encoded data removed]",
      "text/html": [
       "<div>                            <div id=\"63a2c9a3-1499-4cd3-8e43-ae1003360a23\" class=\"plotly-graph-div\" style=\"height:525px; width:100%;\"></div>            <script type=\"text/javascript\">                require([\"plotly\"], function(Plotly) {                    window.PLOTLYENV=window.PLOTLYENV || {};                                    if (document.getElementById(\"63a2c9a3-1499-4cd3-8e43-ae1003360a23\")) {                    Plotly.newPlot(                        \"63a2c9a3-1499-4cd3-8e43-ae1003360a23\",                        [{\"hovertemplate\":\"neighbourhood=Agincourt North<br>average_house_value=%{marker.size}<br>lat=%{lat}<br>lon=%{lon}<extra></extra>\",\"lat\":[43.80544058],\"legendgroup\":\"Agincourt North\",\"lon\":[-79.26671217],\"marker\":{\"color\":\"#636efa\",\"size\":[329811.5],\"sizemode\":\"area\",\"sizeref\":3816.214375},\"mode\":\"markers\",\"name\":\"Agincourt North\",\"showlegend\":true,\"subplot\":\"mapbox\",\"type\":\"scattermapbox\"},{\"hovertemplate\":\"neighbourhood=Agincourt South-Malvern West<br>average_house_value=%{marker.size}<br>lat=%{lat}<br>lon=%{lon}<extra></extra>\",\"lat\":[43.78865755],\"legendgroup\":\"Agincourt South-Malvern West\",\"lon\":[-79.2656118],\"marker\":{\"color\":\"#EF553B\",\"size\":[334189.0],\"sizemode\":\"area\",\"sizeref\":3816.214375},\"mode\":\"markers\",\"name\":\"Agincourt South-Malvern West\",\"showlegend\":true,\"subplot\":\"mapbox\",\"type\":\"scattermapbox\"},{\"hovertemplate\":\"neighbourhood=Alderwood<br>average_house_value=%{marker.size}<br>lat=%{lat}<br>lon=%{lon}<extra></extra>\",\"lat\":[43.6049369],\"legendgroup\":\"Alderwood\",\"lon\":[-79.54161093],\"marker\":{\"color\":\"#00cc96\",\"size\":[427922.5],\"sizemode\":\"area\",\"sizeref\":3816.214375},\"mode\":\"markers\",\"name\":\"Alderwood\",\"showlegend\":true,\"subplot\":\"mapbox\",\"type\":\"scattermapbox\"},{\"hovertemplate\":\"neighbourhood=Annex<br>average_house_value=%{marker.size}<br>lat=%{lat}<br>lon=%{lon}<extra></extra>\",\"lat\":[43.67158544],\"legendgroup\":\"Annex\",\"lon\":[-79.40400062],\"marker\":{\"color\":\"#ab63fa\",\"size\":[746977.0],\"sizemode\":\"area\",\"sizeref\":3816.214375},\"mode\":\"markers\",\"name\":\"Annex\",\"showlegend\":true,\"subplot\":\"mapbox\",\"type\":\"scattermapbox\"},{\"hovertemplate\":\"neighbourhood=Banbury-Don Mills<br>average_house_value=%{marker.size}<br>lat=%{lat}<br>lon=%{lon}<extra></extra>\",\"lat\":[43.737657],\"legendgroup\":\"Banbury-Don Mills\",\"lon\":[-79.34971798],\"marker\":{\"color\":\"#FFA15A\",\"size\":[612039.0],\"sizemode\":\"area\",\"sizeref\":3816.214375},\"mode\":\"markers\",\"name\":\"Banbury-Don Mills\",\"showlegend\":true,\"subplot\":\"mapbox\",\"type\":\"scattermapbox\"},{\"hovertemplate\":\"neighbourhood=Bathurst Manor<br>average_house_value=%{marker.size}<br>lat=%{lat}<br>lon=%{lon}<extra></extra>\",\"lat\":[43.76481331],\"legendgroup\":\"Bathurst Manor\",\"lon\":[-79.45605516],\"marker\":{\"color\":\"#19d3f3\",\"size\":[501576.75],\"sizemode\":\"area\",\"sizeref\":3816.214375},\"mode\":\"markers\",\"name\":\"Bathurst Manor\",\"showlegend\":true,\"subplot\":\"mapbox\",\"type\":\"scattermapbox\"},{\"hovertemplate\":\"neighbourhood=Bay Street Corridor<br>average_house_value=%{marker.size}<br>lat=%{lat}<br>lon=%{lon}<extra></extra>\",\"lat\":[43.65751135],\"legendgroup\":\"Bay Street Corridor\",\"lon\":[-79.38572125],\"marker\":{\"color\":\"#FF6692\",\"size\":[423653.5],\"sizemode\":\"area\",\"sizeref\":3816.214375},\"mode\":\"markers\",\"name\":\"Bay Street Corridor\",\"showlegend\":true,\"subplot\":\"mapbox\",\"type\":\"scattermapbox\"},{\"hovertemplate\":\"neighbourhood=Bayview Village<br>average_house_value=%{marker.size}<br>lat=%{lat}<br>lon=%{lon}<extra></extra>\",\"lat\":[43.77636052],\"legendgroup\":\"Bayview Village\",\"lon\":[-79.37711686],\"marker\":{\"color\":\"#B6E880\",\"size\":[539258.75],\"sizemode\":\"area\",\"sizeref\":3816.214375},\"mode\":\"markers\",\"name\":\"Bayview Village\",\"showlegend\":true,\"subplot\":\"mapbox\",\"type\":\"scattermapbox\"},{\"hovertemplate\":\"neighbourhood=Bayview Woods-Steeles<br>average_house_value=%{marker.size}<br>lat=%{lat}<br>lon=%{lon}<extra></extra>\",\"lat\":[43.79680187],\"legendgroup\":\"Bayview Woods-Steeles\",\"lon\":[-79.38211795],\"marker\":{\"color\":\"#FF97FF\",\"size\":[565413.5],\"sizemode\":\"area\",\"sizeref\":3816.214375},\"mode\":\"markers\",\"name\":\"Bayview Woods-Steeles\",\"showlegend\":true,\"subplot\":\"mapbox\",\"type\":\"scattermapbox\"},{\"hovertemplate\":\"neighbourhood=Bedford Park-Nortown<br>average_house_value=%{marker.size}<br>lat=%{lat}<br>lon=%{lon}<extra></extra>\",\"lat\":[43.73148623],\"legendgroup\":\"Bedford Park-Nortown\",\"lon\":[-79.42022735],\"marker\":{\"color\":\"#FECB52\",\"size\":[930415.25],\"sizemode\":\"area\",\"sizeref\":3816.214375},\"mode\":\"markers\",\"name\":\"Bedford Park-Nortown\",\"showlegend\":true,\"subplot\":\"mapbox\",\"type\":\"scattermapbox\"},{\"hovertemplate\":\"neighbourhood=Beechborough-Greenbrook<br>average_house_value=%{marker.size}<br>lat=%{lat}<br>lon=%{lon}<extra></extra>\",\"lat\":[43.69321649],\"legendgroup\":\"Beechborough-Greenbrook\",\"lon\":[-79.47947251],\"marker\":{\"color\":\"#636efa\",\"size\":[370927.75],\"sizemode\":\"area\",\"sizeref\":3816.214375},\"mode\":\"markers\",\"name\":\"Beechborough-Greenbrook\",\"showlegend\":true,\"subplot\":\"mapbox\",\"type\":\"scattermapbox\"},{\"hovertemplate\":\"neighbourhood=Bendale<br>average_house_value=%{marker.size}<br>lat=%{lat}<br>lon=%{lon}<extra></extra>\",\"lat\":[43.76036631],\"legendgroup\":\"Bendale\",\"lon\":[-79.25740037],\"marker\":{\"color\":\"#EF553B\",\"size\":[301123.25],\"sizemode\":\"area\",\"sizeref\":3816.214375},\"mode\":\"markers\",\"name\":\"Bendale\",\"showlegend\":true,\"subplot\":\"mapbox\",\"type\":\"scattermapbox\"},{\"hovertemplate\":\"neighbourhood=Birchcliffe-Cliffside<br>average_house_value=%{marker.size}<br>lat=%{lat}<br>lon=%{lon}<extra></extra>\",\"lat\":[43.69468198],\"legendgroup\":\"Birchcliffe-Cliffside\",\"lon\":[-79.26509259],\"marker\":{\"color\":\"#00cc96\",\"size\":[437315.0],\"sizemode\":\"area\",\"sizeref\":3816.214375},\"mode\":\"markers\",\"name\":\"Birchcliffe-Cliffside\",\"showlegend\":true,\"subplot\":\"mapbox\",\"type\":\"scattermapbox\"},{\"hovertemplate\":\"neighbourhood=Black Creek<br>average_house_value=%{marker.size}<br>lat=%{lat}<br>lon=%{lon}<extra></extra>\",\"lat\":[43.76489025],\"legendgroup\":\"Black Creek\",\"lon\":[-79.52197932],\"marker\":{\"color\":\"#ab63fa\",\"size\":[260841.75],\"sizemode\":\"area\",\"sizeref\":3816.214375},\"mode\":\"markers\",\"name\":\"Black Creek\",\"showlegend\":true,\"subplot\":\"mapbox\",\"type\":\"scattermapbox\"},{\"hovertemplate\":\"neighbourhood=Blake-Jones<br>average_house_value=%{marker.size}<br>lat=%{lat}<br>lon=%{lon}<extra></extra>\",\"lat\":[43.67617288],\"legendgroup\":\"Blake-Jones\",\"lon\":[-79.33739417],\"marker\":{\"color\":\"#FFA15A\",\"size\":[511437.0],\"sizemode\":\"area\",\"sizeref\":3816.214375},\"mode\":\"markers\",\"name\":\"Blake-Jones\",\"showlegend\":true,\"subplot\":\"mapbox\",\"type\":\"scattermapbox\"},{\"hovertemplate\":\"neighbourhood=Briar Hill-Belgravia<br>average_house_value=%{marker.size}<br>lat=%{lat}<br>lon=%{lon}<extra></extra>\",\"lat\":[43.69902438],\"legendgroup\":\"Briar Hill-Belgravia\",\"lon\":[-79.4528513],\"marker\":{\"color\":\"#19d3f3\",\"size\":[365524.5],\"sizemode\":\"area\",\"sizeref\":3816.214375},\"mode\":\"markers\",\"name\":\"Briar Hill-Belgravia\",\"showlegend\":true,\"subplot\":\"mapbox\",\"type\":\"scattermapbox\"},{\"hovertemplate\":\"neighbourhood=Bridle Path-Sunnybrook-York Mills<br>average_house_value=%{marker.size}<br>lat=%{lat}<br>lon=%{lon}<extra></extra>\",\"lat\":[43.73101314],\"legendgroup\":\"Bridle Path-Sunnybrook-York Mills\",\"lon\":[-79.37890418],\"marker\":{\"color\":\"#FF6692\",\"size\":[1526485.75],\"sizemode\":\"area\",\"sizeref\":3816.214375},\"mode\":\"markers\",\"name\":\"Bridle Path-Sunnybrook-York Mills\",\"showlegend\":true,\"subplot\":\"mapbox\",\"type\":\"scattermapbox\"},{\"hovertemplate\":\"neighbourhood=Broadview North<br>average_house_value=%{marker.size}<br>lat=%{lat}<br>lon=%{lon}<extra></extra>\",\"lat\":[43.68882512],\"legendgroup\":\"Broadview North\",\"lon\":[-79.35562951],\"marker\":{\"color\":\"#B6E880\",\"size\":[443373.25],\"sizemode\":\"area\",\"sizeref\":3816.214375},\"mode\":\"markers\",\"name\":\"Broadview North\",\"showlegend\":true,\"subplot\":\"mapbox\",\"type\":\"scattermapbox\"},{\"hovertemplate\":\"neighbourhood=Brookhaven-Amesbury<br>average_house_value=%{marker.size}<br>lat=%{lat}<br>lon=%{lon}<extra></extra>\",\"lat\":[43.70132631],\"legendgroup\":\"Brookhaven-Amesbury\",\"lon\":[-79.48558926],\"marker\":{\"color\":\"#FF97FF\",\"size\":[350943.0],\"sizemode\":\"area\",\"sizeref\":3816.214375},\"mode\":\"markers\",\"name\":\"Brookhaven-Amesbury\",\"showlegend\":true,\"subplot\":\"mapbox\",\"type\":\"scattermapbox\"},{\"hovertemplate\":\"neighbourhood=Cabbagetown-South St.James Town<br>average_house_value=%{marker.size}<br>lat=%{lat}<br>lon=%{lon}<extra></extra>\",\"lat\":[43.66764773],\"legendgroup\":\"Cabbagetown-South St.James Town\",\"lon\":[-79.36610666],\"marker\":{\"color\":\"#FECB52\",\"size\":[494110.5],\"sizemode\":\"area\",\"sizeref\":3816.214375},\"mode\":\"markers\",\"name\":\"Cabbagetown-South St.James Town\",\"showlegend\":true,\"subplot\":\"mapbox\",\"type\":\"scattermapbox\"},{\"hovertemplate\":\"neighbourhood=Caledonia-Fairbank<br>average_house_value=%{marker.size}<br>lat=%{lat}<br>lon=%{lon}<extra></extra>\",\"lat\":[43.68856865],\"legendgroup\":\"Caledonia-Fairbank\",\"lon\":[-79.45521208],\"marker\":{\"color\":\"#636efa\",\"size\":[361714.25],\"sizemode\":\"area\",\"sizeref\":3816.214375},\"mode\":\"markers\",\"name\":\"Caledonia-Fairbank\",\"showlegend\":true,\"subplot\":\"mapbox\",\"type\":\"scattermapbox\"},{\"hovertemplate\":\"neighbourhood=Casa Loma<br>average_house_value=%{marker.size}<br>lat=%{lat}<br>lon=%{lon}<extra></extra>\",\"lat\":[43.6818521],\"legendgroup\":\"Casa Loma\",\"lon\":[-79.40800665],\"marker\":{\"color\":\"#EF553B\",\"size\":[981064.25],\"sizemode\":\"area\",\"sizeref\":3816.214375},\"mode\":\"markers\",\"name\":\"Casa Loma\",\"showlegend\":true,\"subplot\":\"mapbox\",\"type\":\"scattermapbox\"},{\"hovertemplate\":\"neighbourhood=Centennial Scarborough<br>average_house_value=%{marker.size}<br>lat=%{lat}<br>lon=%{lon}<extra></extra>\",\"lat\":[43.7823765],\"legendgroup\":\"Centennial Scarborough\",\"lon\":[-79.15084327],\"marker\":{\"color\":\"#00cc96\",\"size\":[409862.75],\"sizemode\":\"area\",\"sizeref\":3816.214375},\"mode\":\"markers\",\"name\":\"Centennial Scarborough\",\"showlegend\":true,\"subplot\":\"mapbox\",\"type\":\"scattermapbox\"},{\"hovertemplate\":\"neighbourhood=Church-Yonge Corridor<br>average_house_value=%{marker.size}<br>lat=%{lat}<br>lon=%{lon}<extra></extra>\",\"lat\":[43.65964886],\"legendgroup\":\"Church-Yonge Corridor\",\"lon\":[-79.37901717],\"marker\":{\"color\":\"#ab63fa\",\"size\":[406117.5],\"sizemode\":\"area\",\"sizeref\":3816.214375},\"mode\":\"markers\",\"name\":\"Church-Yonge Corridor\",\"showlegend\":true,\"subplot\":\"mapbox\",\"type\":\"scattermapbox\"},{\"hovertemplate\":\"neighbourhood=Clairlea-Birchmount<br>average_house_value=%{marker.size}<br>lat=%{lat}<br>lon=%{lon}<extra></extra>\",\"lat\":[43.71359238],\"legendgroup\":\"Clairlea-Birchmount\",\"lon\":[-79.28138178],\"marker\":{\"color\":\"#FFA15A\",\"size\":[354555.25],\"sizemode\":\"area\",\"sizeref\":3816.214375},\"mode\":\"markers\",\"name\":\"Clairlea-Birchmount\",\"showlegend\":true,\"subplot\":\"mapbox\",\"type\":\"scattermapbox\"},{\"hovertemplate\":\"neighbourhood=Clanton Park<br>average_house_value=%{marker.size}<br>lat=%{lat}<br>lon=%{lon}<extra></extra>\",\"lat\":[43.74197843],\"legendgroup\":\"Clanton Park\",\"lon\":[-79.44630258],\"marker\":{\"color\":\"#19d3f3\",\"size\":[551561.25],\"sizemode\":\"area\",\"sizeref\":3816.214375},\"mode\":\"markers\",\"name\":\"Clanton Park\",\"showlegend\":true,\"subplot\":\"mapbox\",\"type\":\"scattermapbox\"},{\"hovertemplate\":\"neighbourhood=Cliffcrest<br>average_house_value=%{marker.size}<br>lat=%{lat}<br>lon=%{lon}<extra></extra>\",\"lat\":[43.72112117],\"legendgroup\":\"Cliffcrest\",\"lon\":[-79.23552957],\"marker\":{\"color\":\"#FF6692\",\"size\":[417422.0],\"sizemode\":\"area\",\"sizeref\":3816.214375},\"mode\":\"markers\",\"name\":\"Cliffcrest\",\"showlegend\":true,\"subplot\":\"mapbox\",\"type\":\"scattermapbox\"},{\"hovertemplate\":\"neighbourhood=Corso Italia-Davenport<br>average_house_value=%{marker.size}<br>lat=%{lat}<br>lon=%{lon}<extra></extra>\",\"lat\":[43.67766091],\"legendgroup\":\"Corso Italia-Davenport\",\"lon\":[-79.44746933],\"marker\":{\"color\":\"#B6E880\",\"size\":[419930.5],\"sizemode\":\"area\",\"sizeref\":3816.214375},\"mode\":\"markers\",\"name\":\"Corso Italia-Davenport\",\"showlegend\":true,\"subplot\":\"mapbox\",\"type\":\"scattermapbox\"},{\"hovertemplate\":\"neighbourhood=Danforth<br>average_house_value=%{marker.size}<br>lat=%{lat}<br>lon=%{lon}<extra></extra>\",\"lat\":[43.68402547],\"legendgroup\":\"Danforth\",\"lon\":[-79.32981941],\"marker\":{\"color\":\"#FF97FF\",\"size\":[466943.0],\"sizemode\":\"area\",\"sizeref\":3816.214375},\"mode\":\"markers\",\"name\":\"Danforth\",\"showlegend\":true,\"subplot\":\"mapbox\",\"type\":\"scattermapbox\"},{\"hovertemplate\":\"neighbourhood=Danforth-East York<br>average_house_value=%{marker.size}<br>lat=%{lat}<br>lon=%{lon}<extra></extra>\",\"lat\":[43.68946809],\"legendgroup\":\"Danforth-East York\",\"lon\":[-79.33140338],\"marker\":{\"color\":\"#FECB52\",\"size\":[421679.25],\"sizemode\":\"area\",\"sizeref\":3816.214375},\"mode\":\"markers\",\"name\":\"Danforth-East York\",\"showlegend\":true,\"subplot\":\"mapbox\",\"type\":\"scattermapbox\"},{\"hovertemplate\":\"neighbourhood=Don Valley Village<br>average_house_value=%{marker.size}<br>lat=%{lat}<br>lon=%{lon}<extra></extra>\",\"lat\":[43.78329369],\"legendgroup\":\"Don Valley Village\",\"lon\":[-79.35364413],\"marker\":{\"color\":\"#636efa\",\"size\":[398010.25],\"sizemode\":\"area\",\"sizeref\":3816.214375},\"mode\":\"markers\",\"name\":\"Don Valley Village\",\"showlegend\":true,\"subplot\":\"mapbox\",\"type\":\"scattermapbox\"},{\"hovertemplate\":\"neighbourhood=Dorset Park<br>average_house_value=%{marker.size}<br>lat=%{lat}<br>lon=%{lon}<extra></extra>\",\"lat\":[43.75927437],\"legendgroup\":\"Dorset Park\",\"lon\":[-79.27890794],\"marker\":{\"color\":\"#EF553B\",\"size\":[262000.25],\"sizemode\":\"area\",\"sizeref\":3816.214375},\"mode\":\"markers\",\"name\":\"Dorset Park\",\"showlegend\":true,\"subplot\":\"mapbox\",\"type\":\"scattermapbox\"},{\"hovertemplate\":\"neighbourhood=Dovercourt-Wallace Emerson-Juncti<br>average_house_value=%{marker.size}<br>lat=%{lat}<br>lon=%{lon}<extra></extra>\",\"lat\":[43.66567693],\"legendgroup\":\"Dovercourt-Wallace Emerson-Juncti\",\"lon\":[-79.4385407],\"marker\":{\"color\":\"#00cc96\",\"size\":[434699.5],\"sizemode\":\"area\",\"sizeref\":3816.214375},\"mode\":\"markers\",\"name\":\"Dovercourt-Wallace Emerson-Juncti\",\"showlegend\":true,\"subplot\":\"mapbox\",\"type\":\"scattermapbox\"},{\"hovertemplate\":\"neighbourhood=Downsview-Roding-CFB<br>average_house_value=%{marker.size}<br>lat=%{lat}<br>lon=%{lon}<extra></extra>\",\"lat\":[43.73329235],\"legendgroup\":\"Downsview-Roding-CFB\",\"lon\":[-79.49049735],\"marker\":{\"color\":\"#ab63fa\",\"size\":[381415.5],\"sizemode\":\"area\",\"sizeref\":3816.214375},\"mode\":\"markers\",\"name\":\"Downsview-Roding-CFB\",\"showlegend\":true,\"subplot\":\"mapbox\",\"type\":\"scattermapbox\"},{\"hovertemplate\":\"neighbourhood=Dufferin Grove<br>average_house_value=%{marker.size}<br>lat=%{lat}<br>lon=%{lon}<extra></extra>\",\"lat\":[43.65542833],\"legendgroup\":\"Dufferin Grove\",\"lon\":[-79.43734104],\"marker\":{\"color\":\"#FFA15A\",\"size\":[457588.75],\"sizemode\":\"area\",\"sizeref\":3816.214375},\"mode\":\"markers\",\"name\":\"Dufferin Grove\",\"showlegend\":true,\"subplot\":\"mapbox\",\"type\":\"scattermapbox\"},{\"hovertemplate\":\"neighbourhood=East End-Danforth<br>average_house_value=%{marker.size}<br>lat=%{lat}<br>lon=%{lon}<extra></extra>\",\"lat\":[43.68417388],\"legendgroup\":\"East End-Danforth\",\"lon\":[-79.29935867],\"marker\":{\"color\":\"#19d3f3\",\"size\":[478054.25],\"sizemode\":\"area\",\"sizeref\":3816.214375},\"mode\":\"markers\",\"name\":\"East End-Danforth\",\"showlegend\":true,\"subplot\":\"mapbox\",\"type\":\"scattermapbox\"},{\"hovertemplate\":\"neighbourhood=Edenbridge-Humber Valley<br>average_house_value=%{marker.size}<br>lat=%{lat}<br>lon=%{lon}<extra></extra>\",\"lat\":[43.67088591],\"legendgroup\":\"Edenbridge-Humber Valley\",\"lon\":[-79.52245776],\"marker\":{\"color\":\"#FF6692\",\"size\":[796162.5],\"sizemode\":\"area\",\"sizeref\":3816.214375},\"mode\":\"markers\",\"name\":\"Edenbridge-Humber Valley\",\"showlegend\":true,\"subplot\":\"mapbox\",\"type\":\"scattermapbox\"},{\"hovertemplate\":\"neighbourhood=Eglinton East<br>average_house_value=%{marker.size}<br>lat=%{lat}<br>lon=%{lon}<extra></extra>\",\"lat\":[43.7409223],\"legendgroup\":\"Eglinton East\",\"lon\":[-79.24559804],\"marker\":{\"color\":\"#B6E880\",\"size\":[268966.5],\"sizemode\":\"area\",\"sizeref\":3816.214375},\"mode\":\"markers\",\"name\":\"Eglinton East\",\"showlegend\":true,\"subplot\":\"mapbox\",\"type\":\"scattermapbox\"},{\"hovertemplate\":\"neighbourhood=Elms-Old Rexdale<br>average_house_value=%{marker.size}<br>lat=%{lat}<br>lon=%{lon}<extra></extra>\",\"lat\":[43.72151887],\"legendgroup\":\"Elms-Old Rexdale\",\"lon\":[-79.54898272],\"marker\":{\"color\":\"#FF97FF\",\"size\":[268341.25],\"sizemode\":\"area\",\"sizeref\":3816.214375},\"mode\":\"markers\",\"name\":\"Elms-Old Rexdale\",\"showlegend\":true,\"subplot\":\"mapbox\",\"type\":\"scattermapbox\"},{\"hovertemplate\":\"neighbourhood=Englemount-Lawrence<br>average_house_value=%{marker.size}<br>lat=%{lat}<br>lon=%{lon}<extra></extra>\",\"lat\":[43.72034467],\"legendgroup\":\"Englemount-Lawrence\",\"lon\":[-79.43740855],\"marker\":{\"color\":\"#FECB52\",\"size\":[568936.75],\"sizemode\":\"area\",\"sizeref\":3816.214375},\"mode\":\"markers\",\"name\":\"Englemount-Lawrence\",\"showlegend\":true,\"subplot\":\"mapbox\",\"type\":\"scattermapbox\"},{\"hovertemplate\":\"neighbourhood=Eringate-Centennial-West Deane<br>average_house_value=%{marker.size}<br>lat=%{lat}<br>lon=%{lon}<extra></extra>\",\"lat\":[43.65801676],\"legendgroup\":\"Eringate-Centennial-West Deane\",\"lon\":[-79.58044524],\"marker\":{\"color\":\"#636efa\",\"size\":[397781.75],\"sizemode\":\"area\",\"sizeref\":3816.214375},\"mode\":\"markers\",\"name\":\"Eringate-Centennial-West Deane\",\"showlegend\":true,\"subplot\":\"mapbox\",\"type\":\"scattermapbox\"},{\"hovertemplate\":\"neighbourhood=Etobicoke West Mall<br>average_house_value=%{marker.size}<br>lat=%{lat}<br>lon=%{lon}<extra></extra>\",\"lat\":[43.64506262],\"legendgroup\":\"Etobicoke West Mall\",\"lon\":[-79.56893877],\"marker\":{\"color\":\"#EF553B\",\"size\":[309412.0],\"sizemode\":\"area\",\"sizeref\":3816.214375},\"mode\":\"markers\",\"name\":\"Etobicoke West Mall\",\"showlegend\":true,\"subplot\":\"mapbox\",\"type\":\"scattermapbox\"},{\"hovertemplate\":\"neighbourhood=Flemingdon Park<br>average_house_value=%{marker.size}<br>lat=%{lat}<br>lon=%{lon}<extra></extra>\",\"lat\":[43.71592975],\"legendgroup\":\"Flemingdon Park\",\"lon\":[-79.33264597],\"marker\":{\"color\":\"#00cc96\",\"size\":[207799.0],\"sizemode\":\"area\",\"sizeref\":3816.214375},\"mode\":\"markers\",\"name\":\"Flemingdon Park\",\"showlegend\":true,\"subplot\":\"mapbox\",\"type\":\"scattermapbox\"},{\"hovertemplate\":\"neighbourhood=Forest Hill North<br>average_house_value=%{marker.size}<br>lat=%{lat}<br>lon=%{lon}<extra></extra>\",\"lat\":[43.70421756],\"legendgroup\":\"Forest Hill North\",\"lon\":[-79.42814316],\"marker\":{\"color\":\"#ab63fa\",\"size\":[851680.5],\"sizemode\":\"area\",\"sizeref\":3816.214375},\"mode\":\"markers\",\"name\":\"Forest Hill North\",\"showlegend\":true,\"subplot\":\"mapbox\",\"type\":\"scattermapbox\"},{\"hovertemplate\":\"neighbourhood=Forest Hill South<br>average_house_value=%{marker.size}<br>lat=%{lat}<br>lon=%{lon}<extra></extra>\",\"lat\":[43.69452576],\"legendgroup\":\"Forest Hill South\",\"lon\":[-79.41431786],\"marker\":{\"color\":\"#FFA15A\",\"size\":[1195992.5],\"sizemode\":\"area\",\"sizeref\":3816.214375},\"mode\":\"markers\",\"name\":\"Forest Hill South\",\"showlegend\":true,\"subplot\":\"mapbox\",\"type\":\"scattermapbox\"},{\"hovertemplate\":\"neighbourhood=Glenfield-Jane Heights<br>average_house_value=%{marker.size}<br>lat=%{lat}<br>lon=%{lon}<extra></extra>\",\"lat\":[43.74563575],\"legendgroup\":\"Glenfield-Jane Heights\",\"lon\":[-79.51346532],\"marker\":{\"color\":\"#19d3f3\",\"size\":[327597.75],\"sizemode\":\"area\",\"sizeref\":3816.214375},\"mode\":\"markers\",\"name\":\"Glenfield-Jane Heights\",\"showlegend\":true,\"subplot\":\"mapbox\",\"type\":\"scattermapbox\"},{\"hovertemplate\":\"neighbourhood=Greenwood-Coxwell<br>average_house_value=%{marker.size}<br>lat=%{lat}<br>lon=%{lon}<extra></extra>\",\"lat\":[43.67261231],\"legendgroup\":\"Greenwood-Coxwell\",\"lon\":[-79.32431802],\"marker\":{\"color\":\"#FF6692\",\"size\":[387055.5],\"sizemode\":\"area\",\"sizeref\":3816.214375},\"mode\":\"markers\",\"name\":\"Greenwood-Coxwell\",\"showlegend\":true,\"subplot\":\"mapbox\",\"type\":\"scattermapbox\"},{\"hovertemplate\":\"neighbourhood=Guildwood<br>average_house_value=%{marker.size}<br>lat=%{lat}<br>lon=%{lon}<extra></extra>\",\"lat\":[43.74882934],\"legendgroup\":\"Guildwood\",\"lon\":[-79.19505535],\"marker\":{\"color\":\"#B6E880\",\"size\":[369373.5],\"sizemode\":\"area\",\"sizeref\":3816.214375},\"mode\":\"markers\",\"name\":\"Guildwood\",\"showlegend\":true,\"subplot\":\"mapbox\",\"type\":\"scattermapbox\"},{\"hovertemplate\":\"neighbourhood=Henry Farm<br>average_house_value=%{marker.size}<br>lat=%{lat}<br>lon=%{lon}<extra></extra>\",\"lat\":[43.77114414],\"legendgroup\":\"Henry Farm\",\"lon\":[-79.34124067],\"marker\":{\"color\":\"#FF97FF\",\"size\":[369958.0],\"sizemode\":\"area\",\"sizeref\":3816.214375},\"mode\":\"markers\",\"name\":\"Henry Farm\",\"showlegend\":true,\"subplot\":\"mapbox\",\"type\":\"scattermapbox\"},{\"hovertemplate\":\"neighbourhood=High Park North<br>average_house_value=%{marker.size}<br>lat=%{lat}<br>lon=%{lon}<extra></extra>\",\"lat\":[43.65756491],\"legendgroup\":\"High Park North\",\"lon\":[-79.46630217],\"marker\":{\"color\":\"#FECB52\",\"size\":[532497.0],\"sizemode\":\"area\",\"sizeref\":3816.214375},\"mode\":\"markers\",\"name\":\"High Park North\",\"showlegend\":true,\"subplot\":\"mapbox\",\"type\":\"scattermapbox\"},{\"hovertemplate\":\"neighbourhood=High Park-Swansea<br>average_house_value=%{marker.size}<br>lat=%{lat}<br>lon=%{lon}<extra></extra>\",\"lat\":[43.64506458],\"legendgroup\":\"High Park-Swansea\",\"lon\":[-79.46787222],\"marker\":{\"color\":\"#636efa\",\"size\":[582977.75],\"sizemode\":\"area\",\"sizeref\":3816.214375},\"mode\":\"markers\",\"name\":\"High Park-Swansea\",\"showlegend\":true,\"subplot\":\"mapbox\",\"type\":\"scattermapbox\"},{\"hovertemplate\":\"neighbourhood=Highland Creek<br>average_house_value=%{marker.size}<br>lat=%{lat}<br>lon=%{lon}<extra></extra>\",\"lat\":[43.79077477],\"legendgroup\":\"Highland Creek\",\"lon\":[-79.17747247],\"marker\":{\"color\":\"#EF553B\",\"size\":[428838.5],\"sizemode\":\"area\",\"sizeref\":3816.214375},\"mode\":\"markers\",\"name\":\"Highland Creek\",\"showlegend\":true,\"subplot\":\"mapbox\",\"type\":\"scattermapbox\"},{\"hovertemplate\":\"neighbourhood=Hillcrest Village<br>average_house_value=%{marker.size}<br>lat=%{lat}<br>lon=%{lon}<extra></extra>\",\"lat\":[43.80298783],\"legendgroup\":\"Hillcrest Village\",\"lon\":[-79.354804],\"marker\":{\"color\":\"#00cc96\",\"size\":[395023.0],\"sizemode\":\"area\",\"sizeref\":3816.214375},\"mode\":\"markers\",\"name\":\"Hillcrest Village\",\"showlegend\":true,\"subplot\":\"mapbox\",\"type\":\"scattermapbox\"},{\"hovertemplate\":\"neighbourhood=Humber Heights-Westmount<br>average_house_value=%{marker.size}<br>lat=%{lat}<br>lon=%{lon}<extra></extra>\",\"lat\":[43.6922328],\"legendgroup\":\"Humber Heights-Westmount\",\"lon\":[-79.5224162],\"marker\":{\"color\":\"#ab63fa\",\"size\":[449150.5],\"sizemode\":\"area\",\"sizeref\":3816.214375},\"mode\":\"markers\",\"name\":\"Humber Heights-Westmount\",\"showlegend\":true,\"subplot\":\"mapbox\",\"type\":\"scattermapbox\"},{\"hovertemplate\":\"neighbourhood=Humber Summit<br>average_house_value=%{marker.size}<br>lat=%{lat}<br>lon=%{lon}<extra></extra>\",\"lat\":[43.75891975],\"legendgroup\":\"Humber Summit\",\"lon\":[-79.55617474],\"marker\":{\"color\":\"#FFA15A\",\"size\":[352082.5],\"sizemode\":\"area\",\"sizeref\":3816.214375},\"mode\":\"markers\",\"name\":\"Humber Summit\",\"showlegend\":true,\"subplot\":\"mapbox\",\"type\":\"scattermapbox\"},{\"hovertemplate\":\"neighbourhood=Humbermede<br>average_house_value=%{marker.size}<br>lat=%{lat}<br>lon=%{lon}<extra></extra>\",\"lat\":[43.74342952],\"legendgroup\":\"Humbermede\",\"lon\":[-79.54236712],\"marker\":{\"color\":\"#19d3f3\",\"size\":[319783.75],\"sizemode\":\"area\",\"sizeref\":3816.214375},\"mode\":\"markers\",\"name\":\"Humbermede\",\"showlegend\":true,\"subplot\":\"mapbox\",\"type\":\"scattermapbox\"},{\"hovertemplate\":\"neighbourhood=Humewood-Cedarvale<br>average_house_value=%{marker.size}<br>lat=%{lat}<br>lon=%{lon}<extra></extra>\",\"lat\":[43.69136981],\"legendgroup\":\"Humewood-Cedarvale\",\"lon\":[-79.42768335],\"marker\":{\"color\":\"#FF6692\",\"size\":[697085.5],\"sizemode\":\"area\",\"sizeref\":3816.214375},\"mode\":\"markers\",\"name\":\"Humewood-Cedarvale\",\"showlegend\":true,\"subplot\":\"mapbox\",\"type\":\"scattermapbox\"},{\"hovertemplate\":\"neighbourhood=Ionview<br>average_house_value=%{marker.size}<br>lat=%{lat}<br>lon=%{lon}<extra></extra>\",\"lat\":[43.73536441],\"legendgroup\":\"Ionview\",\"lon\":[-79.27247049],\"marker\":{\"color\":\"#B6E880\",\"size\":[287685.75],\"sizemode\":\"area\",\"sizeref\":3816.214375},\"mode\":\"markers\",\"name\":\"Ionview\",\"showlegend\":true,\"subplot\":\"mapbox\",\"type\":\"scattermapbox\"},{\"hovertemplate\":\"neighbourhood=Islington-City Centre West<br>average_house_value=%{marker.size}<br>lat=%{lat}<br>lon=%{lon}<extra></extra>\",\"lat\":[43.63346335],\"legendgroup\":\"Islington-City Centre West\",\"lon\":[-79.54331654],\"marker\":{\"color\":\"#FF97FF\",\"size\":[451685.25],\"sizemode\":\"area\",\"sizeref\":3816.214375},\"mode\":\"markers\",\"name\":\"Islington-City Centre West\",\"showlegend\":true,\"subplot\":\"mapbox\",\"type\":\"scattermapbox\"},{\"hovertemplate\":\"neighbourhood=Junction Area<br>average_house_value=%{marker.size}<br>lat=%{lat}<br>lon=%{lon}<extra></extra>\",\"lat\":[43.66788977],\"legendgroup\":\"Junction Area\",\"lon\":[-79.47143987],\"marker\":{\"color\":\"#FECB52\",\"size\":[433269.25],\"sizemode\":\"area\",\"sizeref\":3816.214375},\"mode\":\"markers\",\"name\":\"Junction Area\",\"showlegend\":true,\"subplot\":\"mapbox\",\"type\":\"scattermapbox\"},{\"hovertemplate\":\"neighbourhood=Keelesdale-Eglinton West<br>average_house_value=%{marker.size}<br>lat=%{lat}<br>lon=%{lon}<extra></extra>\",\"lat\":[43.68572747],\"legendgroup\":\"Keelesdale-Eglinton West\",\"lon\":[-79.47143711],\"marker\":{\"color\":\"#636efa\",\"size\":[322774.75],\"sizemode\":\"area\",\"sizeref\":3816.214375},\"mode\":\"markers\",\"name\":\"Keelesdale-Eglinton West\",\"showlegend\":true,\"subplot\":\"mapbox\",\"type\":\"scattermapbox\"},{\"hovertemplate\":\"neighbourhood=Kennedy Park<br>average_house_value=%{marker.size}<br>lat=%{lat}<br>lon=%{lon}<extra></extra>\",\"lat\":[43.72555572],\"legendgroup\":\"Kennedy Park\",\"lon\":[-79.26038221],\"marker\":{\"color\":\"#EF553B\",\"size\":[287233.5],\"sizemode\":\"area\",\"sizeref\":3816.214375},\"mode\":\"markers\",\"name\":\"Kennedy Park\",\"showlegend\":true,\"subplot\":\"mapbox\",\"type\":\"scattermapbox\"},{\"hovertemplate\":\"neighbourhood=Kensington-Chinatown<br>average_house_value=%{marker.size}<br>lat=%{lat}<br>lon=%{lon}<extra></extra>\",\"lat\":[43.65355413],\"legendgroup\":\"Kensington-Chinatown\",\"lon\":[-79.39723988],\"marker\":{\"color\":\"#00cc96\",\"size\":[440485.75],\"sizemode\":\"area\",\"sizeref\":3816.214375},\"mode\":\"markers\",\"name\":\"Kensington-Chinatown\",\"showlegend\":true,\"subplot\":\"mapbox\",\"type\":\"scattermapbox\"},{\"hovertemplate\":\"neighbourhood=Kingsview Village-The Westway<br>average_house_value=%{marker.size}<br>lat=%{lat}<br>lon=%{lon}<extra></extra>\",\"lat\":[43.69899257],\"legendgroup\":\"Kingsview Village-The Westway\",\"lon\":[-79.54786331],\"marker\":{\"color\":\"#ab63fa\",\"size\":[338344.75],\"sizemode\":\"area\",\"sizeref\":3816.214375},\"mode\":\"markers\",\"name\":\"Kingsview Village-The Westway\",\"showlegend\":true,\"subplot\":\"mapbox\",\"type\":\"scattermapbox\"},{\"hovertemplate\":\"neighbourhood=Kingsway South<br>average_house_value=%{marker.size}<br>lat=%{lat}<br>lon=%{lon}<extra></extra>\",\"lat\":[43.65352043],\"legendgroup\":\"Kingsway South\",\"lon\":[-79.5105768],\"marker\":{\"color\":\"#FFA15A\",\"size\":[843234.25],\"sizemode\":\"area\",\"sizeref\":3816.214375},\"mode\":\"markers\",\"name\":\"Kingsway South\",\"showlegend\":true,\"subplot\":\"mapbox\",\"type\":\"scattermapbox\"},{\"hovertemplate\":\"neighbourhood=L'Amoreaux<br>average_house_value=%{marker.size}<br>lat=%{lat}<br>lon=%{lon}<extra></extra>\",\"lat\":[43.79571603],\"legendgroup\":\"L'Amoreaux\",\"lon\":[-79.31408424],\"marker\":{\"color\":\"#19d3f3\",\"size\":[650307.75],\"sizemode\":\"area\",\"sizeref\":3816.214375},\"mode\":\"markers\",\"name\":\"L'Amoreaux\",\"showlegend\":true,\"subplot\":\"mapbox\",\"type\":\"scattermapbox\"},{\"hovertemplate\":\"neighbourhood=Lambton Baby Point<br>average_house_value=%{marker.size}<br>lat=%{lat}<br>lon=%{lon}<extra></extra>\",\"lat\":[43.65742013],\"legendgroup\":\"Lambton Baby Point\",\"lon\":[-79.49604526],\"marker\":{\"color\":\"#FF6692\",\"size\":[336617.75],\"sizemode\":\"area\",\"sizeref\":3816.214375},\"mode\":\"markers\",\"name\":\"Lambton Baby Point\",\"showlegend\":true,\"subplot\":\"mapbox\",\"type\":\"scattermapbox\"},{\"hovertemplate\":\"neighbourhood=Lansing-Westgate<br>average_house_value=%{marker.size}<br>lat=%{lat}<br>lon=%{lon}<extra></extra>\",\"lat\":[43.75427115],\"legendgroup\":\"Lansing-Westgate\",\"lon\":[-79.42474772],\"marker\":{\"color\":\"#B6E880\",\"size\":[613216.5],\"sizemode\":\"area\",\"sizeref\":3816.214375},\"mode\":\"markers\",\"name\":\"Lansing-Westgate\",\"showlegend\":true,\"subplot\":\"mapbox\",\"type\":\"scattermapbox\"},{\"hovertemplate\":\"neighbourhood=Lawrence Park North<br>average_house_value=%{marker.size}<br>lat=%{lat}<br>lon=%{lon}<extra></extra>\",\"lat\":[43.73006017],\"legendgroup\":\"Lawrence Park North\",\"lon\":[-79.40397836],\"marker\":{\"color\":\"#FF97FF\",\"size\":[759392.5],\"sizemode\":\"area\",\"sizeref\":3816.214375},\"mode\":\"markers\",\"name\":\"Lawrence Park North\",\"showlegend\":true,\"subplot\":\"mapbox\",\"type\":\"scattermapbox\"},{\"hovertemplate\":\"neighbourhood=Lawrence Park South<br>average_house_value=%{marker.size}<br>lat=%{lat}<br>lon=%{lon}<extra></extra>\",\"lat\":[43.7172117],\"legendgroup\":\"Lawrence Park South\",\"lon\":[-79.40603941],\"marker\":{\"color\":\"#FECB52\",\"size\":[1094027.75],\"sizemode\":\"area\",\"sizeref\":3816.214375},\"mode\":\"markers\",\"name\":\"Lawrence Park South\",\"showlegend\":true,\"subplot\":\"mapbox\",\"type\":\"scattermapbox\"},{\"hovertemplate\":\"neighbourhood=Leaside-Bennington<br>average_house_value=%{marker.size}<br>lat=%{lat}<br>lon=%{lon}<extra></extra>\",\"lat\":[43.70379663],\"legendgroup\":\"Leaside-Bennington\",\"lon\":[-79.36607234],\"marker\":{\"color\":\"#636efa\",\"size\":[806471.75],\"sizemode\":\"area\",\"sizeref\":3816.214375},\"mode\":\"markers\",\"name\":\"Leaside-Bennington\",\"showlegend\":true,\"subplot\":\"mapbox\",\"type\":\"scattermapbox\"},{\"hovertemplate\":\"neighbourhood=Little Portugal<br>average_house_value=%{marker.size}<br>lat=%{lat}<br>lon=%{lon}<extra></extra>\",\"lat\":[43.64753593],\"legendgroup\":\"Little Portugal\",\"lon\":[-79.43032271],\"marker\":{\"color\":\"#EF553B\",\"size\":[540192.5],\"sizemode\":\"area\",\"sizeref\":3816.214375},\"mode\":\"markers\",\"name\":\"Little Portugal\",\"showlegend\":true,\"subplot\":\"mapbox\",\"type\":\"scattermapbox\"},{\"hovertemplate\":\"neighbourhood=Long Branch<br>average_house_value=%{marker.size}<br>lat=%{lat}<br>lon=%{lon}<extra></extra>\",\"lat\":[43.59236169],\"legendgroup\":\"Long Branch\",\"lon\":[-79.53334545],\"marker\":{\"color\":\"#00cc96\",\"size\":[385830.25],\"sizemode\":\"area\",\"sizeref\":3816.214375},\"mode\":\"markers\",\"name\":\"Long Branch\",\"showlegend\":true,\"subplot\":\"mapbox\",\"type\":\"scattermapbox\"},{\"hovertemplate\":\"neighbourhood=Malvern<br>average_house_value=%{marker.size}<br>lat=%{lat}<br>lon=%{lon}<extra></extra>\",\"lat\":[43.8036582],\"legendgroup\":\"Malvern\",\"lon\":[-79.22251662],\"marker\":{\"color\":\"#ab63fa\",\"size\":[256880.25],\"sizemode\":\"area\",\"sizeref\":3816.214375},\"mode\":\"markers\",\"name\":\"Malvern\",\"showlegend\":true,\"subplot\":\"mapbox\",\"type\":\"scattermapbox\"},{\"hovertemplate\":\"neighbourhood=Maple Leaf<br>average_house_value=%{marker.size}<br>lat=%{lat}<br>lon=%{lon}<extra></extra>\",\"lat\":[43.71557394],\"legendgroup\":\"Maple Leaf\",\"lon\":[-79.48075802],\"marker\":{\"color\":\"#FFA15A\",\"size\":[453229.0],\"sizemode\":\"area\",\"sizeref\":3816.214375},\"mode\":\"markers\",\"name\":\"Maple Leaf\",\"showlegend\":true,\"subplot\":\"mapbox\",\"type\":\"scattermapbox\"},{\"hovertemplate\":\"neighbourhood=Markland Wood<br>average_house_value=%{marker.size}<br>lat=%{lat}<br>lon=%{lon}<extra></extra>\",\"lat\":[43.63354175],\"legendgroup\":\"Markland Wood\",\"lon\":[-79.57343155],\"marker\":{\"color\":\"#19d3f3\",\"size\":[443974.75],\"sizemode\":\"area\",\"sizeref\":3816.214375},\"mode\":\"markers\",\"name\":\"Markland Wood\",\"showlegend\":true,\"subplot\":\"mapbox\",\"type\":\"scattermapbox\"},{\"hovertemplate\":\"neighbourhood=Milliken<br>average_house_value=%{marker.size}<br>lat=%{lat}<br>lon=%{lon}<extra></extra>\",\"lat\":[43.82069079],\"legendgroup\":\"Milliken\",\"lon\":[-79.27500892],\"marker\":{\"color\":\"#FF6692\",\"size\":[344988.25],\"sizemode\":\"area\",\"sizeref\":3816.214375},\"mode\":\"markers\",\"name\":\"Milliken\",\"showlegend\":true,\"subplot\":\"mapbox\",\"type\":\"scattermapbox\"},{\"hovertemplate\":\"neighbourhood=Mimico<br>average_house_value=%{marker.size}<br>lat=%{lat}<br>lon=%{lon}<extra></extra>\",\"lat\":[43.61592386],\"legendgroup\":\"Mimico\",\"lon\":[-79.50013664],\"marker\":{\"color\":\"#B6E880\",\"size\":[393490.5],\"sizemode\":\"area\",\"sizeref\":3816.214375},\"mode\":\"markers\",\"name\":\"Mimico\",\"showlegend\":true,\"subplot\":\"mapbox\",\"type\":\"scattermapbox\"},{\"hovertemplate\":\"neighbourhood=Morningside<br>average_house_value=%{marker.size}<br>lat=%{lat}<br>lon=%{lon}<extra></extra>\",\"lat\":[43.78239861],\"legendgroup\":\"Morningside\",\"lon\":[-79.20704119],\"marker\":{\"color\":\"#FF97FF\",\"size\":[285013.5],\"sizemode\":\"area\",\"sizeref\":3816.214375},\"mode\":\"markers\",\"name\":\"Morningside\",\"showlegend\":true,\"subplot\":\"mapbox\",\"type\":\"scattermapbox\"},{\"hovertemplate\":\"neighbourhood=Moss Park<br>average_house_value=%{marker.size}<br>lat=%{lat}<br>lon=%{lon}<extra></extra>\",\"lat\":[43.65651762],\"legendgroup\":\"Moss Park\",\"lon\":[-79.36729703],\"marker\":{\"color\":\"#FECB52\",\"size\":[409456.0],\"sizemode\":\"area\",\"sizeref\":3816.214375},\"mode\":\"markers\",\"name\":\"Moss Park\",\"showlegend\":true,\"subplot\":\"mapbox\",\"type\":\"scattermapbox\"},{\"hovertemplate\":\"neighbourhood=Mount Dennis<br>average_house_value=%{marker.size}<br>lat=%{lat}<br>lon=%{lon}<extra></extra>\",\"lat\":[43.68814409],\"legendgroup\":\"Mount Dennis\",\"lon\":[-79.49998906],\"marker\":{\"color\":\"#636efa\",\"size\":[262308.75],\"sizemode\":\"area\",\"sizeref\":3816.214375},\"mode\":\"markers\",\"name\":\"Mount Dennis\",\"showlegend\":true,\"subplot\":\"mapbox\",\"type\":\"scattermapbox\"},{\"hovertemplate\":\"neighbourhood=Mount Olive-Silverstone-Jamestown<br>average_house_value=%{marker.size}<br>lat=%{lat}<br>lon=%{lon}<extra></extra>\",\"lat\":[43.7468678],\"legendgroup\":\"Mount Olive-Silverstone-Jamestown\",\"lon\":[-79.58725926],\"marker\":{\"color\":\"#EF553B\",\"size\":[253182.25],\"sizemode\":\"area\",\"sizeref\":3816.214375},\"mode\":\"markers\",\"name\":\"Mount Olive-Silverstone-Jamestown\",\"showlegend\":true,\"subplot\":\"mapbox\",\"type\":\"scattermapbox\"},{\"hovertemplate\":\"neighbourhood=Mount Pleasant East<br>average_house_value=%{marker.size}<br>lat=%{lat}<br>lon=%{lon}<extra></extra>\",\"lat\":[43.70485217],\"legendgroup\":\"Mount Pleasant East\",\"lon\":[-79.38492395],\"marker\":{\"color\":\"#00cc96\",\"size\":[677370.25],\"sizemode\":\"area\",\"sizeref\":3816.214375},\"mode\":\"markers\",\"name\":\"Mount Pleasant East\",\"showlegend\":true,\"subplot\":\"mapbox\",\"type\":\"scattermapbox\"},{\"hovertemplate\":\"neighbourhood=Mount Pleasant West<br>average_house_value=%{marker.size}<br>lat=%{lat}<br>lon=%{lon}<extra></extra>\",\"lat\":[43.70443517],\"legendgroup\":\"Mount Pleasant West\",\"lon\":[-79.39335955],\"marker\":{\"color\":\"#ab63fa\",\"size\":[468181.75],\"sizemode\":\"area\",\"sizeref\":3816.214375},\"mode\":\"markers\",\"name\":\"Mount Pleasant West\",\"showlegend\":true,\"subplot\":\"mapbox\",\"type\":\"scattermapbox\"},{\"hovertemplate\":\"neighbourhood=New Toronto<br>average_house_value=%{marker.size}<br>lat=%{lat}<br>lon=%{lon}<extra></extra>\",\"lat\":[43.6005886],\"legendgroup\":\"New Toronto\",\"lon\":[-79.51035809],\"marker\":{\"color\":\"#FFA15A\",\"size\":[407812.0],\"sizemode\":\"area\",\"sizeref\":3816.214375},\"mode\":\"markers\",\"name\":\"New Toronto\",\"showlegend\":true,\"subplot\":\"mapbox\",\"type\":\"scattermapbox\"},{\"hovertemplate\":\"neighbourhood=Newtonbrook East<br>average_house_value=%{marker.size}<br>lat=%{lat}<br>lon=%{lon}<extra></extra>\",\"lat\":[43.79153579],\"legendgroup\":\"Newtonbrook East\",\"lon\":[-79.40593745],\"marker\":{\"color\":\"#19d3f3\",\"size\":[559573.25],\"sizemode\":\"area\",\"sizeref\":3816.214375},\"mode\":\"markers\",\"name\":\"Newtonbrook East\",\"showlegend\":true,\"subplot\":\"mapbox\",\"type\":\"scattermapbox\"},{\"hovertemplate\":\"neighbourhood=Newtonbrook West<br>average_house_value=%{marker.size}<br>lat=%{lat}<br>lon=%{lon}<extra></extra>\",\"lat\":[43.78582994],\"legendgroup\":\"Newtonbrook West\",\"lon\":[-79.43142151],\"marker\":{\"color\":\"#FF6692\",\"size\":[460568.5],\"sizemode\":\"area\",\"sizeref\":3816.214375},\"mode\":\"markers\",\"name\":\"Newtonbrook West\",\"showlegend\":true,\"subplot\":\"mapbox\",\"type\":\"scattermapbox\"},{\"hovertemplate\":\"neighbourhood=Niagara<br>average_house_value=%{marker.size}<br>lat=%{lat}<br>lon=%{lon}<extra></extra>\",\"lat\":[43.63668088],\"legendgroup\":\"Niagara\",\"lon\":[-79.4124204],\"marker\":{\"color\":\"#B6E880\",\"size\":[369993.0],\"sizemode\":\"area\",\"sizeref\":3816.214375},\"mode\":\"markers\",\"name\":\"Niagara\",\"showlegend\":true,\"subplot\":\"mapbox\",\"type\":\"scattermapbox\"},{\"hovertemplate\":\"neighbourhood=North Riverdale<br>average_house_value=%{marker.size}<br>lat=%{lat}<br>lon=%{lon}<extra></extra>\",\"lat\":[43.67199515],\"legendgroup\":\"North Riverdale\",\"lon\":[-79.35126041],\"marker\":{\"color\":\"#FF97FF\",\"size\":[703063.25],\"sizemode\":\"area\",\"sizeref\":3816.214375},\"mode\":\"markers\",\"name\":\"North Riverdale\",\"showlegend\":true,\"subplot\":\"mapbox\",\"type\":\"scattermapbox\"},{\"hovertemplate\":\"neighbourhood=North St.James Town<br>average_house_value=%{marker.size}<br>lat=%{lat}<br>lon=%{lon}<extra></extra>\",\"lat\":[43.66962341],\"legendgroup\":\"North St.James Town\",\"lon\":[-79.37524658],\"marker\":{\"color\":\"#FECB52\",\"size\":[411455.75],\"sizemode\":\"area\",\"sizeref\":3816.214375},\"mode\":\"markers\",\"name\":\"North St.James Town\",\"showlegend\":true,\"subplot\":\"mapbox\",\"type\":\"scattermapbox\"},{\"hovertemplate\":\"neighbourhood=O'Connor-Parkview<br>average_house_value=%{marker.size}<br>lat=%{lat}<br>lon=%{lon}<extra></extra>\",\"lat\":[43.70680049],\"legendgroup\":\"O'Connor-Parkview\",\"lon\":[-79.31222777],\"marker\":{\"color\":\"#636efa\",\"size\":[298315.75],\"sizemode\":\"area\",\"sizeref\":3816.214375},\"mode\":\"markers\",\"name\":\"O'Connor-Parkview\",\"showlegend\":true,\"subplot\":\"mapbox\",\"type\":\"scattermapbox\"},{\"hovertemplate\":\"neighbourhood=Oakridge<br>average_house_value=%{marker.size}<br>lat=%{lat}<br>lon=%{lon}<extra></extra>\",\"lat\":[43.69740813],\"legendgroup\":\"Oakridge\",\"lon\":[-79.27970834],\"marker\":{\"color\":\"#EF553B\",\"size\":[422257.5],\"sizemode\":\"area\",\"sizeref\":3816.214375},\"mode\":\"markers\",\"name\":\"Oakridge\",\"showlegend\":true,\"subplot\":\"mapbox\",\"type\":\"scattermapbox\"},{\"hovertemplate\":\"neighbourhood=Oakwood Village<br>average_house_value=%{marker.size}<br>lat=%{lat}<br>lon=%{lon}<extra></extra>\",\"lat\":[43.68856556],\"legendgroup\":\"Oakwood Village\",\"lon\":[-79.43978548],\"marker\":{\"color\":\"#00cc96\",\"size\":[441202.75],\"sizemode\":\"area\",\"sizeref\":3816.214375},\"mode\":\"markers\",\"name\":\"Oakwood Village\",\"showlegend\":true,\"subplot\":\"mapbox\",\"type\":\"scattermapbox\"},{\"hovertemplate\":\"neighbourhood=Old East York<br>average_house_value=%{marker.size}<br>lat=%{lat}<br>lon=%{lon}<extra></extra>\",\"lat\":[43.69678127],\"legendgroup\":\"Old East York\",\"lon\":[-79.33548836],\"marker\":{\"color\":\"#ab63fa\",\"size\":[443413.5],\"sizemode\":\"area\",\"sizeref\":3816.214375},\"mode\":\"markers\",\"name\":\"Old East York\",\"showlegend\":true,\"subplot\":\"mapbox\",\"type\":\"scattermapbox\"},{\"hovertemplate\":\"neighbourhood=Palmerston-Little Italy<br>average_house_value=%{marker.size}<br>lat=%{lat}<br>lon=%{lon}<extra></extra>\",\"lat\":[43.6591571],\"legendgroup\":\"Palmerston-Little Italy\",\"lon\":[-79.41840873],\"marker\":{\"color\":\"#FFA15A\",\"size\":[622191.75],\"sizemode\":\"area\",\"sizeref\":3816.214375},\"mode\":\"markers\",\"name\":\"Palmerston-Little Italy\",\"showlegend\":true,\"subplot\":\"mapbox\",\"type\":\"scattermapbox\"},{\"hovertemplate\":\"neighbourhood=Parkwoods-Donalda<br>average_house_value=%{marker.size}<br>lat=%{lat}<br>lon=%{lon}<extra></extra>\",\"lat\":[43.75503347],\"legendgroup\":\"Parkwoods-Donalda\",\"lon\":[-79.33017952],\"marker\":{\"color\":\"#19d3f3\",\"size\":[454652.5],\"sizemode\":\"area\",\"sizeref\":3816.214375},\"mode\":\"markers\",\"name\":\"Parkwoods-Donalda\",\"showlegend\":true,\"subplot\":\"mapbox\",\"type\":\"scattermapbox\"},{\"hovertemplate\":\"neighbourhood=Pelmo Park-Humberlea<br>average_house_value=%{marker.size}<br>lat=%{lat}<br>lon=%{lon}<extra></extra>\",\"lat\":[43.7175146],\"legendgroup\":\"Pelmo Park-Humberlea\",\"lon\":[-79.5282822],\"marker\":{\"color\":\"#FF6692\",\"size\":[405431.25],\"sizemode\":\"area\",\"sizeref\":3816.214375},\"mode\":\"markers\",\"name\":\"Pelmo Park-Humberlea\",\"showlegend\":true,\"subplot\":\"mapbox\",\"type\":\"scattermapbox\"},{\"hovertemplate\":\"neighbourhood=Playter Estates-Danforth<br>average_house_value=%{marker.size}<br>lat=%{lat}<br>lon=%{lon}<extra></extra>\",\"lat\":[43.67970047],\"legendgroup\":\"Playter Estates-Danforth\",\"lon\":[-79.35488729],\"marker\":{\"color\":\"#B6E880\",\"size\":[648859.25],\"sizemode\":\"area\",\"sizeref\":3816.214375},\"mode\":\"markers\",\"name\":\"Playter Estates-Danforth\",\"showlegend\":true,\"subplot\":\"mapbox\",\"type\":\"scattermapbox\"},{\"hovertemplate\":\"neighbourhood=Pleasant View<br>average_house_value=%{marker.size}<br>lat=%{lat}<br>lon=%{lon}<extra></extra>\",\"lat\":[43.78698176],\"legendgroup\":\"Pleasant View\",\"lon\":[-79.33494843],\"marker\":{\"color\":\"#FF97FF\",\"size\":[373375.25],\"sizemode\":\"area\",\"sizeref\":3816.214375},\"mode\":\"markers\",\"name\":\"Pleasant View\",\"showlegend\":true,\"subplot\":\"mapbox\",\"type\":\"scattermapbox\"},{\"hovertemplate\":\"neighbourhood=Princess-Rosethorn<br>average_house_value=%{marker.size}<br>lat=%{lat}<br>lon=%{lon}<extra></extra>\",\"lat\":[43.6660506],\"legendgroup\":\"Princess-Rosethorn\",\"lon\":[-79.54455929],\"marker\":{\"color\":\"#FECB52\",\"size\":[765746.5],\"sizemode\":\"area\",\"sizeref\":3816.214375},\"mode\":\"markers\",\"name\":\"Princess-Rosethorn\",\"showlegend\":true,\"subplot\":\"mapbox\",\"type\":\"scattermapbox\"},{\"hovertemplate\":\"neighbourhood=Regent Park<br>average_house_value=%{marker.size}<br>lat=%{lat}<br>lon=%{lon}<extra></extra>\",\"lat\":[43.65999214],\"legendgroup\":\"Regent Park\",\"lon\":[-79.36050881],\"marker\":{\"color\":\"#636efa\",\"size\":[392578.25],\"sizemode\":\"area\",\"sizeref\":3816.214375},\"mode\":\"markers\",\"name\":\"Regent Park\",\"showlegend\":true,\"subplot\":\"mapbox\",\"type\":\"scattermapbox\"},{\"hovertemplate\":\"neighbourhood=Rexdale-Kipling<br>average_house_value=%{marker.size}<br>lat=%{lat}<br>lon=%{lon}<extra></extra>\",\"lat\":[43.72372548],\"legendgroup\":\"Rexdale-Kipling\",\"lon\":[-79.56622841],\"marker\":{\"color\":\"#EF553B\",\"size\":[360999.25],\"sizemode\":\"area\",\"sizeref\":3816.214375},\"mode\":\"markers\",\"name\":\"Rexdale-Kipling\",\"showlegend\":true,\"subplot\":\"mapbox\",\"type\":\"scattermapbox\"},{\"hovertemplate\":\"neighbourhood=Rockcliffe-Smythe<br>average_house_value=%{marker.size}<br>lat=%{lat}<br>lon=%{lon}<extra></extra>\",\"lat\":[43.67479045],\"legendgroup\":\"Rockcliffe-Smythe\",\"lon\":[-79.49442045],\"marker\":{\"color\":\"#00cc96\",\"size\":[345660.25],\"sizemode\":\"area\",\"sizeref\":3816.214375},\"mode\":\"markers\",\"name\":\"Rockcliffe-Smythe\",\"showlegend\":true,\"subplot\":\"mapbox\",\"type\":\"scattermapbox\"},{\"hovertemplate\":\"neighbourhood=Roncesvalles<br>average_house_value=%{marker.size}<br>lat=%{lat}<br>lon=%{lon}<extra></extra>\",\"lat\":[43.64612299],\"legendgroup\":\"Roncesvalles\",\"lon\":[-79.44299245],\"marker\":{\"color\":\"#ab63fa\",\"size\":[508937.25],\"sizemode\":\"area\",\"sizeref\":3816.214375},\"mode\":\"markers\",\"name\":\"Roncesvalles\",\"showlegend\":true,\"subplot\":\"mapbox\",\"type\":\"scattermapbox\"},{\"hovertemplate\":\"neighbourhood=Rosedale-Moore Park<br>average_house_value=%{marker.size}<br>lat=%{lat}<br>lon=%{lon}<extra></extra>\",\"lat\":[43.68282043],\"legendgroup\":\"Rosedale-Moore Park\",\"lon\":[-79.3796694],\"marker\":{\"color\":\"#FFA15A\",\"size\":[1093640.0],\"sizemode\":\"area\",\"sizeref\":3816.214375},\"mode\":\"markers\",\"name\":\"Rosedale-Moore Park\",\"showlegend\":true,\"subplot\":\"mapbox\",\"type\":\"scattermapbox\"},{\"hovertemplate\":\"neighbourhood=Rouge<br>average_house_value=%{marker.size}<br>lat=%{lat}<br>lon=%{lon}<extra></extra>\",\"lat\":[43.82120126],\"legendgroup\":\"Rouge\",\"lon\":[-79.18634345],\"marker\":{\"color\":\"#19d3f3\",\"size\":[376286.75],\"sizemode\":\"area\",\"sizeref\":3816.214375},\"mode\":\"markers\",\"name\":\"Rouge\",\"showlegend\":true,\"subplot\":\"mapbox\",\"type\":\"scattermapbox\"},{\"hovertemplate\":\"neighbourhood=Runnymede-Bloor West Village<br>average_house_value=%{marker.size}<br>lat=%{lat}<br>lon=%{lon}<extra></extra>\",\"lat\":[43.65926882],\"legendgroup\":\"Runnymede-Bloor West Village\",\"lon\":[-79.48570818],\"marker\":{\"color\":\"#FF6692\",\"size\":[552082.0],\"sizemode\":\"area\",\"sizeref\":3816.214375},\"mode\":\"markers\",\"name\":\"Runnymede-Bloor West Village\",\"showlegend\":true,\"subplot\":\"mapbox\",\"type\":\"scattermapbox\"},{\"hovertemplate\":\"neighbourhood=Rustic<br>average_house_value=%{marker.size}<br>lat=%{lat}<br>lon=%{lon}<extra></extra>\",\"lat\":[43.71160912],\"legendgroup\":\"Rustic\",\"lon\":[-79.49809147],\"marker\":{\"color\":\"#B6E880\",\"size\":[431090.5],\"sizemode\":\"area\",\"sizeref\":3816.214375},\"mode\":\"markers\",\"name\":\"Rustic\",\"showlegend\":true,\"subplot\":\"mapbox\",\"type\":\"scattermapbox\"},{\"hovertemplate\":\"neighbourhood=Scarborough Village<br>average_house_value=%{marker.size}<br>lat=%{lat}<br>lon=%{lon}<extra></extra>\",\"lat\":[43.73865186],\"legendgroup\":\"Scarborough Village\",\"lon\":[-79.21681262],\"marker\":{\"color\":\"#FF97FF\",\"size\":[329835.75],\"sizemode\":\"area\",\"sizeref\":3816.214375},\"mode\":\"markers\",\"name\":\"Scarborough Village\",\"showlegend\":true,\"subplot\":\"mapbox\",\"type\":\"scattermapbox\"},{\"hovertemplate\":\"neighbourhood=South Parkdale<br>average_house_value=%{marker.size}<br>lat=%{lat}<br>lon=%{lon}<extra></extra>\",\"lat\":[43.63669952],\"legendgroup\":\"South Parkdale\",\"lon\":[-79.43933783],\"marker\":{\"color\":\"#FECB52\",\"size\":[447478.5],\"sizemode\":\"area\",\"sizeref\":3816.214375},\"mode\":\"markers\",\"name\":\"South Parkdale\",\"showlegend\":true,\"subplot\":\"mapbox\",\"type\":\"scattermapbox\"},{\"hovertemplate\":\"neighbourhood=South Riverdale<br>average_house_value=%{marker.size}<br>lat=%{lat}<br>lon=%{lon}<extra></extra>\",\"lat\":[43.64929206],\"legendgroup\":\"South Riverdale\",\"lon\":[-79.33565132],\"marker\":{\"color\":\"#636efa\",\"size\":[455020.5],\"sizemode\":\"area\",\"sizeref\":3816.214375},\"mode\":\"markers\",\"name\":\"South Riverdale\",\"showlegend\":true,\"subplot\":\"mapbox\",\"type\":\"scattermapbox\"},{\"hovertemplate\":\"neighbourhood=St.Andrew-Windfields<br>average_house_value=%{marker.size}<br>lat=%{lat}<br>lon=%{lon}<extra></extra>\",\"lat\":[43.75624583],\"legendgroup\":\"St.Andrew-Windfields\",\"lon\":[-79.37903709],\"marker\":{\"color\":\"#EF553B\",\"size\":[999107.0],\"sizemode\":\"area\",\"sizeref\":3816.214375},\"mode\":\"markers\",\"name\":\"St.Andrew-Windfields\",\"showlegend\":true,\"subplot\":\"mapbox\",\"type\":\"scattermapbox\"},{\"hovertemplate\":\"neighbourhood=Steeles<br>average_house_value=%{marker.size}<br>lat=%{lat}<br>lon=%{lon}<extra></extra>\",\"lat\":[43.81295883],\"legendgroup\":\"Steeles\",\"lon\":[-79.32120701],\"marker\":{\"color\":\"#00cc96\",\"size\":[376014.5],\"sizemode\":\"area\",\"sizeref\":3816.214375},\"mode\":\"markers\",\"name\":\"Steeles\",\"showlegend\":true,\"subplot\":\"mapbox\",\"type\":\"scattermapbox\"},{\"hovertemplate\":\"neighbourhood=Stonegate-Queensway<br>average_house_value=%{marker.size}<br>lat=%{lat}<br>lon=%{lon}<extra></extra>\",\"lat\":[43.63551813],\"legendgroup\":\"Stonegate-Queensway\",\"lon\":[-79.50112821],\"marker\":{\"color\":\"#ab63fa\",\"size\":[550432.25],\"sizemode\":\"area\",\"sizeref\":3816.214375},\"mode\":\"markers\",\"name\":\"Stonegate-Queensway\",\"showlegend\":true,\"subplot\":\"mapbox\",\"type\":\"scattermapbox\"},{\"hovertemplate\":\"neighbourhood=Tam O'Shanter-Sullivan<br>average_house_value=%{marker.size}<br>lat=%{lat}<br>lon=%{lon}<extra></extra>\",\"lat\":[43.78012985],\"legendgroup\":\"Tam O'Shanter-Sullivan\",\"lon\":[-79.30291871],\"marker\":{\"color\":\"#FFA15A\",\"size\":[353926.5],\"sizemode\":\"area\",\"sizeref\":3816.214375},\"mode\":\"markers\",\"name\":\"Tam O'Shanter-Sullivan\",\"showlegend\":true,\"subplot\":\"mapbox\",\"type\":\"scattermapbox\"},{\"hovertemplate\":\"neighbourhood=Taylor-Massey<br>average_house_value=%{marker.size}<br>lat=%{lat}<br>lon=%{lon}<extra></extra>\",\"lat\":[43.69499819],\"legendgroup\":\"Taylor-Massey\",\"lon\":[-79.29590112],\"marker\":{\"color\":\"#19d3f3\",\"size\":[239414.0],\"sizemode\":\"area\",\"sizeref\":3816.214375},\"mode\":\"markers\",\"name\":\"Taylor-Massey\",\"showlegend\":true,\"subplot\":\"mapbox\",\"type\":\"scattermapbox\"},{\"hovertemplate\":\"neighbourhood=The Beaches<br>average_house_value=%{marker.size}<br>lat=%{lat}<br>lon=%{lon}<extra></extra>\",\"lat\":[43.67104999],\"legendgroup\":\"The Beaches\",\"lon\":[-79.2996013],\"marker\":{\"color\":\"#FF6692\",\"size\":[666306.0],\"sizemode\":\"area\",\"sizeref\":3816.214375},\"mode\":\"markers\",\"name\":\"The Beaches\",\"showlegend\":true,\"subplot\":\"mapbox\",\"type\":\"scattermapbox\"},{\"hovertemplate\":\"neighbourhood=Thistletown-Beaumond Heights<br>average_house_value=%{marker.size}<br>lat=%{lat}<br>lon=%{lon}<extra></extra>\",\"lat\":[43.73798792],\"legendgroup\":\"Thistletown-Beaumond Heights\",\"lon\":[-79.56349102],\"marker\":{\"color\":\"#B6E880\",\"size\":[375864.0],\"sizemode\":\"area\",\"sizeref\":3816.214375},\"mode\":\"markers\",\"name\":\"Thistletown-Beaumond Heights\",\"showlegend\":true,\"subplot\":\"mapbox\",\"type\":\"scattermapbox\"},{\"hovertemplate\":\"neighbourhood=Thorncliffe Park<br>average_house_value=%{marker.size}<br>lat=%{lat}<br>lon=%{lon}<extra></extra>\",\"lat\":[43.70774921],\"legendgroup\":\"Thorncliffe Park\",\"lon\":[-79.34998361],\"marker\":{\"color\":\"#FF97FF\",\"size\":[255264.75],\"sizemode\":\"area\",\"sizeref\":3816.214375},\"mode\":\"markers\",\"name\":\"Thorncliffe Park\",\"showlegend\":true,\"subplot\":\"mapbox\",\"type\":\"scattermapbox\"},{\"hovertemplate\":\"neighbourhood=Trinity-Bellwoods<br>average_house_value=%{marker.size}<br>lat=%{lat}<br>lon=%{lon}<extra></extra>\",\"lat\":[43.6501763],\"legendgroup\":\"Trinity-Bellwoods\",\"lon\":[-79.41534216],\"marker\":{\"color\":\"#FECB52\",\"size\":[534465.75],\"sizemode\":\"area\",\"sizeref\":3816.214375},\"mode\":\"markers\",\"name\":\"Trinity-Bellwoods\",\"showlegend\":true,\"subplot\":\"mapbox\",\"type\":\"scattermapbox\"},{\"hovertemplate\":\"neighbourhood=University<br>average_house_value=%{marker.size}<br>lat=%{lat}<br>lon=%{lon}<extra></extra>\",\"lat\":[43.6625062],\"legendgroup\":\"University\",\"lon\":[-79.40117975],\"marker\":{\"color\":\"#636efa\",\"size\":[618316.75],\"sizemode\":\"area\",\"sizeref\":3816.214375},\"mode\":\"markers\",\"name\":\"University\",\"showlegend\":true,\"subplot\":\"mapbox\",\"type\":\"scattermapbox\"},{\"hovertemplate\":\"neighbourhood=Victoria Village<br>average_house_value=%{marker.size}<br>lat=%{lat}<br>lon=%{lon}<extra></extra>\",\"lat\":[43.72848902],\"legendgroup\":\"Victoria Village\",\"lon\":[-79.31487383],\"marker\":{\"color\":\"#EF553B\",\"size\":[352133.0],\"sizemode\":\"area\",\"sizeref\":3816.214375},\"mode\":\"markers\",\"name\":\"Victoria Village\",\"showlegend\":true,\"subplot\":\"mapbox\",\"type\":\"scattermapbox\"},{\"hovertemplate\":\"neighbourhood=Waterfront Communities-The Island<br>average_house_value=%{marker.size}<br>lat=%{lat}<br>lon=%{lon}<extra></extra>\",\"lat\":[43.63388036],\"legendgroup\":\"Waterfront Communities-The Island\",\"lon\":[-79.37720231],\"marker\":{\"color\":\"#00cc96\",\"size\":[376863.0],\"sizemode\":\"area\",\"sizeref\":3816.214375},\"mode\":\"markers\",\"name\":\"Waterfront Communities-The Island\",\"showlegend\":true,\"subplot\":\"mapbox\",\"type\":\"scattermapbox\"},{\"hovertemplate\":\"neighbourhood=West Hill<br>average_house_value=%{marker.size}<br>lat=%{lat}<br>lon=%{lon}<extra></extra>\",\"lat\":[43.76749026],\"legendgroup\":\"West Hill\",\"lon\":[-79.17667603],\"marker\":{\"color\":\"#ab63fa\",\"size\":[284647.5],\"sizemode\":\"area\",\"sizeref\":3816.214375},\"mode\":\"markers\",\"name\":\"West Hill\",\"showlegend\":true,\"subplot\":\"mapbox\",\"type\":\"scattermapbox\"},{\"hovertemplate\":\"neighbourhood=West Humber-Clairville<br>average_house_value=%{marker.size}<br>lat=%{lat}<br>lon=%{lon}<extra></extra>\",\"lat\":[43.7161804],\"legendgroup\":\"West Humber-Clairville\",\"lon\":[-79.59635645],\"marker\":{\"color\":\"#FFA15A\",\"size\":[343254.25],\"sizemode\":\"area\",\"sizeref\":3816.214375},\"mode\":\"markers\",\"name\":\"West Humber-Clairville\",\"showlegend\":true,\"subplot\":\"mapbox\",\"type\":\"scattermapbox\"},{\"hovertemplate\":\"neighbourhood=Westminster-Branson<br>average_house_value=%{marker.size}<br>lat=%{lat}<br>lon=%{lon}<extra></extra>\",\"lat\":[43.77881322],\"legendgroup\":\"Westminster-Branson\",\"lon\":[-79.45241823],\"marker\":{\"color\":\"#19d3f3\",\"size\":[349320.25],\"sizemode\":\"area\",\"sizeref\":3816.214375},\"mode\":\"markers\",\"name\":\"Westminster-Branson\",\"showlegend\":true,\"subplot\":\"mapbox\",\"type\":\"scattermapbox\"},{\"hovertemplate\":\"neighbourhood=Weston<br>average_house_value=%{marker.size}<br>lat=%{lat}<br>lon=%{lon}<extra></extra>\",\"lat\":[43.70271605],\"legendgroup\":\"Weston\",\"lon\":[-79.51572255],\"marker\":{\"color\":\"#FF6692\",\"size\":[308007.75],\"sizemode\":\"area\",\"sizeref\":3816.214375},\"mode\":\"markers\",\"name\":\"Weston\",\"showlegend\":true,\"subplot\":\"mapbox\",\"type\":\"scattermapbox\"},{\"hovertemplate\":\"neighbourhood=Weston-Pellam Park<br>average_house_value=%{marker.size}<br>lat=%{lat}<br>lon=%{lon}<extra></extra>\",\"lat\":[43.67396204],\"legendgroup\":\"Weston-Pellam Park\",\"lon\":[-79.46024391],\"marker\":{\"color\":\"#B6E880\",\"size\":[351802.0],\"sizemode\":\"area\",\"sizeref\":3816.214375},\"mode\":\"markers\",\"name\":\"Weston-Pellam Park\",\"showlegend\":true,\"subplot\":\"mapbox\",\"type\":\"scattermapbox\"},{\"hovertemplate\":\"neighbourhood=Wexford/Maryvale<br>average_house_value=%{marker.size}<br>lat=%{lat}<br>lon=%{lon}<extra></extra>\",\"lat\":[43.74857214],\"legendgroup\":\"Wexford/Maryvale\",\"lon\":[-79.29863657],\"marker\":{\"color\":\"#FF97FF\",\"size\":[348319.25],\"sizemode\":\"area\",\"sizeref\":3816.214375},\"mode\":\"markers\",\"name\":\"Wexford/Maryvale\",\"showlegend\":true,\"subplot\":\"mapbox\",\"type\":\"scattermapbox\"},{\"hovertemplate\":\"neighbourhood=Willowdale East<br>average_house_value=%{marker.size}<br>lat=%{lat}<br>lon=%{lon}<extra></extra>\",\"lat\":[43.77060226],\"legendgroup\":\"Willowdale East\",\"lon\":[-79.40148379],\"marker\":{\"color\":\"#FECB52\",\"size\":[469045.5],\"sizemode\":\"area\",\"sizeref\":3816.214375},\"mode\":\"markers\",\"name\":\"Willowdale East\",\"showlegend\":true,\"subplot\":\"mapbox\",\"type\":\"scattermapbox\"},{\"hovertemplate\":\"neighbourhood=Willowdale West<br>average_house_value=%{marker.size}<br>lat=%{lat}<br>lon=%{lon}<extra></extra>\",\"lat\":[43.77121049],\"legendgroup\":\"Willowdale West\",\"lon\":[-79.4275578],\"marker\":{\"color\":\"#636efa\",\"size\":[466134.75],\"sizemode\":\"area\",\"sizeref\":3816.214375},\"mode\":\"markers\",\"name\":\"Willowdale West\",\"showlegend\":true,\"subplot\":\"mapbox\",\"type\":\"scattermapbox\"},{\"hovertemplate\":\"neighbourhood=Willowridge-Martingrove-Richview<br>average_house_value=%{marker.size}<br>lat=%{lat}<br>lon=%{lon}<extra></extra>\",\"lat\":[43.68364496],\"legendgroup\":\"Willowridge-Martingrove-Richview\",\"lon\":[-79.55422105],\"marker\":{\"color\":\"#EF553B\",\"size\":[464278.0],\"sizemode\":\"area\",\"sizeref\":3816.214375},\"mode\":\"markers\",\"name\":\"Willowridge-Martingrove-Richview\",\"showlegend\":true,\"subplot\":\"mapbox\",\"type\":\"scattermapbox\"},{\"hovertemplate\":\"neighbourhood=Woburn<br>average_house_value=%{marker.size}<br>lat=%{lat}<br>lon=%{lon}<extra></extra>\",\"lat\":[43.76674024],\"legendgroup\":\"Woburn\",\"lon\":[-79.22858577],\"marker\":{\"color\":\"#00cc96\",\"size\":[298505.75],\"sizemode\":\"area\",\"sizeref\":3816.214375},\"mode\":\"markers\",\"name\":\"Woburn\",\"showlegend\":true,\"subplot\":\"mapbox\",\"type\":\"scattermapbox\"},{\"hovertemplate\":\"neighbourhood=Woodbine Corridor<br>average_house_value=%{marker.size}<br>lat=%{lat}<br>lon=%{lon}<extra></extra>\",\"lat\":[43.67677292],\"legendgroup\":\"Woodbine Corridor\",\"lon\":[-79.31540738],\"marker\":{\"color\":\"#ab63fa\",\"size\":[445382.75],\"sizemode\":\"area\",\"sizeref\":3816.214375},\"mode\":\"markers\",\"name\":\"Woodbine Corridor\",\"showlegend\":true,\"subplot\":\"mapbox\",\"type\":\"scattermapbox\"},{\"hovertemplate\":\"neighbourhood=Woodbine-Lumsden<br>average_house_value=%{marker.size}<br>lat=%{lat}<br>lon=%{lon}<extra></extra>\",\"lat\":[43.69410674],\"legendgroup\":\"Woodbine-Lumsden\",\"lon\":[-79.31116353],\"marker\":{\"color\":\"#FFA15A\",\"size\":[369918.5],\"sizemode\":\"area\",\"sizeref\":3816.214375},\"mode\":\"markers\",\"name\":\"Woodbine-Lumsden\",\"showlegend\":true,\"subplot\":\"mapbox\",\"type\":\"scattermapbox\"},{\"hovertemplate\":\"neighbourhood=Wychwood<br>average_house_value=%{marker.size}<br>lat=%{lat}<br>lon=%{lon}<extra></extra>\",\"lat\":[43.67691927],\"legendgroup\":\"Wychwood\",\"lon\":[-79.42551495],\"marker\":{\"color\":\"#19d3f3\",\"size\":[565976.5],\"sizemode\":\"area\",\"sizeref\":3816.214375},\"mode\":\"markers\",\"name\":\"Wychwood\",\"showlegend\":true,\"subplot\":\"mapbox\",\"type\":\"scattermapbox\"},{\"hovertemplate\":\"neighbourhood=Yonge-Eglinton<br>average_house_value=%{marker.size}<br>lat=%{lat}<br>lon=%{lon}<extra></extra>\",\"lat\":[43.70468937],\"legendgroup\":\"Yonge-Eglinton\",\"lon\":[-79.40359017],\"marker\":{\"color\":\"#FF6692\",\"size\":[809745.75],\"sizemode\":\"area\",\"sizeref\":3816.214375},\"mode\":\"markers\",\"name\":\"Yonge-Eglinton\",\"showlegend\":true,\"subplot\":\"mapbox\",\"type\":\"scattermapbox\"},{\"hovertemplate\":\"neighbourhood=Yonge-St.Clair<br>average_house_value=%{marker.size}<br>lat=%{lat}<br>lon=%{lon}<extra></extra>\",\"lat\":[43.68785887],\"legendgroup\":\"Yonge-St.Clair\",\"lon\":[-79.39787077],\"marker\":{\"color\":\"#B6E880\",\"size\":[813220.25],\"sizemode\":\"area\",\"sizeref\":3816.214375},\"mode\":\"markers\",\"name\":\"Yonge-St.Clair\",\"showlegend\":true,\"subplot\":\"mapbox\",\"type\":\"scattermapbox\"},{\"hovertemplate\":\"neighbourhood=York University Heights<br>average_house_value=%{marker.size}<br>lat=%{lat}<br>lon=%{lon}<extra></extra>\",\"lat\":[43.76573649],\"legendgroup\":\"York University Heights\",\"lon\":[-79.48888293],\"marker\":{\"color\":\"#FF97FF\",\"size\":[305899.5],\"sizemode\":\"area\",\"sizeref\":3816.214375},\"mode\":\"markers\",\"name\":\"York University Heights\",\"showlegend\":true,\"subplot\":\"mapbox\",\"type\":\"scattermapbox\"},{\"hovertemplate\":\"neighbourhood=Yorkdale-Glen Park<br>average_house_value=%{marker.size}<br>lat=%{lat}<br>lon=%{lon}<extra></extra>\",\"lat\":[43.71467153],\"legendgroup\":\"Yorkdale-Glen Park\",\"lon\":[-79.45710807],\"marker\":{\"color\":\"#FECB52\",\"size\":[430861.25],\"sizemode\":\"area\",\"sizeref\":3816.214375},\"mode\":\"markers\",\"name\":\"Yorkdale-Glen Park\",\"showlegend\":true,\"subplot\":\"mapbox\",\"type\":\"scattermapbox\"}],                        {\"template\":{\"data\":{\"bar\":[{\"error_x\":{\"color\":\"#2a3f5f\"},\"error_y\":{\"color\":\"#2a3f5f\"},\"marker\":{\"line\":{\"color\":\"#E5ECF6\",\"width\":0.5},\"pattern\":{\"fillmode\":\"overlay\",\"size\":10,\"solidity\":0.2}},\"type\":\"bar\"}],\"barpolar\":[{\"marker\":{\"line\":{\"color\":\"#E5ECF6\",\"width\":0.5},\"pattern\":{\"fillmode\":\"overlay\",\"size\":10,\"solidity\":0.2}},\"type\":\"barpolar\"}],\"carpet\":[{\"aaxis\":{\"endlinecolor\":\"#2a3f5f\",\"gridcolor\":\"white\",\"linecolor\":\"white\",\"minorgridcolor\":\"white\",\"startlinecolor\":\"#2a3f5f\"},\"baxis\":{\"endlinecolor\":\"#2a3f5f\",\"gridcolor\":\"white\",\"linecolor\":\"white\",\"minorgridcolor\":\"white\",\"startlinecolor\":\"#2a3f5f\"},\"type\":\"carpet\"}],\"choropleth\":[{\"colorbar\":{\"outlinewidth\":0,\"ticks\":\"\"},\"type\":\"choropleth\"}],\"contour\":[{\"colorbar\":{\"outlinewidth\":0,\"ticks\":\"\"},\"colorscale\":[[0.0,\"#0d0887\"],[0.1111111111111111,\"#46039f\"],[0.2222222222222222,\"#7201a8\"],[0.3333333333333333,\"#9c179e\"],[0.4444444444444444,\"#bd3786\"],[0.5555555555555556,\"#d8576b\"],[0.6666666666666666,\"#ed7953\"],[0.7777777777777778,\"#fb9f3a\"],[0.8888888888888888,\"#fdca26\"],[1.0,\"#f0f921\"]],\"type\":\"contour\"}],\"contourcarpet\":[{\"colorbar\":{\"outlinewidth\":0,\"ticks\":\"\"},\"type\":\"contourcarpet\"}],\"heatmap\":[{\"colorbar\":{\"outlinewidth\":0,\"ticks\":\"\"},\"colorscale\":[[0.0,\"#0d0887\"],[0.1111111111111111,\"#46039f\"],[0.2222222222222222,\"#7201a8\"],[0.3333333333333333,\"#9c179e\"],[0.4444444444444444,\"#bd3786\"],[0.5555555555555556,\"#d8576b\"],[0.6666666666666666,\"#ed7953\"],[0.7777777777777778,\"#fb9f3a\"],[0.8888888888888888,\"#fdca26\"],[1.0,\"#f0f921\"]],\"type\":\"heatmap\"}],\"heatmapgl\":[{\"colorbar\":{\"outlinewidth\":0,\"ticks\":\"\"},\"colorscale\":[[0.0,\"#0d0887\"],[0.1111111111111111,\"#46039f\"],[0.2222222222222222,\"#7201a8\"],[0.3333333333333333,\"#9c179e\"],[0.4444444444444444,\"#bd3786\"],[0.5555555555555556,\"#d8576b\"],[0.6666666666666666,\"#ed7953\"],[0.7777777777777778,\"#fb9f3a\"],[0.8888888888888888,\"#fdca26\"],[1.0,\"#f0f921\"]],\"type\":\"heatmapgl\"}],\"histogram\":[{\"marker\":{\"pattern\":{\"fillmode\":\"overlay\",\"size\":10,\"solidity\":0.2}},\"type\":\"histogram\"}],\"histogram2d\":[{\"colorbar\":{\"outlinewidth\":0,\"ticks\":\"\"},\"colorscale\":[[0.0,\"#0d0887\"],[0.1111111111111111,\"#46039f\"],[0.2222222222222222,\"#7201a8\"],[0.3333333333333333,\"#9c179e\"],[0.4444444444444444,\"#bd3786\"],[0.5555555555555556,\"#d8576b\"],[0.6666666666666666,\"#ed7953\"],[0.7777777777777778,\"#fb9f3a\"],[0.8888888888888888,\"#fdca26\"],[1.0,\"#f0f921\"]],\"type\":\"histogram2d\"}],\"histogram2dcontour\":[{\"colorbar\":{\"outlinewidth\":0,\"ticks\":\"\"},\"colorscale\":[[0.0,\"#0d0887\"],[0.1111111111111111,\"#46039f\"],[0.2222222222222222,\"#7201a8\"],[0.3333333333333333,\"#9c179e\"],[0.4444444444444444,\"#bd3786\"],[0.5555555555555556,\"#d8576b\"],[0.6666666666666666,\"#ed7953\"],[0.7777777777777778,\"#fb9f3a\"],[0.8888888888888888,\"#fdca26\"],[1.0,\"#f0f921\"]],\"type\":\"histogram2dcontour\"}],\"mesh3d\":[{\"colorbar\":{\"outlinewidth\":0,\"ticks\":\"\"},\"type\":\"mesh3d\"}],\"parcoords\":[{\"line\":{\"colorbar\":{\"outlinewidth\":0,\"ticks\":\"\"}},\"type\":\"parcoords\"}],\"pie\":[{\"automargin\":true,\"type\":\"pie\"}],\"scatter\":[{\"marker\":{\"colorbar\":{\"outlinewidth\":0,\"ticks\":\"\"}},\"type\":\"scatter\"}],\"scatter3d\":[{\"line\":{\"colorbar\":{\"outlinewidth\":0,\"ticks\":\"\"}},\"marker\":{\"colorbar\":{\"outlinewidth\":0,\"ticks\":\"\"}},\"type\":\"scatter3d\"}],\"scattercarpet\":[{\"marker\":{\"colorbar\":{\"outlinewidth\":0,\"ticks\":\"\"}},\"type\":\"scattercarpet\"}],\"scattergeo\":[{\"marker\":{\"colorbar\":{\"outlinewidth\":0,\"ticks\":\"\"}},\"type\":\"scattergeo\"}],\"scattergl\":[{\"marker\":{\"colorbar\":{\"outlinewidth\":0,\"ticks\":\"\"}},\"type\":\"scattergl\"}],\"scattermapbox\":[{\"marker\":{\"colorbar\":{\"outlinewidth\":0,\"ticks\":\"\"}},\"type\":\"scattermapbox\"}],\"scatterpolar\":[{\"marker\":{\"colorbar\":{\"outlinewidth\":0,\"ticks\":\"\"}},\"type\":\"scatterpolar\"}],\"scatterpolargl\":[{\"marker\":{\"colorbar\":{\"outlinewidth\":0,\"ticks\":\"\"}},\"type\":\"scatterpolargl\"}],\"scatterternary\":[{\"marker\":{\"colorbar\":{\"outlinewidth\":0,\"ticks\":\"\"}},\"type\":\"scatterternary\"}],\"surface\":[{\"colorbar\":{\"outlinewidth\":0,\"ticks\":\"\"},\"colorscale\":[[0.0,\"#0d0887\"],[0.1111111111111111,\"#46039f\"],[0.2222222222222222,\"#7201a8\"],[0.3333333333333333,\"#9c179e\"],[0.4444444444444444,\"#bd3786\"],[0.5555555555555556,\"#d8576b\"],[0.6666666666666666,\"#ed7953\"],[0.7777777777777778,\"#fb9f3a\"],[0.8888888888888888,\"#fdca26\"],[1.0,\"#f0f921\"]],\"type\":\"surface\"}],\"table\":[{\"cells\":{\"fill\":{\"color\":\"#EBF0F8\"},\"line\":{\"color\":\"white\"}},\"header\":{\"fill\":{\"color\":\"#C8D4E3\"},\"line\":{\"color\":\"white\"}},\"type\":\"table\"}]},\"layout\":{\"annotationdefaults\":{\"arrowcolor\":\"#2a3f5f\",\"arrowhead\":0,\"arrowwidth\":1},\"autotypenumbers\":\"strict\",\"coloraxis\":{\"colorbar\":{\"outlinewidth\":0,\"ticks\":\"\"}},\"colorscale\":{\"diverging\":[[0,\"#8e0152\"],[0.1,\"#c51b7d\"],[0.2,\"#de77ae\"],[0.3,\"#f1b6da\"],[0.4,\"#fde0ef\"],[0.5,\"#f7f7f7\"],[0.6,\"#e6f5d0\"],[0.7,\"#b8e186\"],[0.8,\"#7fbc41\"],[0.9,\"#4d9221\"],[1,\"#276419\"]],\"sequential\":[[0.0,\"#0d0887\"],[0.1111111111111111,\"#46039f\"],[0.2222222222222222,\"#7201a8\"],[0.3333333333333333,\"#9c179e\"],[0.4444444444444444,\"#bd3786\"],[0.5555555555555556,\"#d8576b\"],[0.6666666666666666,\"#ed7953\"],[0.7777777777777778,\"#fb9f3a\"],[0.8888888888888888,\"#fdca26\"],[1.0,\"#f0f921\"]],\"sequentialminus\":[[0.0,\"#0d0887\"],[0.1111111111111111,\"#46039f\"],[0.2222222222222222,\"#7201a8\"],[0.3333333333333333,\"#9c179e\"],[0.4444444444444444,\"#bd3786\"],[0.5555555555555556,\"#d8576b\"],[0.6666666666666666,\"#ed7953\"],[0.7777777777777778,\"#fb9f3a\"],[0.8888888888888888,\"#fdca26\"],[1.0,\"#f0f921\"]]},\"colorway\":[\"#636efa\",\"#EF553B\",\"#00cc96\",\"#ab63fa\",\"#FFA15A\",\"#19d3f3\",\"#FF6692\",\"#B6E880\",\"#FF97FF\",\"#FECB52\"],\"font\":{\"color\":\"#2a3f5f\"},\"geo\":{\"bgcolor\":\"white\",\"lakecolor\":\"white\",\"landcolor\":\"#E5ECF6\",\"showlakes\":true,\"showland\":true,\"subunitcolor\":\"white\"},\"hoverlabel\":{\"align\":\"left\"},\"hovermode\":\"closest\",\"mapbox\":{\"style\":\"light\"},\"paper_bgcolor\":\"white\",\"plot_bgcolor\":\"#E5ECF6\",\"polar\":{\"angularaxis\":{\"gridcolor\":\"white\",\"linecolor\":\"white\",\"ticks\":\"\"},\"bgcolor\":\"#E5ECF6\",\"radialaxis\":{\"gridcolor\":\"white\",\"linecolor\":\"white\",\"ticks\":\"\"}},\"scene\":{\"xaxis\":{\"backgroundcolor\":\"#E5ECF6\",\"gridcolor\":\"white\",\"gridwidth\":2,\"linecolor\":\"white\",\"showbackground\":true,\"ticks\":\"\",\"zerolinecolor\":\"white\"},\"yaxis\":{\"backgroundcolor\":\"#E5ECF6\",\"gridcolor\":\"white\",\"gridwidth\":2,\"linecolor\":\"white\",\"showbackground\":true,\"ticks\":\"\",\"zerolinecolor\":\"white\"},\"zaxis\":{\"backgroundcolor\":\"#E5ECF6\",\"gridcolor\":\"white\",\"gridwidth\":2,\"linecolor\":\"white\",\"showbackground\":true,\"ticks\":\"\",\"zerolinecolor\":\"white\"}},\"shapedefaults\":{\"line\":{\"color\":\"#2a3f5f\"}},\"ternary\":{\"aaxis\":{\"gridcolor\":\"white\",\"linecolor\":\"white\",\"ticks\":\"\"},\"baxis\":{\"gridcolor\":\"white\",\"linecolor\":\"white\",\"ticks\":\"\"},\"bgcolor\":\"#E5ECF6\",\"caxis\":{\"gridcolor\":\"white\",\"linecolor\":\"white\",\"ticks\":\"\"}},\"title\":{\"x\":0.05},\"xaxis\":{\"automargin\":true,\"gridcolor\":\"white\",\"linecolor\":\"white\",\"ticks\":\"\",\"title\":{\"standoff\":15},\"zerolinecolor\":\"white\",\"zerolinewidth\":2},\"yaxis\":{\"automargin\":true,\"gridcolor\":\"white\",\"linecolor\":\"white\",\"ticks\":\"\",\"title\":{\"standoff\":15},\"zerolinecolor\":\"white\",\"zerolinewidth\":2}}},\"mapbox\":{\"domain\":{\"x\":[0.0,1.0],\"y\":[0.0,1.0]},\"center\":{\"lat\":43.708840577642846,\"lon\":-79.4001855035},\"zoom\":4,\"style\":\"open-street-map\"},\"legend\":{\"title\":{\"text\":\"neighbourhood\"},\"tracegroupgap\":0,\"itemsizing\":\"constant\"},\"margin\":{\"t\":60}},                        {\"responsive\": true}                    ).then(function(){\n",
       "                            \n",
       "var gd = document.getElementById('63a2c9a3-1499-4cd3-8e43-ae1003360a23');\n",
       "var x = new MutationObserver(function (mutations, observer) {{\n",
       "        var display = window.getComputedStyle(gd).display;\n",
       "        if (!display || display === 'none') {{\n",
       "            console.log([gd, 'removed!']);\n",
       "            Plotly.purge(gd);\n",
       "            observer.disconnect();\n",
       "        }}\n",
       "}});\n",
       "\n",
       "// Listen for the removal of the full notebook cells\n",
       "var notebookContainer = gd.closest('#notebook-container');\n",
       "if (notebookContainer) {{\n",
       "    x.observe(notebookContainer, {childList: true});\n",
       "}}\n",
       "\n",
       "// Listen for the clearing of the current output cell\n",
       "var outputEl = gd.closest('.output');\n",
       "if (outputEl) {{\n",
       "    x.observe(outputEl, {childList: true});\n",
       "}}\n",
       "\n",
       "                        })                };                });            </script>        </div>"
      ]
     },
     "metadata": {},
     "output_type": "display_data"
    }
   ],
   "source": [
    "# Create a scatter mapbox to analyze neighbourhood info\n",
    "map_plot = px.scatter_mapbox(\n",
    "    meanHoods,\n",
    "    lat=\"lat\",\n",
    "    lon=\"lon\",\n",
    "    size=\"average_house_value\",\n",
    "    mapbox_style = \"open-street-map\",\n",
    "    color = \"neighbourhood\",\n",
    "    zoom=4\n",
    ")\n",
    "map_plot.show()"
   ]
  },
  {
   "cell_type": "markdown",
   "metadata": {},
   "source": [
    "- - -"
   ]
  },
  {
   "cell_type": "markdown",
   "metadata": {},
   "source": [
    "## Cost Analysis - Optional Challenge\n",
    "\n",
    "In this section, you will use Plotly express to a couple of plots that investors can interactively filter and explore various factors related to the house value of the Toronto's neighbourhoods. \n",
    "\n",
    "### Create a bar chart row facet to plot the average house values for all Toronto's neighbourhoods per year"
   ]
  },
  {
   "cell_type": "code",
   "execution_count": 54,
   "metadata": {},
   "outputs": [],
   "source": [
    "# YOUR CODE HERE!"
   ]
  },
  {
   "cell_type": "markdown",
   "metadata": {},
   "source": [
    "### Create a sunburst chart to conduct a costs analysis of most expensive neighbourhoods in Toronto per year"
   ]
  },
  {
   "cell_type": "code",
   "execution_count": 27,
   "metadata": {},
   "outputs": [],
   "source": [
    "# Fetch the data from all expensive neighbourhoods per year.\n",
    "# YOUR CODE HERE!"
   ]
  },
  {
   "cell_type": "code",
   "execution_count": 28,
   "metadata": {},
   "outputs": [],
   "source": [
    "# Create the sunburst chart\n",
    "# YOUR CODE HERE!"
   ]
  }
 ],
 "metadata": {
  "file_extension": ".py",
  "kernelspec": {
   "display_name": "Python [conda env:pyvizenv] *",
   "language": "python",
   "name": "conda-env-pyvizenv-py"
  },
  "language_info": {
   "codemirror_mode": {
    "name": "ipython",
    "version": 3
   },
   "file_extension": ".py",
   "mimetype": "text/x-python",
   "name": "python",
   "nbconvert_exporter": "python",
   "pygments_lexer": "ipython3",
   "version": "3.7.11"
  },
  "mimetype": "text/x-python",
  "name": "python",
  "npconvert_exporter": "python",
  "pygments_lexer": "ipython3",
  "version": 3
 },
 "nbformat": 4,
 "nbformat_minor": 4
}
